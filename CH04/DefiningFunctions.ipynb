{
 "cells": [
  {
   "cell_type": "code",
   "id": "initial_id",
   "metadata": {
    "collapsed": true,
    "ExecuteTime": {
     "end_time": "2025-09-20T23:43:46.070942Z",
     "start_time": "2025-09-20T23:43:46.069011Z"
    }
   },
   "source": [
    "def square(number):\n",
    "    \"\"\"Calculate the square of a number.\"\"\"\n",
    "    return number ** 2"
   ],
   "outputs": [],
   "execution_count": 1
  },
  {
   "metadata": {
    "ExecuteTime": {
     "end_time": "2025-09-20T23:43:46.816397Z",
     "start_time": "2025-09-20T23:43:46.813400Z"
    }
   },
   "cell_type": "code",
   "source": "square(7)",
   "id": "5eea0dff3a218ec5",
   "outputs": [
    {
     "data": {
      "text/plain": [
       "49"
      ]
     },
     "execution_count": 2,
     "metadata": {},
     "output_type": "execute_result"
    }
   ],
   "execution_count": 2
  },
  {
   "metadata": {
    "ExecuteTime": {
     "end_time": "2025-05-18T20:33:01.252930Z",
     "start_time": "2025-05-18T20:33:01.250178Z"
    }
   },
   "cell_type": "code",
   "source": "square(5.5)",
   "id": "f844ac794bf8cb86",
   "outputs": [
    {
     "data": {
      "text/plain": [
       "30.25"
      ]
     },
     "execution_count": 3,
     "metadata": {},
     "output_type": "execute_result"
    }
   ],
   "execution_count": 3
  },
  {
   "metadata": {
    "ExecuteTime": {
     "end_time": "2025-05-18T20:37:29.260047Z",
     "start_time": "2025-05-18T20:37:29.258039Z"
    }
   },
   "cell_type": "code",
   "source": "print(\"The square of 7 is\", square(7))",
   "id": "1aacd0920c4413d1",
   "outputs": [
    {
     "name": "stdout",
     "output_type": "stream",
     "text": [
      "The square of 7 is 49\n"
     ]
    }
   ],
   "execution_count": 4
  },
  {
   "metadata": {
    "ExecuteTime": {
     "end_time": "2025-05-18T20:40:21.164573Z",
     "start_time": "2025-05-18T20:40:21.145583Z"
    }
   },
   "cell_type": "code",
   "source": "square?",
   "id": "79ef89b1f27caedd",
   "outputs": [],
   "execution_count": 5
  },
  {
   "metadata": {
    "ExecuteTime": {
     "end_time": "2025-05-18T20:44:08.310080Z",
     "start_time": "2025-05-18T20:44:08.306825Z"
    }
   },
   "cell_type": "code",
   "source": "square??",
   "id": "a883c06bc4e5cc9c",
   "outputs": [],
   "execution_count": 8
  },
  {
   "metadata": {
    "ExecuteTime": {
     "end_time": "2025-09-21T01:10:00.466532Z",
     "start_time": "2025-09-21T01:10:00.464373Z"
    }
   },
   "cell_type": "code",
   "source": [
    "def maximum(x, y, z):\n",
    "    \"\"\"Return the maximum of three values.\"\"\"\n",
    "    max_value = x\n",
    "    if max_value < y:\n",
    "        max_value = y\n",
    "    if max_value < z:\n",
    "        max_value = z\n",
    "    return max_value"
   ],
   "id": "5cdd19495882452d",
   "outputs": [],
   "execution_count": 3
  },
  {
   "metadata": {
    "ExecuteTime": {
     "end_time": "2025-09-21T01:10:02.203493Z",
     "start_time": "2025-09-21T01:10:02.200747Z"
    }
   },
   "cell_type": "code",
   "source": "maximum(1, 2, 3)",
   "id": "6b61a3896399abc5",
   "outputs": [
    {
     "data": {
      "text/plain": [
       "3"
      ]
     },
     "execution_count": 4,
     "metadata": {},
     "output_type": "execute_result"
    }
   ],
   "execution_count": 4
  },
  {
   "metadata": {
    "ExecuteTime": {
     "end_time": "2025-09-21T01:10:03.705079Z",
     "start_time": "2025-09-21T01:10:03.702088Z"
    }
   },
   "cell_type": "code",
   "source": "maximum(2.2, 3.3, 1.1)",
   "id": "2eaaff028d28a404",
   "outputs": [
    {
     "data": {
      "text/plain": [
       "3.3"
      ]
     },
     "execution_count": 5,
     "metadata": {},
     "output_type": "execute_result"
    }
   ],
   "execution_count": 5
  },
  {
   "metadata": {
    "ExecuteTime": {
     "end_time": "2025-05-18T20:47:16.995684Z",
     "start_time": "2025-05-18T20:47:16.992806Z"
    }
   },
   "cell_type": "code",
   "source": "maximum(\"Hola\", \"Crayola\", \"Saludos\")",
   "id": "caba850052012678",
   "outputs": [
    {
     "data": {
      "text/plain": [
       "'Saludos'"
      ]
     },
     "execution_count": 15,
     "metadata": {},
     "output_type": "execute_result"
    }
   ],
   "execution_count": 15
  },
  {
   "metadata": {
    "ExecuteTime": {
     "end_time": "2025-05-18T20:49:56.923546Z",
     "start_time": "2025-05-18T20:49:56.920527Z"
    }
   },
   "cell_type": "code",
   "source": "maximum(13.5, -7, 20)",
   "id": "ffa2cf445d568f63",
   "outputs": [
    {
     "data": {
      "text/plain": [
       "20"
      ]
     },
     "execution_count": 17,
     "metadata": {},
     "output_type": "execute_result"
    }
   ],
   "execution_count": 17
  },
  {
   "metadata": {
    "ExecuteTime": {
     "end_time": "2025-05-18T20:50:13.434570Z",
     "start_time": "2025-05-18T20:50:13.431767Z"
    }
   },
   "cell_type": "code",
   "source": "max([14,25,46,76])",
   "id": "54d964e824b4195a",
   "outputs": [
    {
     "data": {
      "text/plain": [
       "76"
      ]
     },
     "execution_count": 19,
     "metadata": {},
     "output_type": "execute_result"
    }
   ],
   "execution_count": 19
  },
  {
   "metadata": {
    "ExecuteTime": {
     "end_time": "2025-05-18T20:50:17.652941Z",
     "start_time": "2025-05-18T20:50:17.649189Z"
    }
   },
   "cell_type": "code",
   "source": "min(\"Orange\")",
   "id": "200339939ac97357",
   "outputs": [
    {
     "data": {
      "text/plain": [
       "'O'"
      ]
     },
     "execution_count": 20,
     "metadata": {},
     "output_type": "execute_result"
    }
   ],
   "execution_count": 20
  }
 ],
 "metadata": {
  "kernelspec": {
   "display_name": "Python 3",
   "language": "python",
   "name": "python3"
  },
  "language_info": {
   "codemirror_mode": {
    "name": "ipython",
    "version": 2
   },
   "file_extension": ".py",
   "mimetype": "text/x-python",
   "name": "python",
   "nbconvert_exporter": "python",
   "pygments_lexer": "ipython2",
   "version": "2.7.6"
  }
 },
 "nbformat": 4,
 "nbformat_minor": 5
}
