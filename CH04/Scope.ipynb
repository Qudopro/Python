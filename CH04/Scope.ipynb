{
 "cells": [
  {
   "metadata": {
    "ExecuteTime": {
     "end_time": "2025-05-18T23:03:19.465096Z",
     "start_time": "2025-05-18T23:03:19.463056Z"
    }
   },
   "cell_type": "code",
   "source": "x = 7",
   "id": "4e673fb652bc8cf3",
   "outputs": [],
   "execution_count": 1
  },
  {
   "metadata": {
    "ExecuteTime": {
     "end_time": "2025-05-18T23:03:54.463535Z",
     "start_time": "2025-05-18T23:03:54.461263Z"
    }
   },
   "cell_type": "code",
   "source": [
    "def access_global():\n",
    "    print(\"x printed from access global\", x)"
   ],
   "id": "667bd20263bc18c2",
   "outputs": [],
   "execution_count": 4
  },
  {
   "metadata": {
    "ExecuteTime": {
     "end_time": "2025-05-18T23:04:30.563896Z",
     "start_time": "2025-05-18T23:04:30.561187Z"
    }
   },
   "cell_type": "code",
   "source": "access_global()",
   "id": "a222215c8ba500b5",
   "outputs": [
    {
     "name": "stdout",
     "output_type": "stream",
     "text": [
      "x printed from access global 7\n"
     ]
    }
   ],
   "execution_count": 6
  },
  {
   "metadata": {
    "ExecuteTime": {
     "end_time": "2025-05-18T23:04:47.286821Z",
     "start_time": "2025-05-18T23:04:47.284398Z"
    }
   },
   "cell_type": "code",
   "source": [
    "def try_to_modify_global():\n",
    "    x = 32.3\n",
    "    print(\"x printed from try to modify global\", x)"
   ],
   "id": "e5df238e9c4f7530",
   "outputs": [],
   "execution_count": 7
  },
  {
   "metadata": {
    "ExecuteTime": {
     "end_time": "2025-05-18T23:05:09.442975Z",
     "start_time": "2025-05-18T23:05:09.440754Z"
    }
   },
   "cell_type": "code",
   "source": "try_to_modify_global()",
   "id": "6147e07a2635be59",
   "outputs": [
    {
     "name": "stdout",
     "output_type": "stream",
     "text": [
      "x printed from try to modify global 32.3\n"
     ]
    }
   ],
   "execution_count": 9
  },
  {
   "metadata": {
    "ExecuteTime": {
     "end_time": "2025-05-18T23:05:35.136123Z",
     "start_time": "2025-05-18T23:05:35.133384Z"
    }
   },
   "cell_type": "code",
   "source": "x",
   "id": "748cd987177f2370",
   "outputs": [
    {
     "data": {
      "text/plain": [
       "7"
      ]
     },
     "execution_count": 11,
     "metadata": {},
     "output_type": "execute_result"
    }
   ],
   "execution_count": 11
  },
  {
   "metadata": {
    "ExecuteTime": {
     "end_time": "2025-05-18T23:06:33.582734Z",
     "start_time": "2025-05-18T23:06:33.580312Z"
    }
   },
   "cell_type": "code",
   "source": [
    "def modify_global():\n",
    "    global x\n",
    "    x = \"Hello\"\n",
    "    print(\"x printed from modify global\", x)"
   ],
   "id": "e0a319d4fbd7eb0d",
   "outputs": [],
   "execution_count": 12
  },
  {
   "metadata": {
    "ExecuteTime": {
     "end_time": "2025-05-18T23:06:54.295043Z",
     "start_time": "2025-05-18T23:06:54.292413Z"
    }
   },
   "cell_type": "code",
   "source": "modify_global()",
   "id": "4dfc01c8eec3e797",
   "outputs": [
    {
     "name": "stdout",
     "output_type": "stream",
     "text": [
      "x printed from modify global Hello\n"
     ]
    }
   ],
   "execution_count": 15
  },
  {
   "metadata": {
    "ExecuteTime": {
     "end_time": "2025-05-18T23:06:58.564819Z",
     "start_time": "2025-05-18T23:06:58.562154Z"
    }
   },
   "cell_type": "code",
   "source": "x",
   "id": "2157ed86ac0ce57f",
   "outputs": [
    {
     "data": {
      "text/plain": [
       "'Hello'"
      ]
     },
     "execution_count": 16,
     "metadata": {},
     "output_type": "execute_result"
    }
   ],
   "execution_count": 16
  },
  {
   "metadata": {},
   "cell_type": "code",
   "outputs": [],
   "execution_count": null,
   "source": "",
   "id": "73aed3fdcad19c97"
  }
 ],
 "metadata": {
  "kernelspec": {
   "display_name": "Python 3",
   "language": "python",
   "name": "python3"
  },
  "language_info": {
   "codemirror_mode": {
    "name": "ipython",
    "version": 2
   },
   "file_extension": ".py",
   "mimetype": "text/x-python",
   "name": "python",
   "nbconvert_exporter": "python",
   "pygments_lexer": "ipython2",
   "version": "2.7.6"
  }
 },
 "nbformat": 4,
 "nbformat_minor": 5
}
