{
 "cells": [
  {
   "cell_type": "code",
   "id": "initial_id",
   "metadata": {
    "collapsed": true,
    "ExecuteTime": {
     "end_time": "2025-09-21T01:46:12.171939Z",
     "start_time": "2025-09-21T01:46:12.168844Z"
    }
   },
   "source": "import random",
   "outputs": [],
   "execution_count": 4
  },
  {
   "metadata": {
    "ExecuteTime": {
     "end_time": "2025-09-21T01:46:13.088540Z",
     "start_time": "2025-09-21T01:46:13.086040Z"
    }
   },
   "cell_type": "code",
   "source": [
    "for roll in range(10):\n",
    "    print(random.randrange(1,7), end=\" \")"
   ],
   "id": "3433783d7351a124",
   "outputs": [
    {
     "name": "stdout",
     "output_type": "stream",
     "text": [
      "6 1 2 5 1 2 2 5 1 5 "
     ]
    }
   ],
   "execution_count": 5
  },
  {
   "metadata": {
    "ExecuteTime": {
     "end_time": "2025-09-21T01:46:23.460137Z",
     "start_time": "2025-09-21T01:46:23.457538Z"
    }
   },
   "cell_type": "code",
   "source": [
    "random.seed(32)\n",
    "\n",
    "for roll in range(10):\n",
    "    print(random.randrange(1,7), end=\" \")"
   ],
   "id": "10e9f1dfd818c171",
   "outputs": [
    {
     "name": "stdout",
     "output_type": "stream",
     "text": [
      "1 2 2 3 6 2 4 1 6 1 "
     ]
    }
   ],
   "execution_count": 13
  },
  {
   "metadata": {
    "ExecuteTime": {
     "end_time": "2025-05-18T21:02:33.075924Z",
     "start_time": "2025-05-18T21:02:33.073791Z"
    }
   },
   "cell_type": "code",
   "source": [
    "for roll in range(10):\n",
    "    print(random.randrange(1,7), end=\" \")"
   ],
   "id": "51bbeadf09b7cfb5",
   "outputs": [
    {
     "name": "stdout",
     "output_type": "stream",
     "text": [
      "1 3 5 3 1 5 6 4 3 5 "
     ]
    }
   ],
   "execution_count": 8
  },
  {
   "metadata": {
    "ExecuteTime": {
     "end_time": "2025-05-18T21:02:45.352724Z",
     "start_time": "2025-05-18T21:02:45.350296Z"
    }
   },
   "cell_type": "code",
   "source": [
    "random.seed(32)\n",
    "for roll in range(10):\n",
    "    print(random.randrange(1,7), end=\" \")"
   ],
   "id": "c3773b238f5c4850",
   "outputs": [
    {
     "name": "stdout",
     "output_type": "stream",
     "text": [
      "1 2 2 3 6 2 4 1 6 1 "
     ]
    }
   ],
   "execution_count": 9
  },
  {
   "metadata": {},
   "cell_type": "code",
   "outputs": [],
   "execution_count": null,
   "source": "",
   "id": "6ee45a4e7e49a809"
  }
 ],
 "metadata": {
  "kernelspec": {
   "display_name": "Python 3",
   "language": "python",
   "name": "python3"
  },
  "language_info": {
   "codemirror_mode": {
    "name": "ipython",
    "version": 2
   },
   "file_extension": ".py",
   "mimetype": "text/x-python",
   "name": "python",
   "nbconvert_exporter": "python",
   "pygments_lexer": "ipython2",
   "version": "2.7.6"
  }
 },
 "nbformat": 4,
 "nbformat_minor": 5
}
