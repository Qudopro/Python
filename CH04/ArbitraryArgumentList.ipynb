{
 "cells": [
  {
   "cell_type": "code",
   "id": "initial_id",
   "metadata": {
    "collapsed": true,
    "ExecuteTime": {
     "end_time": "2025-05-18T22:54:41.213736Z",
     "start_time": "2025-05-18T22:54:41.211483Z"
    }
   },
   "source": [
    "def average(*args):\n",
    "    return sum(args) / len(args)"
   ],
   "outputs": [],
   "execution_count": 2
  },
  {
   "metadata": {
    "ExecuteTime": {
     "end_time": "2025-05-18T22:54:50.142328Z",
     "start_time": "2025-05-18T22:54:50.139509Z"
    }
   },
   "cell_type": "code",
   "source": "average(3,5)",
   "id": "d698bf846fb34c2c",
   "outputs": [
    {
     "data": {
      "text/plain": [
       "4.0"
      ]
     },
     "execution_count": 4,
     "metadata": {},
     "output_type": "execute_result"
    }
   ],
   "execution_count": 4
  },
  {
   "metadata": {
    "ExecuteTime": {
     "end_time": "2025-05-18T22:56:22.180726Z",
     "start_time": "2025-05-18T22:56:22.177987Z"
    }
   },
   "cell_type": "code",
   "source": "average(1,2,3,4)",
   "id": "4c7ef134c39078d5",
   "outputs": [
    {
     "data": {
      "text/plain": [
       "2.5"
      ]
     },
     "execution_count": 6,
     "metadata": {},
     "output_type": "execute_result"
    }
   ],
   "execution_count": 6
  },
  {
   "metadata": {
    "ExecuteTime": {
     "end_time": "2025-05-18T22:56:33.098134Z",
     "start_time": "2025-05-18T22:56:33.095318Z"
    }
   },
   "cell_type": "code",
   "source": [
    "grades = [43,32,32,43,54,67]\n",
    "average(*grades)"
   ],
   "id": "94ad4b6de43a7086",
   "outputs": [
    {
     "data": {
      "text/plain": [
       "45.166666666666664"
      ]
     },
     "execution_count": 7,
     "metadata": {},
     "output_type": "execute_result"
    }
   ],
   "execution_count": 7
  }
 ],
 "metadata": {
  "kernelspec": {
   "display_name": "Python 3",
   "language": "python",
   "name": "python3"
  },
  "language_info": {
   "codemirror_mode": {
    "name": "ipython",
    "version": 2
   },
   "file_extension": ".py",
   "mimetype": "text/x-python",
   "name": "python",
   "nbconvert_exporter": "python",
   "pygments_lexer": "ipython2",
   "version": "2.7.6"
  }
 },
 "nbformat": 4,
 "nbformat_minor": 5
}
