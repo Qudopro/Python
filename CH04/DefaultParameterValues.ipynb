{
 "cells": [
  {
   "cell_type": "code",
   "id": "initial_id",
   "metadata": {
    "collapsed": true,
    "ExecuteTime": {
     "end_time": "2025-05-18T22:06:30.865950Z",
     "start_time": "2025-05-18T22:06:30.863920Z"
    }
   },
   "source": [
    "def rectangle_area(length=2, width=3):\n",
    "    \"\"\"Return the area of a rectangle.\"\"\"\n",
    "    return length * width"
   ],
   "outputs": [],
   "execution_count": 1
  },
  {
   "metadata": {
    "ExecuteTime": {
     "end_time": "2025-05-18T22:06:41.206845Z",
     "start_time": "2025-05-18T22:06:41.202345Z"
    }
   },
   "cell_type": "code",
   "source": "rectangle_area()",
   "id": "73e304989ce408",
   "outputs": [
    {
     "data": {
      "text/plain": [
       "6"
      ]
     },
     "execution_count": 2,
     "metadata": {},
     "output_type": "execute_result"
    }
   ],
   "execution_count": 2
  },
  {
   "metadata": {
    "ExecuteTime": {
     "end_time": "2025-05-18T22:07:54.664275Z",
     "start_time": "2025-05-18T22:07:54.661662Z"
    }
   },
   "cell_type": "code",
   "source": "rectangle_area(10)",
   "id": "ef51d819a5947286",
   "outputs": [
    {
     "data": {
      "text/plain": [
       "30"
      ]
     },
     "execution_count": 4,
     "metadata": {},
     "output_type": "execute_result"
    }
   ],
   "execution_count": 4
  },
  {
   "metadata": {
    "ExecuteTime": {
     "end_time": "2025-05-18T22:07:56.991753Z",
     "start_time": "2025-05-18T22:07:56.988543Z"
    }
   },
   "cell_type": "code",
   "source": "rectangle_area(20, 30)",
   "id": "14eba1be302d85db",
   "outputs": [
    {
     "data": {
      "text/plain": [
       "600"
      ]
     },
     "execution_count": 5,
     "metadata": {},
     "output_type": "execute_result"
    }
   ],
   "execution_count": 5
  }
 ],
 "metadata": {
  "kernelspec": {
   "display_name": "Python 3",
   "language": "python",
   "name": "python3"
  },
  "language_info": {
   "codemirror_mode": {
    "name": "ipython",
    "version": 2
   },
   "file_extension": ".py",
   "mimetype": "text/x-python",
   "name": "python",
   "nbconvert_exporter": "python",
   "pygments_lexer": "ipython2",
   "version": "2.7.6"
  }
 },
 "nbformat": 4,
 "nbformat_minor": 5
}
