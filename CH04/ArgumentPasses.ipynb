{
 "cells": [
  {
   "cell_type": "code",
   "id": "initial_id",
   "metadata": {
    "collapsed": true,
    "ExecuteTime": {
     "end_time": "2025-05-18T23:18:40.739788Z",
     "start_time": "2025-05-18T23:18:40.737910Z"
    }
   },
   "source": "x = 7",
   "outputs": [],
   "execution_count": 1
  },
  {
   "metadata": {
    "ExecuteTime": {
     "end_time": "2025-05-18T23:19:28.050492Z",
     "start_time": "2025-05-18T23:19:28.047592Z"
    }
   },
   "cell_type": "code",
   "source": "id(x)",
   "id": "c51771be6a2c18ea",
   "outputs": [
    {
     "data": {
      "text/plain": [
       "4356467480"
      ]
     },
     "execution_count": 3,
     "metadata": {},
     "output_type": "execute_result"
    }
   ],
   "execution_count": 3
  },
  {
   "metadata": {
    "ExecuteTime": {
     "end_time": "2025-05-18T23:21:42.578323Z",
     "start_time": "2025-05-18T23:21:42.575145Z"
    }
   },
   "cell_type": "code",
   "source": [
    "def cube(number):\n",
    "    print(\"id(number):\", id(number))\n",
    "    print(\"number is x:\", number is x)\n",
    "    return number**3"
   ],
   "id": "1a2928ebb74ea28d",
   "outputs": [],
   "execution_count": 11
  },
  {
   "metadata": {
    "ExecuteTime": {
     "end_time": "2025-05-18T23:21:43.585511Z",
     "start_time": "2025-05-18T23:21:43.581787Z"
    }
   },
   "cell_type": "code",
   "source": "cube(x)",
   "id": "8fa54d4a330e6fb9",
   "outputs": [
    {
     "name": "stdout",
     "output_type": "stream",
     "text": [
      "id(number): 4356467480\n",
      "number is x: True\n"
     ]
    },
    {
     "data": {
      "text/plain": [
       "343"
      ]
     },
     "execution_count": 12,
     "metadata": {},
     "output_type": "execute_result"
    }
   ],
   "execution_count": 12
  },
  {
   "metadata": {
    "ExecuteTime": {
     "end_time": "2025-05-18T23:21:18.095477Z",
     "start_time": "2025-05-18T23:21:18.092787Z"
    }
   },
   "cell_type": "code",
   "source": "x",
   "id": "16a54136e5add260",
   "outputs": [
    {
     "data": {
      "text/plain": [
       "7"
      ]
     },
     "execution_count": 9,
     "metadata": {},
     "output_type": "execute_result"
    }
   ],
   "execution_count": 9
  },
  {
   "metadata": {
    "ExecuteTime": {
     "end_time": "2025-05-18T23:23:21.605790Z",
     "start_time": "2025-05-18T23:23:21.603392Z"
    }
   },
   "cell_type": "code",
   "source": [
    "def square(number):\n",
    "    print(\"id(number) before modifying number:\", id(number))\n",
    "    number **= 2\n",
    "    print(\"id(number) after modifying number:\", id(number))\n",
    "    return number"
   ],
   "id": "3eb27820224995f1",
   "outputs": [],
   "execution_count": 13
  },
  {
   "metadata": {
    "ExecuteTime": {
     "end_time": "2025-05-18T23:23:25.871691Z",
     "start_time": "2025-05-18T23:23:25.867879Z"
    }
   },
   "cell_type": "code",
   "source": "square(x)",
   "id": "90ec7e16f3010468",
   "outputs": [
    {
     "name": "stdout",
     "output_type": "stream",
     "text": [
      "id(number) before modifying number: 4356467480\n",
      "id(number) after modifying number: 4356468824\n"
     ]
    },
    {
     "data": {
      "text/plain": [
       "49"
      ]
     },
     "execution_count": 14,
     "metadata": {},
     "output_type": "execute_result"
    }
   ],
   "execution_count": 14
  }
 ],
 "metadata": {
  "kernelspec": {
   "display_name": "Python 3",
   "language": "python",
   "name": "python3"
  },
  "language_info": {
   "codemirror_mode": {
    "name": "ipython",
    "version": 2
   },
   "file_extension": ".py",
   "mimetype": "text/x-python",
   "name": "python",
   "nbconvert_exporter": "python",
   "pygments_lexer": "ipython2",
   "version": "2.7.6"
  }
 },
 "nbformat": 4,
 "nbformat_minor": 5
}
