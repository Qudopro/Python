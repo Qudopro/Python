{
 "cells": [
  {
   "cell_type": "code",
   "id": "initial_id",
   "metadata": {
    "collapsed": true,
    "ExecuteTime": {
     "end_time": "2025-05-18T23:10:24.934190Z",
     "start_time": "2025-05-18T23:10:24.932037Z"
    }
   },
   "source": "from math import ceil, floor",
   "outputs": [],
   "execution_count": 1
  },
  {
   "metadata": {
    "ExecuteTime": {
     "end_time": "2025-05-18T23:10:32.150477Z",
     "start_time": "2025-05-18T23:10:32.147431Z"
    }
   },
   "cell_type": "code",
   "source": "ceil(10.3)",
   "id": "8c23ef3885e33953",
   "outputs": [
    {
     "data": {
      "text/plain": [
       "11"
      ]
     },
     "execution_count": 3,
     "metadata": {},
     "output_type": "execute_result"
    }
   ],
   "execution_count": 3
  },
  {
   "metadata": {
    "ExecuteTime": {
     "end_time": "2025-05-18T23:11:49.376716Z",
     "start_time": "2025-05-18T23:11:49.374090Z"
    }
   },
   "cell_type": "code",
   "source": "floor(10.3)",
   "id": "cadfcb1bbe5cd197",
   "outputs": [
    {
     "data": {
      "text/plain": [
       "10"
      ]
     },
     "execution_count": 5,
     "metadata": {},
     "output_type": "execute_result"
    }
   ],
   "execution_count": 5
  },
  {
   "metadata": {
    "ExecuteTime": {
     "end_time": "2025-05-18T23:11:56.534626Z",
     "start_time": "2025-05-18T23:11:56.506932Z"
    }
   },
   "cell_type": "code",
   "source": "import statistics as stat",
   "id": "6c754151727ab485",
   "outputs": [],
   "execution_count": 6
  },
  {
   "metadata": {
    "ExecuteTime": {
     "end_time": "2025-05-18T23:12:19.853126Z",
     "start_time": "2025-05-18T23:12:19.849799Z"
    }
   },
   "cell_type": "code",
   "source": [
    "grades = [85,93, 45, 87, 93]\n",
    "stat.mean(grades)"
   ],
   "id": "6ae93d003258648f",
   "outputs": [
    {
     "data": {
      "text/plain": [
       "80.6"
      ]
     },
     "execution_count": 8,
     "metadata": {},
     "output_type": "execute_result"
    }
   ],
   "execution_count": 8
  }
 ],
 "metadata": {
  "kernelspec": {
   "display_name": "Python 3",
   "language": "python",
   "name": "python3"
  },
  "language_info": {
   "codemirror_mode": {
    "name": "ipython",
    "version": 2
   },
   "file_extension": ".py",
   "mimetype": "text/x-python",
   "name": "python",
   "nbconvert_exporter": "python",
   "pygments_lexer": "ipython2",
   "version": "2.7.6"
  }
 },
 "nbformat": 4,
 "nbformat_minor": 5
}
