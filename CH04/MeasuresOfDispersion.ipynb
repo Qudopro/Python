{
 "cells": [
  {
   "cell_type": "code",
   "id": "initial_id",
   "metadata": {
    "collapsed": true,
    "ExecuteTime": {
     "end_time": "2025-09-23T04:09:33.026648Z",
     "start_time": "2025-09-23T04:09:33.024684Z"
    }
   },
   "source": "values = [1,3,4,2,6,5,3,4,5,2]",
   "outputs": [],
   "execution_count": 2
  },
  {
   "metadata": {
    "ExecuteTime": {
     "end_time": "2025-09-23T04:09:34.414881Z",
     "start_time": "2025-09-23T04:09:34.411705Z"
    }
   },
   "cell_type": "code",
   "source": "sum(values)",
   "id": "5a610cb6d512f5f",
   "outputs": [
    {
     "data": {
      "text/plain": [
       "35"
      ]
     },
     "execution_count": 3,
     "metadata": {},
     "output_type": "execute_result"
    }
   ],
   "execution_count": 3
  },
  {
   "metadata": {
    "ExecuteTime": {
     "end_time": "2025-05-19T00:55:41.509703Z",
     "start_time": "2025-05-19T00:55:41.507294Z"
    }
   },
   "cell_type": "code",
   "source": "average = sum(values) / len(values)",
   "id": "fda9cab289a1c65f",
   "outputs": [],
   "execution_count": 5
  },
  {
   "metadata": {
    "ExecuteTime": {
     "end_time": "2025-05-19T00:55:45.752578Z",
     "start_time": "2025-05-19T00:55:45.749802Z"
    }
   },
   "cell_type": "code",
   "source": "average",
   "id": "5e1b9aa616b66e27",
   "outputs": [
    {
     "data": {
      "text/plain": [
       "3.5"
      ]
     },
     "execution_count": 6,
     "metadata": {},
     "output_type": "execute_result"
    }
   ],
   "execution_count": 6
  },
  {
   "metadata": {
    "ExecuteTime": {
     "end_time": "2025-05-19T00:57:36.659058Z",
     "start_time": "2025-05-19T00:57:36.656460Z"
    }
   },
   "cell_type": "code",
   "source": [
    "listValues = []\n",
    "for value in values:\n",
    "    value -= average\n",
    "    listValues.append(value)"
   ],
   "id": "3de06c597f173d4b",
   "outputs": [],
   "execution_count": 10
  },
  {
   "metadata": {
    "ExecuteTime": {
     "end_time": "2025-05-19T00:57:43.611918Z",
     "start_time": "2025-05-19T00:57:43.608146Z"
    }
   },
   "cell_type": "code",
   "source": "listValues",
   "id": "d9e1e098ad075f8d",
   "outputs": [
    {
     "data": {
      "text/plain": [
       "[-2.5, -0.5, 0.5, -1.5, 2.5, 1.5, -0.5, 0.5, 1.5, -1.5]"
      ]
     },
     "execution_count": 11,
     "metadata": {},
     "output_type": "execute_result"
    }
   ],
   "execution_count": 11
  },
  {
   "metadata": {
    "ExecuteTime": {
     "end_time": "2025-05-19T00:58:38.492453Z",
     "start_time": "2025-05-19T00:58:38.490100Z"
    }
   },
   "cell_type": "code",
   "source": [
    "listValuesSquare = []\n",
    "for value in listValues:\n",
    "    value **= 2\n",
    "    listValuesSquare.append(value)"
   ],
   "id": "7a14802b2c5b04c1",
   "outputs": [],
   "execution_count": 12
  },
  {
   "metadata": {
    "ExecuteTime": {
     "end_time": "2025-05-19T00:58:43.593185Z",
     "start_time": "2025-05-19T00:58:43.589934Z"
    }
   },
   "cell_type": "code",
   "source": "listValuesSquare",
   "id": "4817c0939f3aadee",
   "outputs": [
    {
     "data": {
      "text/plain": [
       "[6.25, 0.25, 0.25, 2.25, 6.25, 2.25, 0.25, 0.25, 2.25, 2.25]"
      ]
     },
     "execution_count": 13,
     "metadata": {},
     "output_type": "execute_result"
    }
   ],
   "execution_count": 13
  },
  {
   "metadata": {
    "ExecuteTime": {
     "end_time": "2025-05-19T00:59:07.558104Z",
     "start_time": "2025-05-19T00:59:07.555965Z"
    }
   },
   "cell_type": "code",
   "source": "newAverage = sum(listValuesSquare) / len(listValuesSquare)",
   "id": "ad4f6b641cacc8",
   "outputs": [],
   "execution_count": 14
  },
  {
   "metadata": {
    "ExecuteTime": {
     "end_time": "2025-05-19T01:02:59.980906Z",
     "start_time": "2025-05-19T01:02:59.977701Z"
    }
   },
   "cell_type": "code",
   "source": "newAverage          #Population variance",
   "id": "3a4c3b95f01e74ab",
   "outputs": [
    {
     "data": {
      "text/plain": [
       "2.25"
      ]
     },
     "execution_count": 18,
     "metadata": {},
     "output_type": "execute_result"
    }
   ],
   "execution_count": 18
  },
  {
   "metadata": {
    "ExecuteTime": {
     "end_time": "2025-09-23T04:09:43.875280Z",
     "start_time": "2025-09-23T04:09:43.805309Z"
    }
   },
   "cell_type": "code",
   "source": [
    "deviation = newAverage ** (1/2)\n",
    "deviation"
   ],
   "id": "6cd8024ae3d3a2e3",
   "outputs": [
    {
     "ename": "NameError",
     "evalue": "name 'newAverage' is not defined",
     "output_type": "error",
     "traceback": [
      "\u001B[31m---------------------------------------------------------------------------\u001B[39m",
      "\u001B[31mNameError\u001B[39m                                 Traceback (most recent call last)",
      "\u001B[36mCell\u001B[39m\u001B[36m \u001B[39m\u001B[32mIn[4]\u001B[39m\u001B[32m, line 1\u001B[39m\n\u001B[32m----> \u001B[39m\u001B[32m1\u001B[39m deviation = \u001B[43mnewAverage\u001B[49m ** (\u001B[32m1\u001B[39m/\u001B[32m2\u001B[39m)\n\u001B[32m      2\u001B[39m deviation\n",
      "\u001B[31mNameError\u001B[39m: name 'newAverage' is not defined"
     ]
    }
   ],
   "execution_count": 4
  },
  {
   "metadata": {
    "ExecuteTime": {
     "end_time": "2025-09-23T04:09:47.839423Z",
     "start_time": "2025-09-23T04:09:47.812255Z"
    }
   },
   "cell_type": "code",
   "source": "import statistics as stats",
   "id": "d0d78fe10f61d15d",
   "outputs": [],
   "execution_count": 5
  },
  {
   "metadata": {
    "ExecuteTime": {
     "end_time": "2025-09-23T04:09:48.934388Z",
     "start_time": "2025-09-23T04:09:48.931758Z"
    }
   },
   "cell_type": "code",
   "source": "stats.pvariance(values)",
   "id": "56a8b3756129793a",
   "outputs": [
    {
     "data": {
      "text/plain": [
       "2.25"
      ]
     },
     "execution_count": 6,
     "metadata": {},
     "output_type": "execute_result"
    }
   ],
   "execution_count": 6
  },
  {
   "metadata": {
    "ExecuteTime": {
     "end_time": "2025-09-23T04:15:35.803995Z",
     "start_time": "2025-09-23T04:15:35.801269Z"
    }
   },
   "cell_type": "code",
   "source": "stats.pstdev(values)",
   "id": "fbf271b6c19b20c7",
   "outputs": [
    {
     "data": {
      "text/plain": [
       "1.5"
      ]
     },
     "execution_count": 7,
     "metadata": {},
     "output_type": "execute_result"
    }
   ],
   "execution_count": 7
  }
 ],
 "metadata": {
  "kernelspec": {
   "display_name": "Python 3",
   "language": "python",
   "name": "python3"
  },
  "language_info": {
   "codemirror_mode": {
    "name": "ipython",
    "version": 2
   },
   "file_extension": ".py",
   "mimetype": "text/x-python",
   "name": "python",
   "nbconvert_exporter": "python",
   "pygments_lexer": "ipython2",
   "version": "2.7.6"
  }
 },
 "nbformat": 4,
 "nbformat_minor": 5
}
