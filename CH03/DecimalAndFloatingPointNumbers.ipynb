{
 "cells": [
  {
   "metadata": {
    "ExecuteTime": {
     "end_time": "2025-05-15T04:20:33.137598Z",
     "start_time": "2025-05-15T04:20:33.135124Z"
    }
   },
   "cell_type": "code",
   "source": [
    "amount = 112.31\n",
    "print(amount)"
   ],
   "id": "ab134414680b075a",
   "outputs": [
    {
     "name": "stdout",
     "output_type": "stream",
     "text": [
      "112.31\n"
     ]
    }
   ],
   "execution_count": 18
  },
  {
   "cell_type": "code",
   "id": "initial_id",
   "metadata": {
    "collapsed": true,
    "ExecuteTime": {
     "end_time": "2025-05-15T04:20:33.155342Z",
     "start_time": "2025-05-15T04:20:33.153279Z"
    }
   },
   "source": "print(f'{amount:.20f}')",
   "outputs": [
    {
     "name": "stdout",
     "output_type": "stream",
     "text": [
      "112.31000000000000227374\n"
     ]
    }
   ],
   "execution_count": 19
  },
  {
   "metadata": {
    "ExecuteTime": {
     "end_time": "2025-09-20T04:55:59.212727Z",
     "start_time": "2025-09-20T04:55:59.210740Z"
    }
   },
   "cell_type": "code",
   "source": "from decimal import Decimal",
   "id": "afe41b3762a7e544",
   "outputs": [],
   "execution_count": 1
  },
  {
   "metadata": {
    "ExecuteTime": {
     "end_time": "2025-09-20T04:56:20.461018Z",
     "start_time": "2025-09-20T04:56:20.457558Z"
    }
   },
   "cell_type": "code",
   "source": [
    "principal = Decimal(\"1000.00\")\n",
    "principal"
   ],
   "id": "b0d887686def7004",
   "outputs": [
    {
     "data": {
      "text/plain": [
       "Decimal('1000.00')"
      ]
     },
     "execution_count": 3,
     "metadata": {},
     "output_type": "execute_result"
    }
   ],
   "execution_count": 3
  },
  {
   "metadata": {
    "ExecuteTime": {
     "end_time": "2025-09-20T04:56:22.334260Z",
     "start_time": "2025-09-20T04:56:22.331498Z"
    }
   },
   "cell_type": "code",
   "source": [
    "rate = Decimal(\"0.05\")\n",
    "rate"
   ],
   "id": "4b9373d56310c3f3",
   "outputs": [
    {
     "data": {
      "text/plain": [
       "Decimal('0.05')"
      ]
     },
     "execution_count": 4,
     "metadata": {},
     "output_type": "execute_result"
    }
   ],
   "execution_count": 4
  },
  {
   "metadata": {
    "ExecuteTime": {
     "end_time": "2025-05-15T04:20:33.224319Z",
     "start_time": "2025-05-15T04:20:33.222386Z"
    }
   },
   "cell_type": "code",
   "source": [
    "x = Decimal(\"10.5\")\n",
    "y = Decimal(\"2\")\n",
    "\n",
    "x+y"
   ],
   "id": "4a96f5c63c1e6ff",
   "outputs": [
    {
     "data": {
      "text/plain": [
       "Decimal('12.5')"
      ]
     },
     "execution_count": 23,
     "metadata": {},
     "output_type": "execute_result"
    }
   ],
   "execution_count": 23
  },
  {
   "metadata": {
    "ExecuteTime": {
     "end_time": "2025-05-15T04:20:34.975777Z",
     "start_time": "2025-05-15T04:20:34.972895Z"
    }
   },
   "cell_type": "code",
   "source": "x//y",
   "id": "ee8197556618284b",
   "outputs": [
    {
     "data": {
      "text/plain": [
       "Decimal('5')"
      ]
     },
     "execution_count": 25,
     "metadata": {},
     "output_type": "execute_result"
    }
   ],
   "execution_count": 25
  },
  {
   "metadata": {
    "ExecuteTime": {
     "end_time": "2025-05-15T04:21:21.572605Z",
     "start_time": "2025-05-15T04:21:21.569779Z"
    }
   },
   "cell_type": "code",
   "source": [
    "x+=y\n",
    "x"
   ],
   "id": "c93c429e19b73592",
   "outputs": [
    {
     "data": {
      "text/plain": [
       "Decimal('22.5')"
      ]
     },
     "execution_count": 32,
     "metadata": {},
     "output_type": "execute_result"
    }
   ],
   "execution_count": 32
  },
  {
   "metadata": {
    "ExecuteTime": {
     "end_time": "2025-09-20T04:56:24.845353Z",
     "start_time": "2025-09-20T04:56:24.842759Z"
    }
   },
   "cell_type": "code",
   "source": [
    "for year in range(1, 11):\n",
    "    amount = principal*(1+rate)**year\n",
    "    print(f\"{year:>2}{amount:>10.2f}\")"
   ],
   "id": "4aec8f95e28eb3ff",
   "outputs": [
    {
     "name": "stdout",
     "output_type": "stream",
     "text": [
      " 1   1050.00\n",
      " 2   1102.50\n",
      " 3   1157.62\n",
      " 4   1215.51\n",
      " 5   1276.28\n",
      " 6   1340.10\n",
      " 7   1407.10\n",
      " 8   1477.46\n",
      " 9   1551.33\n",
      "10   1628.89\n"
     ]
    }
   ],
   "execution_count": 5
  }
 ],
 "metadata": {
  "kernelspec": {
   "display_name": "Python 3",
   "language": "python",
   "name": "python3"
  },
  "language_info": {
   "codemirror_mode": {
    "name": "ipython",
    "version": 2
   },
   "file_extension": ".py",
   "mimetype": "text/x-python",
   "name": "python",
   "nbconvert_exporter": "python",
   "pygments_lexer": "ipython2",
   "version": "2.7.6"
  }
 },
 "nbformat": 4,
 "nbformat_minor": 5
}
