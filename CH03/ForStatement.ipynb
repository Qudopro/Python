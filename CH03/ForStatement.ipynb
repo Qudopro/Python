{
 "cells": [
  {
   "cell_type": "code",
   "id": "initial_id",
   "metadata": {
    "collapsed": true,
    "ExecuteTime": {
     "end_time": "2025-05-12T04:42:08.622870Z",
     "start_time": "2025-05-12T04:42:08.620101Z"
    }
   },
   "source": [
    "for character in \"Programming\":\n",
    "    print(character, end=\"  \")"
   ],
   "outputs": [
    {
     "name": "stdout",
     "output_type": "stream",
     "text": [
      "P  r  o  g  r  a  m  m  i  n  g  "
     ]
    }
   ],
   "execution_count": 2
  },
  {
   "metadata": {
    "ExecuteTime": {
     "end_time": "2025-05-12T04:45:38.404006Z",
     "start_time": "2025-05-12T04:45:38.401977Z"
    }
   },
   "cell_type": "code",
   "source": "print(10,20,30, sep=\", \")",
   "id": "7691312b67e21a0c",
   "outputs": [
    {
     "name": "stdout",
     "output_type": "stream",
     "text": [
      "10, 20, 30\n"
     ]
    }
   ],
   "execution_count": 4
  },
  {
   "metadata": {
    "ExecuteTime": {
     "end_time": "2025-05-12T04:47:22.307289Z",
     "start_time": "2025-05-12T04:47:22.305075Z"
    }
   },
   "cell_type": "code",
   "source": [
    "total = 0\n",
    "for number in [10, 20, 30, 40, 50]:\n",
    "    total += number\n",
    "\n",
    "print(total)"
   ],
   "id": "1c10105f5631b9e9",
   "outputs": [
    {
     "name": "stdout",
     "output_type": "stream",
     "text": [
      "150\n"
     ]
    }
   ],
   "execution_count": 6
  },
  {
   "metadata": {
    "ExecuteTime": {
     "end_time": "2025-05-12T04:48:50.947314Z",
     "start_time": "2025-05-12T04:48:50.944994Z"
    }
   },
   "cell_type": "code",
   "source": [
    "for counter in range(10):\n",
    "    print(counter, end=\" \")"
   ],
   "id": "9b181b1d276ac248",
   "outputs": [
    {
     "name": "stdout",
     "output_type": "stream",
     "text": [
      "0 1 2 3 4 5 6 7 8 9 "
     ]
    }
   ],
   "execution_count": 9
  },
  {
   "metadata": {
    "ExecuteTime": {
     "end_time": "2025-05-12T04:50:49.571474Z",
     "start_time": "2025-05-12T04:50:46.640424Z"
    }
   },
   "cell_type": "code",
   "source": [
    "total = 0\n",
    "for counter in range(100000001):\n",
    "    total += counter\n",
    "print(total)\n"
   ],
   "id": "a86daa32fdc34e16",
   "outputs": [
    {
     "name": "stdout",
     "output_type": "stream",
     "text": [
      "5000000050000000\n"
     ]
    }
   ],
   "execution_count": 13
  }
 ],
 "metadata": {
  "kernelspec": {
   "display_name": "Python 3",
   "language": "python",
   "name": "python3"
  },
  "language_info": {
   "codemirror_mode": {
    "name": "ipython",
    "version": 2
   },
   "file_extension": ".py",
   "mimetype": "text/x-python",
   "name": "python",
   "nbconvert_exporter": "python",
   "pygments_lexer": "ipython2",
   "version": "2.7.6"
  }
 },
 "nbformat": 4,
 "nbformat_minor": 5
}
