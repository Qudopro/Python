{
 "cells": [
  {
   "cell_type": "code",
   "id": "initial_id",
   "metadata": {
    "collapsed": true,
    "ExecuteTime": {
     "end_time": "2025-05-12T01:58:49.879878Z",
     "start_time": "2025-05-12T01:58:49.877949Z"
    }
   },
   "source": "grade = 85",
   "outputs": [],
   "execution_count": 6
  },
  {
   "metadata": {
    "ExecuteTime": {
     "end_time": "2025-05-12T01:57:22.759817Z",
     "start_time": "2025-05-12T01:57:22.757767Z"
    }
   },
   "cell_type": "code",
   "source": [
    "if grade >= 60:\n",
    "    print(\"Passed\")"
   ],
   "id": "7de8793dc733a347",
   "outputs": [
    {
     "name": "stdout",
     "output_type": "stream",
     "text": [
      "Passed\n"
     ]
    }
   ],
   "execution_count": 3
  },
  {
   "metadata": {
    "ExecuteTime": {
     "end_time": "2025-05-12T02:00:05.634984Z",
     "start_time": "2025-05-12T02:00:05.632513Z"
    }
   },
   "cell_type": "code",
   "source": [
    "if grade >= 90:\n",
    "    print(\"Passed\")\n",
    "else:\n",
    "    print(\"Failed\")"
   ],
   "id": "ef85eb9d9f1c7cdf",
   "outputs": [
    {
     "name": "stdout",
     "output_type": "stream",
     "text": [
      "Failed\n"
     ]
    }
   ],
   "execution_count": 7
  },
  {
   "metadata": {
    "ExecuteTime": {
     "end_time": "2025-05-12T02:00:39.210206Z",
     "start_time": "2025-05-12T02:00:39.207728Z"
    }
   },
   "cell_type": "code",
   "source": [
    "if grade >= 90:\n",
    "    result = \"Passed\"\n",
    "else:\n",
    "    result = \"Failed\"\n",
    "\n",
    "print(result)"
   ],
   "id": "96eafb9a1951944b",
   "outputs": [
    {
     "name": "stdout",
     "output_type": "stream",
     "text": [
      "Failed\n"
     ]
    }
   ],
   "execution_count": 9
  },
  {
   "metadata": {
    "ExecuteTime": {
     "end_time": "2025-05-12T02:03:05.137580Z",
     "start_time": "2025-05-12T02:03:05.135306Z"
    }
   },
   "cell_type": "code",
   "source": [
    "result = (\"Pased\" if grade >= 80 else \"Failed\")\n",
    "print(result)"
   ],
   "id": "b12062c3afe41a95",
   "outputs": [
    {
     "name": "stdout",
     "output_type": "stream",
     "text": [
      "Pased\n"
     ]
    }
   ],
   "execution_count": 12
  },
  {
   "metadata": {
    "ExecuteTime": {
     "end_time": "2025-05-12T02:25:54.157791Z",
     "start_time": "2025-05-12T02:25:54.155478Z"
    }
   },
   "cell_type": "code",
   "source": [
    "if grade >= 90:\n",
    "    print(\"Passed\")\n",
    "else:\n",
    "    print(\"Sorry!\")\n",
    "    print(\"You failed\")\n"
   ],
   "id": "5aa3f5df54f7a74c",
   "outputs": [
    {
     "name": "stdout",
     "output_type": "stream",
     "text": [
      "Sorry!\n",
      "You failed\n"
     ]
    }
   ],
   "execution_count": 18
  },
  {
   "metadata": {
    "ExecuteTime": {
     "end_time": "2025-05-12T04:18:29.719326Z",
     "start_time": "2025-05-12T04:18:29.717388Z"
    }
   },
   "cell_type": "code",
   "source": [
    "if grade >= 90:\n",
    "    print(\"A\")\n",
    "elif grade >= 80:\n",
    "    print(\"B\")\n",
    "elif grade >= 70:\n",
    "    print(\"C\")\n",
    "elif grade >= 60:\n",
    "    print(\"D\")\n",
    "else:\n",
    "    print(\"F\")"
   ],
   "id": "3000c7504aa7de69",
   "outputs": [
    {
     "name": "stdout",
     "output_type": "stream",
     "text": [
      "B\n"
     ]
    }
   ],
   "execution_count": 20
  }
 ],
 "metadata": {
  "kernelspec": {
   "display_name": "Python 3",
   "language": "python",
   "name": "python3"
  },
  "language_info": {
   "codemirror_mode": {
    "name": "ipython",
    "version": 2
   },
   "file_extension": ".py",
   "mimetype": "text/x-python",
   "name": "python",
   "nbconvert_exporter": "python",
   "pygments_lexer": "ipython2",
   "version": "2.7.6"
  }
 },
 "nbformat": 4,
 "nbformat_minor": 5
}
