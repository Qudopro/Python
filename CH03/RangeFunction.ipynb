{
 "cells": [
  {
   "cell_type": "code",
   "id": "initial_id",
   "metadata": {
    "collapsed": true,
    "ExecuteTime": {
     "end_time": "2025-05-15T04:09:57.498983Z",
     "start_time": "2025-05-15T04:09:57.496573Z"
    }
   },
   "source": [
    "for number in range(5, 10):\n",
    "    print(number, end=\" \")"
   ],
   "outputs": [
    {
     "name": "stdout",
     "output_type": "stream",
     "text": [
      "5 6 7 8 9 "
     ]
    }
   ],
   "execution_count": 2
  },
  {
   "metadata": {
    "ExecuteTime": {
     "end_time": "2025-05-15T04:10:29.942102Z",
     "start_time": "2025-05-15T04:10:29.939467Z"
    }
   },
   "cell_type": "code",
   "source": [
    "for number in range(0, 21, 2):\n",
    "    print(number, end=\" \")"
   ],
   "id": "558cc2774a3bedbd",
   "outputs": [
    {
     "name": "stdout",
     "output_type": "stream",
     "text": [
      "0 2 4 6 8 10 12 14 16 18 20 "
     ]
    }
   ],
   "execution_count": 4
  },
  {
   "metadata": {
    "ExecuteTime": {
     "end_time": "2025-05-15T04:10:37.859503Z",
     "start_time": "2025-05-15T04:10:37.856653Z"
    }
   },
   "cell_type": "code",
   "source": [
    "for number in range(10, -1, -2):\n",
    "    print(number, end=\" \")"
   ],
   "id": "4146f8f21c0e560a",
   "outputs": [
    {
     "name": "stdout",
     "output_type": "stream",
     "text": [
      "10 8 6 4 2 0 "
     ]
    }
   ],
   "execution_count": 5
  }
 ],
 "metadata": {
  "kernelspec": {
   "display_name": "Python 3",
   "language": "python",
   "name": "python3"
  },
  "language_info": {
   "codemirror_mode": {
    "name": "ipython",
    "version": 2
   },
   "file_extension": ".py",
   "mimetype": "text/x-python",
   "name": "python",
   "nbconvert_exporter": "python",
   "pygments_lexer": "ipython2",
   "version": "2.7.6"
  }
 },
 "nbformat": 4,
 "nbformat_minor": 5
}
