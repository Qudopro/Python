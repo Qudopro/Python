{
 "cells": [
  {
   "cell_type": "code",
   "id": "initial_id",
   "metadata": {
    "collapsed": true,
    "ExecuteTime": {
     "end_time": "2025-05-15T04:33:08.949816Z",
     "start_time": "2025-05-15T04:33:08.947297Z"
    }
   },
   "source": [
    "gender = \"Female\"\n",
    "age = 70\n",
    "\n",
    "if gender == \"Female\" and age >= 65:\n",
    "    print(\"Senior female\")"
   ],
   "outputs": [
    {
     "name": "stdout",
     "output_type": "stream",
     "text": [
      "Senior female\n"
     ]
    }
   ],
   "execution_count": 2
  },
  {
   "metadata": {
    "ExecuteTime": {
     "end_time": "2025-05-15T04:37:07.515552Z",
     "start_time": "2025-05-15T04:37:07.512704Z"
    }
   },
   "cell_type": "code",
   "source": [
    "semester_average = 83\n",
    "final_exam = 95\n",
    "\n",
    "if semester_average >= 90 or final_exam >= 90:\n",
    "    print(\"Student gets an A\")"
   ],
   "id": "4a0264421d9177f2",
   "outputs": [
    {
     "name": "stdout",
     "output_type": "stream",
     "text": [
      "Student gets an A\n"
     ]
    }
   ],
   "execution_count": 4
  },
  {
   "metadata": {
    "ExecuteTime": {
     "end_time": "2025-05-15T04:37:46.230606Z",
     "start_time": "2025-05-15T04:37:46.228431Z"
    }
   },
   "cell_type": "code",
   "source": [
    "grade = 87\n",
    "\n",
    "if not grade == -1:\n",
    "    print(\"The next grade is\",grade)\n"
   ],
   "id": "36e507b467e1cf92",
   "outputs": [
    {
     "name": "stdout",
     "output_type": "stream",
     "text": [
      "The next grade is 87\n"
     ]
    }
   ],
   "execution_count": 7
  }
 ],
 "metadata": {
  "kernelspec": {
   "display_name": "Python 3",
   "language": "python",
   "name": "python3"
  },
  "language_info": {
   "codemirror_mode": {
    "name": "ipython",
    "version": 2
   },
   "file_extension": ".py",
   "mimetype": "text/x-python",
   "name": "python",
   "nbconvert_exporter": "python",
   "pygments_lexer": "ipython2",
   "version": "2.7.6"
  }
 },
 "nbformat": 4,
 "nbformat_minor": 5
}
