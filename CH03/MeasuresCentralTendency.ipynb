{
 "cells": [
  {
   "metadata": {
    "ExecuteTime": {
     "end_time": "2025-09-20T04:56:49.446450Z",
     "start_time": "2025-09-20T04:56:49.442993Z"
    }
   },
   "cell_type": "code",
   "source": [
    "grades = [85,93,45,89,85]\n",
    "sum(grades)/len(grades)"
   ],
   "id": "d7b8ef36eef956ed",
   "outputs": [
    {
     "data": {
      "text/plain": [
       "79.4"
      ]
     },
     "execution_count": 1,
     "metadata": {},
     "output_type": "execute_result"
    }
   ],
   "execution_count": 1
  },
  {
   "metadata": {
    "ExecuteTime": {
     "end_time": "2025-09-20T04:56:54.993035Z",
     "start_time": "2025-09-20T04:56:54.971011Z"
    }
   },
   "cell_type": "code",
   "source": "import statistics",
   "id": "63abe03f3ac197b5",
   "outputs": [],
   "execution_count": 2
  },
  {
   "metadata": {
    "ExecuteTime": {
     "end_time": "2025-09-20T04:56:55.951894Z",
     "start_time": "2025-09-20T04:56:55.948487Z"
    }
   },
   "cell_type": "code",
   "source": "statistics.mean(grades)",
   "id": "2c468878a696677e",
   "outputs": [
    {
     "data": {
      "text/plain": [
       "79.4"
      ]
     },
     "execution_count": 3,
     "metadata": {},
     "output_type": "execute_result"
    }
   ],
   "execution_count": 3
  },
  {
   "metadata": {
    "ExecuteTime": {
     "end_time": "2025-09-20T04:56:57.982812Z",
     "start_time": "2025-09-20T04:56:57.979874Z"
    }
   },
   "cell_type": "code",
   "source": "statistics.median(grades)",
   "id": "973d26f87051849b",
   "outputs": [
    {
     "data": {
      "text/plain": [
       "85"
      ]
     },
     "execution_count": 4,
     "metadata": {},
     "output_type": "execute_result"
    }
   ],
   "execution_count": 4
  },
  {
   "metadata": {
    "ExecuteTime": {
     "end_time": "2025-09-20T04:57:00.981475Z",
     "start_time": "2025-09-20T04:57:00.978350Z"
    }
   },
   "cell_type": "code",
   "source": "statistics.mode(grades)",
   "id": "fbe70574b75d6f6",
   "outputs": [
    {
     "data": {
      "text/plain": [
       "85"
      ]
     },
     "execution_count": 5,
     "metadata": {},
     "output_type": "execute_result"
    }
   ],
   "execution_count": 5
  },
  {
   "metadata": {
    "ExecuteTime": {
     "end_time": "2025-09-20T04:57:02.225696Z",
     "start_time": "2025-09-20T04:57:02.222640Z"
    }
   },
   "cell_type": "code",
   "source": "sorted(grades)",
   "id": "3eec9dcba1ffdb35",
   "outputs": [
    {
     "data": {
      "text/plain": [
       "[45, 85, 85, 89, 93]"
      ]
     },
     "execution_count": 6,
     "metadata": {},
     "output_type": "execute_result"
    }
   ],
   "execution_count": 6
  }
 ],
 "metadata": {
  "kernelspec": {
   "display_name": "Python 3",
   "language": "python",
   "name": "python3"
  },
  "language_info": {
   "codemirror_mode": {
    "name": "ipython",
    "version": 2
   },
   "file_extension": ".py",
   "mimetype": "text/x-python",
   "name": "python",
   "nbconvert_exporter": "python",
   "pygments_lexer": "ipython2",
   "version": "2.7.6"
  }
 },
 "nbformat": 4,
 "nbformat_minor": 5
}
