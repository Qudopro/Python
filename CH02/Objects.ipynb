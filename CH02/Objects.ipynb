{
 "cells": [
  {
   "cell_type": "code",
   "id": "initial_id",
   "metadata": {
    "collapsed": true,
    "ExecuteTime": {
     "end_time": "2025-05-11T19:04:51.426080Z",
     "start_time": "2025-05-11T19:04:51.423244Z"
    }
   },
   "source": "type(7)",
   "outputs": [
    {
     "data": {
      "text/plain": [
       "int"
      ]
     },
     "execution_count": 2,
     "metadata": {},
     "output_type": "execute_result"
    }
   ],
   "execution_count": 2
  },
  {
   "metadata": {
    "ExecuteTime": {
     "end_time": "2025-05-11T19:04:58.386863Z",
     "start_time": "2025-05-11T19:04:58.384452Z"
    }
   },
   "cell_type": "code",
   "source": "type(4.1)",
   "id": "d8d8fec2da8e7aad",
   "outputs": [
    {
     "data": {
      "text/plain": [
       "float"
      ]
     },
     "execution_count": 3,
     "metadata": {},
     "output_type": "execute_result"
    }
   ],
   "execution_count": 3
  },
  {
   "metadata": {
    "ExecuteTime": {
     "end_time": "2025-05-11T19:06:09.828503Z",
     "start_time": "2025-05-11T19:06:09.825599Z"
    }
   },
   "cell_type": "code",
   "source": "type('dog')",
   "id": "cf47f57bc55c1e4",
   "outputs": [
    {
     "data": {
      "text/plain": [
       "str"
      ]
     },
     "execution_count": 5,
     "metadata": {},
     "output_type": "execute_result"
    }
   ],
   "execution_count": 5
  },
  {
   "metadata": {
    "ExecuteTime": {
     "end_time": "2025-05-11T19:09:08.067931Z",
     "start_time": "2025-05-11T19:09:08.064825Z"
    }
   },
   "cell_type": "code",
   "source": [
    "x = 7\n",
    "x + 10"
   ],
   "id": "8599bfe2d858b3ac",
   "outputs": [
    {
     "data": {
      "text/plain": [
       "17"
      ]
     },
     "execution_count": 7,
     "metadata": {},
     "output_type": "execute_result"
    }
   ],
   "execution_count": 7
  },
  {
   "metadata": {
    "ExecuteTime": {
     "end_time": "2025-05-11T19:09:17.713851Z",
     "start_time": "2025-05-11T19:09:17.711203Z"
    }
   },
   "cell_type": "code",
   "source": "type(x)",
   "id": "3642762014718b86",
   "outputs": [
    {
     "data": {
      "text/plain": [
       "int"
      ]
     },
     "execution_count": 9,
     "metadata": {},
     "output_type": "execute_result"
    }
   ],
   "execution_count": 9
  },
  {
   "metadata": {
    "ExecuteTime": {
     "end_time": "2025-05-11T19:09:31.125584Z",
     "start_time": "2025-05-11T19:09:31.122657Z"
    }
   },
   "cell_type": "code",
   "source": [
    "x = 4.5\n",
    "type(x)"
   ],
   "id": "6a67b649cfbd0b6",
   "outputs": [
    {
     "data": {
      "text/plain": [
       "float"
      ]
     },
     "execution_count": 12,
     "metadata": {},
     "output_type": "execute_result"
    }
   ],
   "execution_count": 12
  },
  {
   "metadata": {
    "ExecuteTime": {
     "end_time": "2025-05-11T19:09:38.770366Z",
     "start_time": "2025-05-11T19:09:38.767051Z"
    }
   },
   "cell_type": "code",
   "source": [
    "x = \"Hola\"\n",
    "type(x)"
   ],
   "id": "1d06474eb5ba33e6",
   "outputs": [
    {
     "data": {
      "text/plain": [
       "str"
      ]
     },
     "execution_count": 13,
     "metadata": {},
     "output_type": "execute_result"
    }
   ],
   "execution_count": 13
  }
 ],
 "metadata": {
  "kernelspec": {
   "display_name": "Python 3",
   "language": "python",
   "name": "python3"
  },
  "language_info": {
   "codemirror_mode": {
    "name": "ipython",
    "version": 2
   },
   "file_extension": ".py",
   "mimetype": "text/x-python",
   "name": "python",
   "nbconvert_exporter": "python",
   "pygments_lexer": "ipython2",
   "version": "2.7.6"
  }
 },
 "nbformat": 4,
 "nbformat_minor": 5
}
