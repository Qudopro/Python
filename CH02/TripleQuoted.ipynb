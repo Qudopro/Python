{
 "cells": [
  {
   "cell_type": "code",
   "id": "initial_id",
   "metadata": {
    "collapsed": true,
    "ExecuteTime": {
     "end_time": "2025-05-10T20:41:40.144147Z",
     "start_time": "2025-05-10T20:41:40.141497Z"
    }
   },
   "source": "print('Display \"hi\" in quotes')",
   "outputs": [
    {
     "name": "stdout",
     "output_type": "stream",
     "text": [
      "Display \"hi\" in quotes\n"
     ]
    }
   ],
   "execution_count": 2
  },
  {
   "metadata": {
    "ExecuteTime": {
     "end_time": "2025-05-10T20:42:09.272429Z",
     "start_time": "2025-05-10T20:42:09.270251Z"
    }
   },
   "cell_type": "code",
   "source": "print(\"\"\"Display \"hi\" in quotes\"\"\")",
   "id": "5511819460f25af2",
   "outputs": [
    {
     "name": "stdout",
     "output_type": "stream",
     "text": [
      "Display \"hi\" in quotes\n"
     ]
    }
   ],
   "execution_count": 4
  },
  {
   "metadata": {
    "ExecuteTime": {
     "end_time": "2025-05-10T20:43:09.956865Z",
     "start_time": "2025-05-10T20:43:09.953778Z"
    }
   },
   "cell_type": "code",
   "source": [
    "triple_quoted_string = \"\"\"This is a tiple-quoted\n",
    "string that spans two lines\"\"\"\n",
    "print(triple_quoted_string)"
   ],
   "id": "e7d5632313e462f6",
   "outputs": [
    {
     "name": "stdout",
     "output_type": "stream",
     "text": [
      "This is a tiple-quoted\n",
      "string that spans two lines\n"
     ]
    }
   ],
   "execution_count": 6
  }
 ],
 "metadata": {
  "kernelspec": {
   "display_name": "Python 3",
   "language": "python",
   "name": "python3"
  },
  "language_info": {
   "codemirror_mode": {
    "name": "ipython",
    "version": 2
   },
   "file_extension": ".py",
   "mimetype": "text/x-python",
   "name": "python",
   "nbconvert_exporter": "python",
   "pygments_lexer": "ipython2",
   "version": "2.7.6"
  }
 },
 "nbformat": 4,
 "nbformat_minor": 5
}
