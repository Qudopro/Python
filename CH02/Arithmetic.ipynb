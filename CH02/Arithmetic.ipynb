{
 "cells": [
  {
   "cell_type": "code",
   "execution_count": 1,
   "id": "cf3e2a03-b8db-4bf7-9cc9-21b70cfcdb3d",
   "metadata": {},
   "outputs": [
    {
     "data": {
      "text/plain": [
       "28"
      ]
     },
     "execution_count": 1,
     "metadata": {},
     "output_type": "execute_result"
    }
   ],
   "source": [
    "7*4"
   ]
  },
  {
   "cell_type": "code",
   "execution_count": 2,
   "id": "24a9e541-ca45-4b43-b47f-0b3da584a384",
   "metadata": {},
   "outputs": [
    {
     "data": {
      "text/plain": [
       "1024"
      ]
     },
     "execution_count": 2,
     "metadata": {},
     "output_type": "execute_result"
    }
   ],
   "source": [
    "2**10"
   ]
  },
  {
   "cell_type": "code",
   "execution_count": 3,
   "id": "581f79fb-9e1b-4c66-bee0-984c7e010f75",
   "metadata": {},
   "outputs": [
    {
     "data": {
      "text/plain": [
       "3.0"
      ]
     },
     "execution_count": 3,
     "metadata": {},
     "output_type": "execute_result"
    }
   ],
   "source": [
    "9**(1/2)"
   ]
  },
  {
   "cell_type": "code",
   "id": "eb168337-2bd1-4b7b-8a8a-3d77359b1810",
   "metadata": {
    "ExecuteTime": {
     "end_time": "2025-05-10T20:10:46.613312Z",
     "start_time": "2025-05-10T20:10:46.610851Z"
    }
   },
   "source": "7/4",
   "outputs": [
    {
     "data": {
      "text/plain": [
       "1.75"
      ]
     },
     "execution_count": 3,
     "metadata": {},
     "output_type": "execute_result"
    }
   ],
   "execution_count": 3
  },
  {
   "metadata": {
    "ExecuteTime": {
     "end_time": "2025-05-10T20:11:18.715072Z",
     "start_time": "2025-05-10T20:11:18.712715Z"
    }
   },
   "cell_type": "code",
   "source": "7//4",
   "id": "1ef3c513504268eb",
   "outputs": [
    {
     "data": {
      "text/plain": [
       "1"
      ]
     },
     "execution_count": 5,
     "metadata": {},
     "output_type": "execute_result"
    }
   ],
   "execution_count": 5
  },
  {
   "metadata": {
    "ExecuteTime": {
     "end_time": "2025-05-10T20:12:21.581927Z",
     "start_time": "2025-05-10T20:12:21.579167Z"
    }
   },
   "cell_type": "code",
   "source": "-13/4",
   "id": "d049ed6ca773e52e",
   "outputs": [
    {
     "data": {
      "text/plain": [
       "-3.25"
      ]
     },
     "execution_count": 7,
     "metadata": {},
     "output_type": "execute_result"
    }
   ],
   "execution_count": 7
  },
  {
   "metadata": {
    "ExecuteTime": {
     "end_time": "2025-05-10T20:12:50.898210Z",
     "start_time": "2025-05-10T20:12:50.895270Z"
    }
   },
   "cell_type": "code",
   "source": "-13//4",
   "id": "e93de44f14ca092d",
   "outputs": [
    {
     "data": {
      "text/plain": [
       "-4"
      ]
     },
     "execution_count": 9,
     "metadata": {},
     "output_type": "execute_result"
    }
   ],
   "execution_count": 9
  },
  {
   "metadata": {
    "ExecuteTime": {
     "end_time": "2025-05-10T20:14:52.745758Z",
     "start_time": "2025-05-10T20:14:52.734071Z"
    }
   },
   "cell_type": "code",
   "source": "123/0",
   "id": "70f560eb8c65a8c4",
   "outputs": [
    {
     "ename": "ZeroDivisionError",
     "evalue": "division by zero",
     "output_type": "error",
     "traceback": [
      "\u001B[31m---------------------------------------------------------------------------\u001B[39m",
      "\u001B[31mZeroDivisionError\u001B[39m                         Traceback (most recent call last)",
      "\u001B[36mCell\u001B[39m\u001B[36m \u001B[39m\u001B[32mIn[11]\u001B[39m\u001B[32m, line 1\u001B[39m\n\u001B[32m----> \u001B[39m\u001B[32m1\u001B[39m \u001B[32;43m123\u001B[39;49m\u001B[43m/\u001B[49m\u001B[32;43m0\u001B[39;49m\n",
      "\u001B[31mZeroDivisionError\u001B[39m: division by zero"
     ]
    }
   ],
   "execution_count": 11
  },
  {
   "metadata": {
    "ExecuteTime": {
     "end_time": "2025-05-10T20:16:18.652193Z",
     "start_time": "2025-05-10T20:16:18.649425Z"
    }
   },
   "cell_type": "code",
   "source": "17%5",
   "id": "982a804e81f3257b",
   "outputs": [
    {
     "data": {
      "text/plain": [
       "2"
      ]
     },
     "execution_count": 13,
     "metadata": {},
     "output_type": "execute_result"
    }
   ],
   "execution_count": 13
  },
  {
   "metadata": {
    "ExecuteTime": {
     "end_time": "2025-05-10T20:16:35.437158Z",
     "start_time": "2025-05-10T20:16:35.434686Z"
    }
   },
   "cell_type": "code",
   "source": "10*(5+3)",
   "id": "7a112cc297edd8c1",
   "outputs": [
    {
     "data": {
      "text/plain": [
       "80"
      ]
     },
     "execution_count": 14,
     "metadata": {},
     "output_type": "execute_result"
    }
   ],
   "execution_count": 14
  }
 ],
 "metadata": {
  "kernelspec": {
   "display_name": "Python [conda env:base] *",
   "language": "python",
   "name": "conda-base-py"
  },
  "language_info": {
   "codemirror_mode": {
    "name": "ipython",
    "version": 3
   },
   "file_extension": ".py",
   "mimetype": "text/x-python",
   "name": "python",
   "nbconvert_exporter": "python",
   "pygments_lexer": "ipython3",
   "version": "3.12.7"
  }
 },
 "nbformat": 4,
 "nbformat_minor": 5
}
