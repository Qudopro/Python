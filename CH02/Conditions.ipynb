{
 "cells": [
  {
   "cell_type": "code",
   "id": "initial_id",
   "metadata": {
    "collapsed": true,
    "ExecuteTime": {
     "end_time": "2025-05-10T20:52:26.766890Z",
     "start_time": "2025-05-10T20:52:26.763933Z"
    }
   },
   "source": "7 > 4",
   "outputs": [
    {
     "data": {
      "text/plain": [
       "True"
      ]
     },
     "execution_count": 2,
     "metadata": {},
     "output_type": "execute_result"
    }
   ],
   "execution_count": 2
  },
  {
   "metadata": {
    "ExecuteTime": {
     "end_time": "2025-05-10T20:53:08.598222Z",
     "start_time": "2025-05-10T20:53:08.594642Z"
    }
   },
   "cell_type": "code",
   "source": "4 > 7",
   "id": "e7de8d98a619d581",
   "outputs": [
    {
     "data": {
      "text/plain": [
       "False"
      ]
     },
     "execution_count": 4,
     "metadata": {},
     "output_type": "execute_result"
    }
   ],
   "execution_count": 4
  },
  {
   "metadata": {
    "ExecuteTime": {
     "end_time": "2025-05-10T20:53:17.907764Z",
     "start_time": "2025-05-10T20:53:17.904989Z"
    }
   },
   "cell_type": "code",
   "source": "7 >= 4",
   "id": "435a2a0b9332f9e6",
   "outputs": [
    {
     "data": {
      "text/plain": [
       "True"
      ]
     },
     "execution_count": 6,
     "metadata": {},
     "output_type": "execute_result"
    }
   ],
   "execution_count": 6
  },
  {
   "metadata": {
    "ExecuteTime": {
     "end_time": "2025-05-10T20:53:25.659364Z",
     "start_time": "2025-05-10T20:53:25.656606Z"
    }
   },
   "cell_type": "code",
   "source": "4 <= 7",
   "id": "6eeb072767f2acc",
   "outputs": [
    {
     "data": {
      "text/plain": [
       "True"
      ]
     },
     "execution_count": 8,
     "metadata": {},
     "output_type": "execute_result"
    }
   ],
   "execution_count": 8
  },
  {
   "metadata": {
    "ExecuteTime": {
     "end_time": "2025-05-10T20:53:33.075797Z",
     "start_time": "2025-05-10T20:53:33.073119Z"
    }
   },
   "cell_type": "code",
   "source": "7 == 7",
   "id": "c8ab5eeda9347efa",
   "outputs": [
    {
     "data": {
      "text/plain": [
       "True"
      ]
     },
     "execution_count": 10,
     "metadata": {},
     "output_type": "execute_result"
    }
   ],
   "execution_count": 10
  },
  {
   "metadata": {
    "ExecuteTime": {
     "end_time": "2025-05-10T20:53:36.722250Z",
     "start_time": "2025-05-10T20:53:36.719652Z"
    }
   },
   "cell_type": "code",
   "source": "7 != 4",
   "id": "89e7b036e749f387",
   "outputs": [
    {
     "data": {
      "text/plain": [
       "True"
      ]
     },
     "execution_count": 11,
     "metadata": {},
     "output_type": "execute_result"
    }
   ],
   "execution_count": 11
  }
 ],
 "metadata": {
  "kernelspec": {
   "display_name": "Python 3",
   "language": "python",
   "name": "python3"
  },
  "language_info": {
   "codemirror_mode": {
    "name": "ipython",
    "version": 2
   },
   "file_extension": ".py",
   "mimetype": "text/x-python",
   "name": "python",
   "nbconvert_exporter": "python",
   "pygments_lexer": "ipython2",
   "version": "2.7.6"
  }
 },
 "nbformat": 4,
 "nbformat_minor": 5
}
