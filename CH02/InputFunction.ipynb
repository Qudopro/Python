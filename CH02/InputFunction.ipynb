{
 "cells": [
  {
   "cell_type": "code",
   "id": "initial_id",
   "metadata": {
    "collapsed": true,
    "ExecuteTime": {
     "end_time": "2025-05-10T20:46:16.328036Z",
     "start_time": "2025-05-10T20:46:11.761978Z"
    }
   },
   "source": "name = input(\"What is your name? \")",
   "outputs": [],
   "execution_count": 5
  },
  {
   "metadata": {
    "ExecuteTime": {
     "end_time": "2025-05-10T20:47:44.378465Z",
     "start_time": "2025-05-10T20:47:44.376149Z"
    }
   },
   "cell_type": "code",
   "source": "print(name)",
   "id": "3740755da9cb503a",
   "outputs": [
    {
     "name": "stdout",
     "output_type": "stream",
     "text": [
      "Diego\n"
     ]
    }
   ],
   "execution_count": 6
  },
  {
   "metadata": {
    "ExecuteTime": {
     "end_time": "2025-05-10T20:47:51.420620Z",
     "start_time": "2025-05-10T20:47:51.418134Z"
    }
   },
   "cell_type": "code",
   "source": "name",
   "id": "6ec8dc36de5559f7",
   "outputs": [
    {
     "data": {
      "text/plain": [
       "'Diego'"
      ]
     },
     "execution_count": 8,
     "metadata": {},
     "output_type": "execute_result"
    }
   ],
   "execution_count": 8
  },
  {
   "metadata": {
    "ExecuteTime": {
     "end_time": "2025-05-10T20:48:31.123717Z",
     "start_time": "2025-05-10T20:48:28.688729Z"
    }
   },
   "cell_type": "code",
   "source": "value = input(\"Enter an integer: \")",
   "id": "aa80e51a53f49916",
   "outputs": [],
   "execution_count": 11
  },
  {
   "metadata": {
    "ExecuteTime": {
     "end_time": "2025-05-10T20:48:37.977831Z",
     "start_time": "2025-05-10T20:48:37.975040Z"
    }
   },
   "cell_type": "code",
   "source": "value",
   "id": "dfdd2e8b58d744dd",
   "outputs": [
    {
     "data": {
      "text/plain": [
       "'73'"
      ]
     },
     "execution_count": 13,
     "metadata": {},
     "output_type": "execute_result"
    }
   ],
   "execution_count": 13
  },
  {
   "metadata": {
    "ExecuteTime": {
     "end_time": "2025-05-10T20:48:49.138166Z",
     "start_time": "2025-05-10T20:48:49.136102Z"
    }
   },
   "cell_type": "code",
   "source": "value = int(value)",
   "id": "66aa6c64e8b13b2a",
   "outputs": [],
   "execution_count": 15
  },
  {
   "metadata": {
    "ExecuteTime": {
     "end_time": "2025-05-10T20:49:06.929860Z",
     "start_time": "2025-05-10T20:49:06.927374Z"
    }
   },
   "cell_type": "code",
   "source": "value",
   "id": "4d09448f9f67455d",
   "outputs": [
    {
     "data": {
      "text/plain": [
       "73"
      ]
     },
     "execution_count": 17,
     "metadata": {},
     "output_type": "execute_result"
    }
   ],
   "execution_count": 17
  },
  {
   "metadata": {
    "ExecuteTime": {
     "end_time": "2025-05-10T20:51:01.614406Z",
     "start_time": "2025-05-10T20:50:58.694657Z"
    }
   },
   "cell_type": "code",
   "source": "another_value = int(input(\"Enter an integer: \"))",
   "id": "4ff138471c61f856",
   "outputs": [
    {
     "ename": "ValueError",
     "evalue": "invalid literal for int() with base 10: 'hola'",
     "output_type": "error",
     "traceback": [
      "\u001B[31m---------------------------------------------------------------------------\u001B[39m",
      "\u001B[31mValueError\u001B[39m                                Traceback (most recent call last)",
      "\u001B[36mCell\u001B[39m\u001B[36m \u001B[39m\u001B[32mIn[22]\u001B[39m\u001B[32m, line 1\u001B[39m\n\u001B[32m----> \u001B[39m\u001B[32m1\u001B[39m another_value = \u001B[38;5;28;43mint\u001B[39;49m\u001B[43m(\u001B[49m\u001B[38;5;28;43minput\u001B[39;49m\u001B[43m(\u001B[49m\u001B[33;43m\"\u001B[39;49m\u001B[33;43mEnter an integer: \u001B[39;49m\u001B[33;43m\"\u001B[39;49m\u001B[43m)\u001B[49m\u001B[43m)\u001B[49m\n",
      "\u001B[31mValueError\u001B[39m: invalid literal for int() with base 10: 'hola'"
     ]
    }
   ],
   "execution_count": 22
  },
  {
   "metadata": {
    "ExecuteTime": {
     "end_time": "2025-05-10T20:51:33.517878Z",
     "start_time": "2025-05-10T20:51:33.515600Z"
    }
   },
   "cell_type": "code",
   "source": "print(\"Sum is: \", value + another_value)",
   "id": "d471911d2580029e",
   "outputs": [
    {
     "name": "stdout",
     "output_type": "stream",
     "text": [
      "Sum is:  116\n"
     ]
    }
   ],
   "execution_count": 23
  },
  {
   "metadata": {
    "ExecuteTime": {
     "end_time": "2025-05-10T20:51:50.164857Z",
     "start_time": "2025-05-10T20:51:45.105410Z"
    }
   },
   "cell_type": "code",
   "source": "float_value = float(input(\"Enter a float value: \"))",
   "id": "592c987cf7d37f47",
   "outputs": [],
   "execution_count": 24
  }
 ],
 "metadata": {
  "kernelspec": {
   "display_name": "Python 3",
   "language": "python",
   "name": "python3"
  },
  "language_info": {
   "codemirror_mode": {
    "name": "ipython",
    "version": 2
   },
   "file_extension": ".py",
   "mimetype": "text/x-python",
   "name": "python",
   "nbconvert_exporter": "python",
   "pygments_lexer": "ipython2",
   "version": "2.7.6"
  }
 },
 "nbformat": 4,
 "nbformat_minor": 5
}
