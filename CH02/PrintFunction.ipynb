{
 "cells": [
  {
   "cell_type": "code",
   "id": "initial_id",
   "metadata": {
    "collapsed": true,
    "ExecuteTime": {
     "end_time": "2025-05-10T20:25:20.156606Z",
     "start_time": "2025-05-10T20:25:20.154018Z"
    }
   },
   "source": "print(\"Bienvenido a Python!\")",
   "outputs": [
    {
     "name": "stdout",
     "output_type": "stream",
     "text": [
      "Bienvenido a Python!\n"
     ]
    }
   ],
   "execution_count": 2
  },
  {
   "metadata": {
    "ExecuteTime": {
     "end_time": "2025-05-10T20:27:09.225244Z",
     "start_time": "2025-05-10T20:27:09.222609Z"
    }
   },
   "cell_type": "code",
   "source": "print(\"Bienvenido\", \"a\", \"Python!\")",
   "id": "9b1d8fb08289a766",
   "outputs": [
    {
     "name": "stdout",
     "output_type": "stream",
     "text": [
      "Bienvenido a Python!\n"
     ]
    }
   ],
   "execution_count": 4
  },
  {
   "metadata": {
    "ExecuteTime": {
     "end_time": "2025-05-10T20:28:25.947881Z",
     "start_time": "2025-05-10T20:28:25.945397Z"
    }
   },
   "cell_type": "code",
   "source": "print(\"Bienvenido\\na\\nPython!\")",
   "id": "72412083eeb884d7",
   "outputs": [
    {
     "name": "stdout",
     "output_type": "stream",
     "text": [
      "Bienvenido\n",
      "a\n",
      "Python!\n"
     ]
    }
   ],
   "execution_count": 7
  },
  {
   "metadata": {
    "ExecuteTime": {
     "end_time": "2025-05-10T20:29:12.142623Z",
     "start_time": "2025-05-10T20:29:12.140427Z"
    }
   },
   "cell_type": "code",
   "source": [
    "print(\"Bienvenido\\\n",
    " a Python\")"
   ],
   "id": "dcf754f1a1b02a0e",
   "outputs": [
    {
     "name": "stdout",
     "output_type": "stream",
     "text": [
      "Bienvenido a Python\n"
     ]
    }
   ],
   "execution_count": 11
  },
  {
   "metadata": {
    "ExecuteTime": {
     "end_time": "2025-05-10T20:29:41.361799Z",
     "start_time": "2025-05-10T20:29:41.359067Z"
    }
   },
   "cell_type": "code",
   "source": "print(\"Sum is\", 7 + 3)",
   "id": "d384830871caf36f",
   "outputs": [
    {
     "name": "stdout",
     "output_type": "stream",
     "text": [
      "Sum is 10\n"
     ]
    }
   ],
   "execution_count": 12
  }
 ],
 "metadata": {
  "kernelspec": {
   "display_name": "Python 3",
   "language": "python",
   "name": "python3"
  },
  "language_info": {
   "codemirror_mode": {
    "name": "ipython",
    "version": 2
   },
   "file_extension": ".py",
   "mimetype": "text/x-python",
   "name": "python",
   "nbconvert_exporter": "python",
   "pygments_lexer": "ipython2",
   "version": "2.7.6"
  }
 },
 "nbformat": 4,
 "nbformat_minor": 5
}
