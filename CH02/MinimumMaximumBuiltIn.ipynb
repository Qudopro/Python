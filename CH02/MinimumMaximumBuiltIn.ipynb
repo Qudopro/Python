{
 "cells": [
  {
   "metadata": {},
   "cell_type": "markdown",
   "source": "",
   "id": "c881aca930b861d4"
  },
  {
   "metadata": {
    "ExecuteTime": {
     "end_time": "2025-05-11T19:17:22.711246Z",
     "start_time": "2025-05-11T19:17:22.708336Z"
    }
   },
   "cell_type": "code",
   "source": "min(43,56,23)",
   "id": "87870a7545e8e2fb",
   "outputs": [
    {
     "data": {
      "text/plain": [
       "23"
      ]
     },
     "execution_count": 2,
     "metadata": {},
     "output_type": "execute_result"
    }
   ],
   "execution_count": 2
  },
  {
   "metadata": {
    "ExecuteTime": {
     "end_time": "2025-05-11T19:20:25.025185Z",
     "start_time": "2025-05-11T19:20:25.022385Z"
    }
   },
   "cell_type": "code",
   "source": "max(43,56,23)",
   "id": "ff6f430decc391de",
   "outputs": [
    {
     "data": {
      "text/plain": [
       "56"
      ]
     },
     "execution_count": 5,
     "metadata": {},
     "output_type": "execute_result"
    }
   ],
   "execution_count": 5
  },
  {
   "metadata": {
    "ExecuteTime": {
     "end_time": "2025-05-11T19:20:58.262699Z",
     "start_time": "2025-05-11T19:20:58.260086Z"
    }
   },
   "cell_type": "code",
   "source": "print(\"Range: \", min(43,56,23), \"-\", max(43,56,23))",
   "id": "f885686fee26762",
   "outputs": [
    {
     "name": "stdout",
     "output_type": "stream",
     "text": [
      "Range:  23 - 56\n"
     ]
    }
   ],
   "execution_count": 6
  }
 ],
 "metadata": {
  "kernelspec": {
   "display_name": "Python 3",
   "language": "python",
   "name": "python3"
  },
  "language_info": {
   "codemirror_mode": {
    "name": "ipython",
    "version": 2
   },
   "file_extension": ".py",
   "mimetype": "text/x-python",
   "name": "python",
   "nbconvert_exporter": "python",
   "pygments_lexer": "ipython2",
   "version": "2.7.6"
  }
 },
 "nbformat": 4,
 "nbformat_minor": 5
}
