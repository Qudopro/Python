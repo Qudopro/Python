{
 "cells": [
  {
   "metadata": {
    "ExecuteTime": {
     "end_time": "2025-10-02T02:17:55.556917Z",
     "start_time": "2025-10-02T02:17:55.554860Z"
    }
   },
   "cell_type": "code",
   "source": [
    "x = 2\n",
    "y = 3"
   ],
   "id": "8b93357db9ff8efd",
   "outputs": [],
   "execution_count": 1
  },
  {
   "metadata": {
    "ExecuteTime": {
     "end_time": "2025-10-02T02:18:06.446128Z",
     "start_time": "2025-10-02T02:18:06.443324Z"
    }
   },
   "cell_type": "code",
   "source": "print('x = ', x)",
   "id": "957f80a11c8716f5",
   "outputs": [
    {
     "name": "stdout",
     "output_type": "stream",
     "text": [
      "x =  2\n"
     ]
    }
   ],
   "execution_count": 2
  },
  {
   "metadata": {
    "ExecuteTime": {
     "end_time": "2025-10-02T02:18:40.296408Z",
     "start_time": "2025-10-02T02:18:40.294424Z"
    }
   },
   "cell_type": "code",
   "source": "print('Value of', x,'+', x, 'is', (x+x))",
   "id": "eceb153f1051754",
   "outputs": [
    {
     "name": "stdout",
     "output_type": "stream",
     "text": [
      "Value of 2 + 2 is 4\n"
     ]
    }
   ],
   "execution_count": 3
  },
  {
   "metadata": {
    "ExecuteTime": {
     "end_time": "2025-10-02T02:18:50.826272Z",
     "start_time": "2025-10-02T02:18:50.824083Z"
    }
   },
   "cell_type": "code",
   "source": "print('x =')",
   "id": "783742ff0f3e2c95",
   "outputs": [
    {
     "name": "stdout",
     "output_type": "stream",
     "text": [
      "x =\n"
     ]
    }
   ],
   "execution_count": 4
  },
  {
   "metadata": {
    "ExecuteTime": {
     "end_time": "2025-10-02T02:19:08.168849Z",
     "start_time": "2025-10-02T02:19:08.166605Z"
    }
   },
   "cell_type": "code",
   "source": "print((x+y), '=', (y+x))",
   "id": "158cd5b558fe35e4",
   "outputs": [
    {
     "name": "stdout",
     "output_type": "stream",
     "text": [
      "5 = 5\n"
     ]
    }
   ],
   "execution_count": 5
  },
  {
   "metadata": {
    "ExecuteTime": {
     "end_time": "2025-10-02T02:19:49.085880Z",
     "start_time": "2025-10-02T02:19:45.697067Z"
    }
   },
   "cell_type": "code",
   "source": [
    "number = (int(input('Enter a number: ')))\n",
    "square = number * number\n",
    "print('The square of', number, 'is', square)"
   ],
   "id": "c02de8d169d130d4",
   "outputs": [
    {
     "name": "stdout",
     "output_type": "stream",
     "text": [
      "The square of 54 is 2916\n"
     ]
    }
   ],
   "execution_count": 6
  },
  {
   "metadata": {
    "ExecuteTime": {
     "end_time": "2025-10-02T02:20:57.809100Z",
     "start_time": "2025-10-02T02:20:57.806670Z"
    }
   },
   "cell_type": "code",
   "source": [
    "grade = 91\n",
    "if grade >= 90:\n",
    "    print('Congratulations! Your grade of', grade, 'earns you an A in this course')"
   ],
   "id": "86d0271f23c70dd",
   "outputs": [
    {
     "name": "stdout",
     "output_type": "stream",
     "text": [
      "Congratulations! Your grade of 91 earns you an A in this course\n"
     ]
    }
   ],
   "execution_count": 7
  },
  {
   "metadata": {
    "ExecuteTime": {
     "end_time": "2025-10-02T03:09:00.561202Z",
     "start_time": "2025-10-02T03:09:00.558119Z"
    }
   },
   "cell_type": "code",
   "source": "5+7.5",
   "id": "3e97d35be2548a0e",
   "outputs": [
    {
     "data": {
      "text/plain": [
       "12.5"
      ]
     },
     "execution_count": 8,
     "metadata": {},
     "output_type": "execute_result"
    }
   ],
   "execution_count": 8
  },
  {
   "metadata": {
    "ExecuteTime": {
     "end_time": "2025-10-02T03:09:05.454171Z",
     "start_time": "2025-10-02T03:09:05.451319Z"
    }
   },
   "cell_type": "code",
   "source": "5*7.5",
   "id": "55899e297ce14190",
   "outputs": [
    {
     "data": {
      "text/plain": [
       "37.5"
      ]
     },
     "execution_count": 9,
     "metadata": {},
     "output_type": "execute_result"
    }
   ],
   "execution_count": 9
  },
  {
   "metadata": {
    "ExecuteTime": {
     "end_time": "2025-10-02T03:09:11.770108Z",
     "start_time": "2025-10-02T03:09:11.767367Z"
    }
   },
   "cell_type": "code",
   "source": "5/7.5",
   "id": "90d92be2b5c6d8c8",
   "outputs": [
    {
     "data": {
      "text/plain": [
       "0.6666666666666666"
      ]
     },
     "execution_count": 10,
     "metadata": {},
     "output_type": "execute_result"
    }
   ],
   "execution_count": 10
  },
  {
   "metadata": {
    "ExecuteTime": {
     "end_time": "2025-10-02T03:09:20.026618Z",
     "start_time": "2025-10-02T03:09:20.023863Z"
    }
   },
   "cell_type": "code",
   "source": "5-7.5",
   "id": "21e4a76a614db16",
   "outputs": [
    {
     "data": {
      "text/plain": [
       "-2.5"
      ]
     },
     "execution_count": 11,
     "metadata": {},
     "output_type": "execute_result"
    }
   ],
   "execution_count": 11
  },
  {
   "metadata": {
    "ExecuteTime": {
     "end_time": "2025-10-02T03:09:27.229175Z",
     "start_time": "2025-10-02T03:09:27.226689Z"
    }
   },
   "cell_type": "code",
   "source": "5//7.5",
   "id": "72988bfe2dc17a1b",
   "outputs": [
    {
     "data": {
      "text/plain": [
       "0.0"
      ]
     },
     "execution_count": 12,
     "metadata": {},
     "output_type": "execute_result"
    }
   ],
   "execution_count": 12
  },
  {
   "metadata": {
    "ExecuteTime": {
     "end_time": "2025-10-02T03:09:35.591427Z",
     "start_time": "2025-10-02T03:09:35.588702Z"
    }
   },
   "cell_type": "code",
   "source": "5**7.5",
   "id": "e8ed2a97e03b5a3d",
   "outputs": [
    {
     "data": {
      "text/plain": [
       "174692.81074217107"
      ]
     },
     "execution_count": 13,
     "metadata": {},
     "output_type": "execute_result"
    }
   ],
   "execution_count": 13
  },
  {
   "metadata": {
    "ExecuteTime": {
     "end_time": "2025-10-02T03:24:35.201057Z",
     "start_time": "2025-10-02T03:24:35.198847Z"
    }
   },
   "cell_type": "code",
   "source": "ord('B')",
   "id": "a5cc099f8ceff2ee",
   "outputs": [
    {
     "data": {
      "text/plain": [
       "66"
      ]
     },
     "execution_count": 14,
     "metadata": {},
     "output_type": "execute_result"
    }
   ],
   "execution_count": 14
  },
  {
   "metadata": {},
   "cell_type": "code",
   "outputs": [],
   "execution_count": null,
   "source": "",
   "id": "53cec334a79c4920"
  }
 ],
 "metadata": {
  "kernelspec": {
   "display_name": "Python 3",
   "language": "python",
   "name": "python3"
  },
  "language_info": {
   "codemirror_mode": {
    "name": "ipython",
    "version": 2
   },
   "file_extension": ".py",
   "mimetype": "text/x-python",
   "name": "python",
   "nbconvert_exporter": "python",
   "pygments_lexer": "ipython2",
   "version": "2.7.6"
  }
 },
 "nbformat": 4,
 "nbformat_minor": 5
}
