{
 "cells": [
  {
   "cell_type": "code",
   "id": "initial_id",
   "metadata": {
    "collapsed": true,
    "ExecuteTime": {
     "end_time": "2025-10-12T03:38:17.531664Z",
     "start_time": "2025-10-12T03:38:17.419112Z"
    }
   },
   "source": "import numpy as np",
   "outputs": [],
   "execution_count": 1
  },
  {
   "metadata": {
    "ExecuteTime": {
     "end_time": "2025-10-12T03:39:24.900048Z",
     "start_time": "2025-10-12T03:39:24.897799Z"
    }
   },
   "cell_type": "code",
   "source": "integers = np.array([[1,2,3,],[4,5,6]])",
   "id": "d86662fb27488b06",
   "outputs": [],
   "execution_count": 5
  },
  {
   "metadata": {
    "ExecuteTime": {
     "end_time": "2025-10-12T03:39:28.726700Z",
     "start_time": "2025-10-12T03:39:28.724590Z"
    }
   },
   "cell_type": "code",
   "source": "floats = np.array([[0.1,0.2,0.3,]])",
   "id": "4ab29c055899df95",
   "outputs": [],
   "execution_count": 7
  },
  {
   "metadata": {
    "ExecuteTime": {
     "end_time": "2025-10-12T03:39:26.984631Z",
     "start_time": "2025-10-12T03:39:26.981636Z"
    }
   },
   "cell_type": "code",
   "source": "integers",
   "id": "cb9981b01497526",
   "outputs": [
    {
     "data": {
      "text/plain": [
       "array([[1, 2, 3],\n",
       "       [4, 5, 6]])"
      ]
     },
     "execution_count": 6,
     "metadata": {},
     "output_type": "execute_result"
    }
   ],
   "execution_count": 6
  },
  {
   "metadata": {
    "ExecuteTime": {
     "end_time": "2025-10-12T03:39:46.134566Z",
     "start_time": "2025-10-12T03:39:46.132016Z"
    }
   },
   "cell_type": "code",
   "source": "floats",
   "id": "fae1809ba21fdfd9",
   "outputs": [
    {
     "data": {
      "text/plain": [
       "array([[0.1, 0.2, 0.3]])"
      ]
     },
     "execution_count": 9,
     "metadata": {},
     "output_type": "execute_result"
    }
   ],
   "execution_count": 9
  },
  {
   "metadata": {
    "ExecuteTime": {
     "end_time": "2025-10-12T05:12:23.824176Z",
     "start_time": "2025-10-12T05:12:23.821292Z"
    }
   },
   "cell_type": "code",
   "source": "integers.dtype",
   "id": "8f49b82300a3f565",
   "outputs": [
    {
     "data": {
      "text/plain": [
       "dtype('int64')"
      ]
     },
     "execution_count": 11,
     "metadata": {},
     "output_type": "execute_result"
    }
   ],
   "execution_count": 11
  },
  {
   "metadata": {
    "ExecuteTime": {
     "end_time": "2025-10-12T05:12:36.566963Z",
     "start_time": "2025-10-12T05:12:36.564120Z"
    }
   },
   "cell_type": "code",
   "source": "integers.ndim",
   "id": "2b58b2a65a9fd7c8",
   "outputs": [
    {
     "data": {
      "text/plain": [
       "2"
      ]
     },
     "execution_count": 12,
     "metadata": {},
     "output_type": "execute_result"
    }
   ],
   "execution_count": 12
  },
  {
   "metadata": {
    "ExecuteTime": {
     "end_time": "2025-10-12T05:12:47.391116Z",
     "start_time": "2025-10-12T05:12:47.388448Z"
    }
   },
   "cell_type": "code",
   "source": "floats.ndim",
   "id": "6d8e0ec46ebc629e",
   "outputs": [
    {
     "data": {
      "text/plain": [
       "2"
      ]
     },
     "execution_count": 13,
     "metadata": {},
     "output_type": "execute_result"
    }
   ],
   "execution_count": 13
  },
  {
   "metadata": {
    "ExecuteTime": {
     "end_time": "2025-10-12T05:12:58.297539Z",
     "start_time": "2025-10-12T05:12:58.294664Z"
    }
   },
   "cell_type": "code",
   "source": "integers.shape",
   "id": "fab6210adaafa27c",
   "outputs": [
    {
     "data": {
      "text/plain": [
       "(2, 3)"
      ]
     },
     "execution_count": 14,
     "metadata": {},
     "output_type": "execute_result"
    }
   ],
   "execution_count": 14
  },
  {
   "metadata": {
    "ExecuteTime": {
     "end_time": "2025-10-12T05:13:05.394354Z",
     "start_time": "2025-10-12T05:13:05.392388Z"
    }
   },
   "cell_type": "code",
   "source": "floats.shape",
   "id": "7e91056406390c26",
   "outputs": [
    {
     "data": {
      "text/plain": [
       "(1, 3)"
      ]
     },
     "execution_count": 15,
     "metadata": {},
     "output_type": "execute_result"
    }
   ],
   "execution_count": 15
  },
  {
   "metadata": {
    "ExecuteTime": {
     "end_time": "2025-10-12T05:15:12.293749Z",
     "start_time": "2025-10-12T05:15:12.291298Z"
    }
   },
   "cell_type": "code",
   "source": "integers.size",
   "id": "5f90da835e6b75f5",
   "outputs": [
    {
     "data": {
      "text/plain": [
       "6"
      ]
     },
     "execution_count": 16,
     "metadata": {},
     "output_type": "execute_result"
    }
   ],
   "execution_count": 16
  },
  {
   "metadata": {
    "ExecuteTime": {
     "end_time": "2025-10-12T05:16:46.546803Z",
     "start_time": "2025-10-12T05:16:46.544058Z"
    }
   },
   "cell_type": "code",
   "source": "integers.itemsize",
   "id": "6292eb3a58a8405e",
   "outputs": [
    {
     "data": {
      "text/plain": [
       "8"
      ]
     },
     "execution_count": 17,
     "metadata": {},
     "output_type": "execute_result"
    }
   ],
   "execution_count": 17
  },
  {
   "metadata": {
    "ExecuteTime": {
     "end_time": "2025-10-12T05:22:12.291718Z",
     "start_time": "2025-10-12T05:22:12.289194Z"
    }
   },
   "cell_type": "code",
   "source": [
    "for row in integers:\n",
    "    for column in row:\n",
    "        print(column, end=\" \")\n",
    "    print()"
   ],
   "id": "6b81e60ec221bf2",
   "outputs": [
    {
     "name": "stdout",
     "output_type": "stream",
     "text": [
      "1 2 3 \n",
      "4 5 6 \n"
     ]
    }
   ],
   "execution_count": 20
  },
  {
   "metadata": {
    "ExecuteTime": {
     "end_time": "2025-10-12T05:22:40.137070Z",
     "start_time": "2025-10-12T05:22:40.135320Z"
    }
   },
   "cell_type": "code",
   "source": [
    "for i in integers.flat:\n",
    "    print(i, end=\" \")"
   ],
   "id": "15f3ab9c749d44f3",
   "outputs": [
    {
     "name": "stdout",
     "output_type": "stream",
     "text": [
      "1 2 3 4 5 6 "
     ]
    }
   ],
   "execution_count": 22
  },
  {
   "metadata": {},
   "cell_type": "code",
   "outputs": [],
   "execution_count": null,
   "source": "",
   "id": "f951ac64502b3d8"
  }
 ],
 "metadata": {
  "kernelspec": {
   "display_name": "Python 3",
   "language": "python",
   "name": "python3"
  },
  "language_info": {
   "codemirror_mode": {
    "name": "ipython",
    "version": 2
   },
   "file_extension": ".py",
   "mimetype": "text/x-python",
   "name": "python",
   "nbconvert_exporter": "python",
   "pygments_lexer": "ipython2",
   "version": "2.7.6"
  }
 },
 "nbformat": 4,
 "nbformat_minor": 5
}
