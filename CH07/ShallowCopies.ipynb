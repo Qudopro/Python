{
 "cells": [
  {
   "cell_type": "code",
   "id": "initial_id",
   "metadata": {
    "collapsed": true,
    "ExecuteTime": {
     "end_time": "2025-10-15T05:53:19.744528Z",
     "start_time": "2025-10-15T05:53:19.722407Z"
    }
   },
   "source": "import numpy as np",
   "outputs": [],
   "execution_count": 1
  },
  {
   "metadata": {
    "ExecuteTime": {
     "end_time": "2025-10-15T05:53:30.520382Z",
     "start_time": "2025-10-15T05:53:30.518064Z"
    }
   },
   "cell_type": "code",
   "source": "numbers = np.arange(1,6)",
   "id": "1d1596081e52863",
   "outputs": [],
   "execution_count": 2
  },
  {
   "metadata": {
    "ExecuteTime": {
     "end_time": "2025-10-15T05:53:38.058876Z",
     "start_time": "2025-10-15T05:53:38.056889Z"
    }
   },
   "cell_type": "code",
   "source": "numbers2 = numbers.view()",
   "id": "aa02c8f5fdb6fc99",
   "outputs": [],
   "execution_count": 3
  },
  {
   "metadata": {
    "ExecuteTime": {
     "end_time": "2025-10-15T05:53:42.189114Z",
     "start_time": "2025-10-15T05:53:42.185129Z"
    }
   },
   "cell_type": "code",
   "source": "numbers",
   "id": "949770d8b9504d92",
   "outputs": [
    {
     "data": {
      "text/plain": [
       "array([1, 2, 3, 4, 5])"
      ]
     },
     "execution_count": 4,
     "metadata": {},
     "output_type": "execute_result"
    }
   ],
   "execution_count": 4
  },
  {
   "metadata": {
    "ExecuteTime": {
     "end_time": "2025-10-15T05:53:46.105963Z",
     "start_time": "2025-10-15T05:53:46.103277Z"
    }
   },
   "cell_type": "code",
   "source": "numbers2",
   "id": "1b5a88f2b44fcbe5",
   "outputs": [
    {
     "data": {
      "text/plain": [
       "array([1, 2, 3, 4, 5])"
      ]
     },
     "execution_count": 5,
     "metadata": {},
     "output_type": "execute_result"
    }
   ],
   "execution_count": 5
  },
  {
   "metadata": {
    "ExecuteTime": {
     "end_time": "2025-10-15T05:55:44.340380Z",
     "start_time": "2025-10-15T05:55:44.338378Z"
    }
   },
   "cell_type": "code",
   "source": "numbers[1]*=10",
   "id": "188a59d86d5cc258",
   "outputs": [],
   "execution_count": 6
  },
  {
   "metadata": {
    "ExecuteTime": {
     "end_time": "2025-10-15T05:55:48.371681Z",
     "start_time": "2025-10-15T05:55:48.368451Z"
    }
   },
   "cell_type": "code",
   "source": "numbers",
   "id": "fb899a23e255fb38",
   "outputs": [
    {
     "data": {
      "text/plain": [
       "array([ 1, 20,  3,  4,  5])"
      ]
     },
     "execution_count": 7,
     "metadata": {},
     "output_type": "execute_result"
    }
   ],
   "execution_count": 7
  },
  {
   "metadata": {
    "ExecuteTime": {
     "end_time": "2025-10-15T05:55:53.173275Z",
     "start_time": "2025-10-15T05:55:53.170621Z"
    }
   },
   "cell_type": "code",
   "source": "numbers2",
   "id": "fc186b01b538dfc1",
   "outputs": [
    {
     "data": {
      "text/plain": [
       "array([ 1, 20,  3,  4,  5])"
      ]
     },
     "execution_count": 8,
     "metadata": {},
     "output_type": "execute_result"
    }
   ],
   "execution_count": 8
  },
  {
   "metadata": {
    "ExecuteTime": {
     "end_time": "2025-10-15T05:56:06.083383Z",
     "start_time": "2025-10-15T05:56:06.080260Z"
    }
   },
   "cell_type": "code",
   "source": [
    "numbers2[1]/=10\n",
    "numbers"
   ],
   "id": "f8668355326d8007",
   "outputs": [
    {
     "data": {
      "text/plain": [
       "array([1, 2, 3, 4, 5])"
      ]
     },
     "execution_count": 9,
     "metadata": {},
     "output_type": "execute_result"
    }
   ],
   "execution_count": 9
  },
  {
   "metadata": {
    "ExecuteTime": {
     "end_time": "2025-10-15T05:58:38.724134Z",
     "start_time": "2025-10-15T05:58:38.720889Z"
    }
   },
   "cell_type": "code",
   "source": [
    "numbers2 = numbers[0:3]\n",
    "numbers2"
   ],
   "id": "94a783b482f25bc7",
   "outputs": [
    {
     "data": {
      "text/plain": [
       "array([1, 2, 3])"
      ]
     },
     "execution_count": 10,
     "metadata": {},
     "output_type": "execute_result"
    }
   ],
   "execution_count": 10
  },
  {
   "metadata": {
    "ExecuteTime": {
     "end_time": "2025-10-15T05:58:47.050427Z",
     "start_time": "2025-10-15T05:58:47.048172Z"
    }
   },
   "cell_type": "code",
   "source": "numbers[1]*=20",
   "id": "90729ca23efe8988",
   "outputs": [],
   "execution_count": 11
  },
  {
   "metadata": {
    "ExecuteTime": {
     "end_time": "2025-10-15T05:58:52.323478Z",
     "start_time": "2025-10-15T05:58:52.320694Z"
    }
   },
   "cell_type": "code",
   "source": "numbers",
   "id": "c250cedcf131355e",
   "outputs": [
    {
     "data": {
      "text/plain": [
       "array([ 1, 40,  3,  4,  5])"
      ]
     },
     "execution_count": 12,
     "metadata": {},
     "output_type": "execute_result"
    }
   ],
   "execution_count": 12
  },
  {
   "metadata": {
    "ExecuteTime": {
     "end_time": "2025-10-15T05:58:56.766126Z",
     "start_time": "2025-10-15T05:58:56.763305Z"
    }
   },
   "cell_type": "code",
   "source": "numbers2",
   "id": "9efde7bf238eab67",
   "outputs": [
    {
     "data": {
      "text/plain": [
       "array([ 1, 40,  3])"
      ]
     },
     "execution_count": 13,
     "metadata": {},
     "output_type": "execute_result"
    }
   ],
   "execution_count": 13
  },
  {
   "metadata": {},
   "cell_type": "code",
   "outputs": [],
   "execution_count": null,
   "source": "",
   "id": "37e48bbf576771bd"
  }
 ],
 "metadata": {
  "kernelspec": {
   "display_name": "Python 3",
   "language": "python",
   "name": "python3"
  },
  "language_info": {
   "codemirror_mode": {
    "name": "ipython",
    "version": 2
   },
   "file_extension": ".py",
   "mimetype": "text/x-python",
   "name": "python",
   "nbconvert_exporter": "python",
   "pygments_lexer": "ipython2",
   "version": "2.7.6"
  }
 },
 "nbformat": 4,
 "nbformat_minor": 5
}
