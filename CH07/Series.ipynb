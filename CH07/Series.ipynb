{
 "cells": [
  {
   "cell_type": "code",
   "id": "initial_id",
   "metadata": {
    "collapsed": true,
    "ExecuteTime": {
     "end_time": "2025-10-20T02:27:03.402439Z",
     "start_time": "2025-10-20T02:27:03.400234Z"
    }
   },
   "source": "import pandas as pd",
   "outputs": [],
   "execution_count": 11
  },
  {
   "metadata": {
    "ExecuteTime": {
     "end_time": "2025-10-20T02:27:03.416226Z",
     "start_time": "2025-10-20T02:27:03.414161Z"
    }
   },
   "cell_type": "code",
   "source": "grades = pd.Series([1,2,3,4,5,6,7,8,9,10,11,12,13,14,15])",
   "id": "8c320720eb3d24e",
   "outputs": [],
   "execution_count": 12
  },
  {
   "metadata": {
    "ExecuteTime": {
     "end_time": "2025-10-20T02:27:03.427886Z",
     "start_time": "2025-10-20T02:27:03.425601Z"
    }
   },
   "cell_type": "code",
   "source": "grades",
   "id": "e78af76b8149f87f",
   "outputs": [
    {
     "data": {
      "text/plain": [
       "0      1\n",
       "1      2\n",
       "2      3\n",
       "3      4\n",
       "4      5\n",
       "5      6\n",
       "6      7\n",
       "7      8\n",
       "8      9\n",
       "9     10\n",
       "10    11\n",
       "11    12\n",
       "12    13\n",
       "13    14\n",
       "14    15\n",
       "dtype: int64"
      ]
     },
     "execution_count": 13,
     "metadata": {},
     "output_type": "execute_result"
    }
   ],
   "execution_count": 13
  },
  {
   "metadata": {
    "ExecuteTime": {
     "end_time": "2025-10-20T02:27:03.440880Z",
     "start_time": "2025-10-20T02:27:03.438237Z"
    }
   },
   "cell_type": "code",
   "source": "pd.Series(98.6, range(3))",
   "id": "5a0bab3d3f257ecd",
   "outputs": [
    {
     "data": {
      "text/plain": [
       "0    98.6\n",
       "1    98.6\n",
       "2    98.6\n",
       "dtype: float64"
      ]
     },
     "execution_count": 14,
     "metadata": {},
     "output_type": "execute_result"
    }
   ],
   "execution_count": 14
  },
  {
   "metadata": {
    "ExecuteTime": {
     "end_time": "2025-10-20T02:27:03.453476Z",
     "start_time": "2025-10-20T02:27:03.451665Z"
    }
   },
   "cell_type": "code",
   "source": "grades[0]",
   "id": "378c4dc994181fb2",
   "outputs": [
    {
     "data": {
      "text/plain": [
       "np.int64(1)"
      ]
     },
     "execution_count": 15,
     "metadata": {},
     "output_type": "execute_result"
    }
   ],
   "execution_count": 15
  },
  {
   "metadata": {
    "ExecuteTime": {
     "end_time": "2025-10-20T02:27:03.464367Z",
     "start_time": "2025-10-20T02:27:03.461247Z"
    }
   },
   "cell_type": "code",
   "source": "grades.describe()",
   "id": "b6d57336c887242",
   "outputs": [
    {
     "data": {
      "text/plain": [
       "count    15.000000\n",
       "mean      8.000000\n",
       "std       4.472136\n",
       "min       1.000000\n",
       "25%       4.500000\n",
       "50%       8.000000\n",
       "75%      11.500000\n",
       "max      15.000000\n",
       "dtype: float64"
      ]
     },
     "execution_count": 16,
     "metadata": {},
     "output_type": "execute_result"
    }
   ],
   "execution_count": 16
  },
  {
   "metadata": {
    "ExecuteTime": {
     "end_time": "2025-10-20T02:27:03.470656Z",
     "start_time": "2025-10-20T02:27:03.469084Z"
    }
   },
   "cell_type": "code",
   "source": "grades = pd.Series([87,97,100], index=['Wally', 'Eva', 'Sam'])",
   "id": "8c8425f41de919b9",
   "outputs": [],
   "execution_count": 17
  },
  {
   "metadata": {
    "ExecuteTime": {
     "end_time": "2025-10-20T02:27:03.477305Z",
     "start_time": "2025-10-20T02:27:03.475372Z"
    }
   },
   "cell_type": "code",
   "source": "grades",
   "id": "ddeddf1c3a06dfd9",
   "outputs": [
    {
     "data": {
      "text/plain": [
       "Wally     87\n",
       "Eva       97\n",
       "Sam      100\n",
       "dtype: int64"
      ]
     },
     "execution_count": 18,
     "metadata": {},
     "output_type": "execute_result"
    }
   ],
   "execution_count": 18
  },
  {
   "metadata": {
    "ExecuteTime": {
     "end_time": "2025-10-20T02:27:03.486945Z",
     "start_time": "2025-10-20T02:27:03.484464Z"
    }
   },
   "cell_type": "code",
   "source": [
    "grades = pd.Series({'Wally': 87, 'Eva': 97, 'Sam': 100})\n",
    "grades"
   ],
   "id": "58fe634931e4afde",
   "outputs": [
    {
     "data": {
      "text/plain": [
       "Wally     87\n",
       "Eva       97\n",
       "Sam      100\n",
       "dtype: int64"
      ]
     },
     "execution_count": 19,
     "metadata": {},
     "output_type": "execute_result"
    }
   ],
   "execution_count": 19
  },
  {
   "metadata": {
    "ExecuteTime": {
     "end_time": "2025-10-20T02:27:03.493592Z",
     "start_time": "2025-10-20T02:27:03.491702Z"
    }
   },
   "cell_type": "code",
   "source": "grades['Wally']",
   "id": "a5687e11c1500350",
   "outputs": [
    {
     "data": {
      "text/plain": [
       "np.int64(87)"
      ]
     },
     "execution_count": 20,
     "metadata": {},
     "output_type": "execute_result"
    }
   ],
   "execution_count": 20
  },
  {
   "metadata": {
    "ExecuteTime": {
     "end_time": "2025-10-20T02:30:11.629079Z",
     "start_time": "2025-10-20T02:30:11.626319Z"
    }
   },
   "cell_type": "code",
   "source": "grades.Wally",
   "id": "a4b98ab4708008bc",
   "outputs": [
    {
     "data": {
      "text/plain": [
       "np.int64(87)"
      ]
     },
     "execution_count": 22,
     "metadata": {},
     "output_type": "execute_result"
    }
   ],
   "execution_count": 22
  },
  {
   "metadata": {
    "ExecuteTime": {
     "end_time": "2025-10-20T02:30:17.280450Z",
     "start_time": "2025-10-20T02:30:17.277720Z"
    }
   },
   "cell_type": "code",
   "source": "grades.dtype",
   "id": "c4191b9f38fb5e2d",
   "outputs": [
    {
     "data": {
      "text/plain": [
       "dtype('int64')"
      ]
     },
     "execution_count": 23,
     "metadata": {},
     "output_type": "execute_result"
    }
   ],
   "execution_count": 23
  },
  {
   "metadata": {
    "ExecuteTime": {
     "end_time": "2025-10-20T02:30:24.387953Z",
     "start_time": "2025-10-20T02:30:24.385348Z"
    }
   },
   "cell_type": "code",
   "source": "grades.values",
   "id": "ce0ec58e1baaba05",
   "outputs": [
    {
     "data": {
      "text/plain": [
       "array([ 87,  97, 100])"
      ]
     },
     "execution_count": 24,
     "metadata": {},
     "output_type": "execute_result"
    }
   ],
   "execution_count": 24
  },
  {
   "metadata": {
    "ExecuteTime": {
     "end_time": "2025-10-20T02:38:41.558465Z",
     "start_time": "2025-10-20T02:38:41.554917Z"
    }
   },
   "cell_type": "code",
   "source": [
    "hardware = pd.Series(['Hammer', 'Saw', 'Wrench'])\n",
    "hardware.str.contains('a')"
   ],
   "id": "30531420f0ac3272",
   "outputs": [
    {
     "data": {
      "text/plain": [
       "0     True\n",
       "1     True\n",
       "2    False\n",
       "dtype: bool"
      ]
     },
     "execution_count": 27,
     "metadata": {},
     "output_type": "execute_result"
    }
   ],
   "execution_count": 27
  },
  {
   "metadata": {
    "ExecuteTime": {
     "end_time": "2025-10-20T02:41:11.265352Z",
     "start_time": "2025-10-20T02:41:11.262039Z"
    }
   },
   "cell_type": "code",
   "source": "hardware.str.upper()",
   "id": "549ba35102ede94c",
   "outputs": [
    {
     "data": {
      "text/plain": [
       "0    HAMMER\n",
       "1       SAW\n",
       "2    WRENCH\n",
       "dtype: object"
      ]
     },
     "execution_count": 28,
     "metadata": {},
     "output_type": "execute_result"
    }
   ],
   "execution_count": 28
  },
  {
   "metadata": {
    "ExecuteTime": {
     "end_time": "2025-10-20T02:41:11.324611Z",
     "start_time": "2025-10-20T02:41:11.323198Z"
    }
   },
   "cell_type": "code",
   "source": "",
   "id": "fc0715cb506d9728",
   "outputs": [],
   "execution_count": null
  },
  {
   "metadata": {},
   "cell_type": "code",
   "outputs": [],
   "execution_count": null,
   "source": "",
   "id": "b9ca5e84a846e9df"
  }
 ],
 "metadata": {
  "kernelspec": {
   "display_name": "Python 3",
   "language": "python",
   "name": "python3"
  },
  "language_info": {
   "codemirror_mode": {
    "name": "ipython",
    "version": 2
   },
   "file_extension": ".py",
   "mimetype": "text/x-python",
   "name": "python",
   "nbconvert_exporter": "python",
   "pygments_lexer": "ipython2",
   "version": "2.7.6"
  }
 },
 "nbformat": 4,
 "nbformat_minor": 5
}
