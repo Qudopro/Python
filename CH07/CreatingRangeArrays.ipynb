{
 "cells": [
  {
   "cell_type": "code",
   "id": "initial_id",
   "metadata": {
    "collapsed": true,
    "ExecuteTime": {
     "end_time": "2025-10-14T05:32:26.374470Z",
     "start_time": "2025-10-14T05:32:26.312553Z"
    }
   },
   "source": "import numpy as np",
   "outputs": [],
   "execution_count": 1
  },
  {
   "metadata": {
    "ExecuteTime": {
     "end_time": "2025-10-14T05:32:28.550017Z",
     "start_time": "2025-10-14T05:32:28.546852Z"
    }
   },
   "cell_type": "code",
   "source": "np.arange(5)",
   "id": "d0d814d93adf621e",
   "outputs": [
    {
     "data": {
      "text/plain": [
       "array([0, 1, 2, 3, 4])"
      ]
     },
     "execution_count": 2,
     "metadata": {},
     "output_type": "execute_result"
    }
   ],
   "execution_count": 2
  },
  {
   "metadata": {
    "ExecuteTime": {
     "end_time": "2025-10-14T05:32:29.986949Z",
     "start_time": "2025-10-14T05:32:29.984528Z"
    }
   },
   "cell_type": "code",
   "source": "np.arange(5,10)",
   "id": "59a9b02ca9d4851f",
   "outputs": [
    {
     "data": {
      "text/plain": [
       "array([5, 6, 7, 8, 9])"
      ]
     },
     "execution_count": 3,
     "metadata": {},
     "output_type": "execute_result"
    }
   ],
   "execution_count": 3
  },
  {
   "metadata": {
    "ExecuteTime": {
     "end_time": "2025-10-14T05:31:35.867139Z",
     "start_time": "2025-10-12T05:46:24.716183Z"
    }
   },
   "cell_type": "code",
   "source": "np.arange(10,1,-2)",
   "id": "5c386ea61b3d7ca2",
   "outputs": [
    {
     "data": {
      "text/plain": [
       "array([10,  8,  6,  4,  2])"
      ]
     },
     "execution_count": 4,
     "metadata": {},
     "output_type": "execute_result"
    }
   ],
   "execution_count": 4
  },
  {
   "metadata": {
    "ExecuteTime": {
     "end_time": "2025-10-14T05:32:31.897584Z",
     "start_time": "2025-10-14T05:32:31.895016Z"
    }
   },
   "cell_type": "code",
   "source": "np.linspace(0.0,1.0,num=5)",
   "id": "c54d27090054f74f",
   "outputs": [
    {
     "data": {
      "text/plain": [
       "array([0.  , 0.25, 0.5 , 0.75, 1.  ])"
      ]
     },
     "execution_count": 4,
     "metadata": {},
     "output_type": "execute_result"
    }
   ],
   "execution_count": 4
  },
  {
   "metadata": {
    "ExecuteTime": {
     "end_time": "2025-10-14T05:36:23.689913Z",
     "start_time": "2025-10-14T05:36:23.686946Z"
    }
   },
   "cell_type": "code",
   "source": "np.arange(1,21).reshape(4,5)",
   "id": "2daa86c16c4aa161",
   "outputs": [
    {
     "data": {
      "text/plain": [
       "array([[ 1,  2,  3,  4,  5],\n",
       "       [ 6,  7,  8,  9, 10],\n",
       "       [11, 12, 13, 14, 15],\n",
       "       [16, 17, 18, 19, 20]])"
      ]
     },
     "execution_count": 5,
     "metadata": {},
     "output_type": "execute_result"
    }
   ],
   "execution_count": 5
  },
  {
   "metadata": {
    "ExecuteTime": {
     "end_time": "2025-10-14T05:39:57.006487Z",
     "start_time": "2025-10-14T05:39:57.004106Z"
    }
   },
   "cell_type": "code",
   "source": "np.arange(1,100001).reshape(4,25000)",
   "id": "1576ae8c4731f527",
   "outputs": [
    {
     "data": {
      "text/plain": [
       "array([[     1,      2,      3, ...,  24998,  24999,  25000],\n",
       "       [ 25001,  25002,  25003, ...,  49998,  49999,  50000],\n",
       "       [ 50001,  50002,  50003, ...,  74998,  74999,  75000],\n",
       "       [ 75001,  75002,  75003, ...,  99998,  99999, 100000]],\n",
       "      shape=(4, 25000))"
      ]
     },
     "execution_count": 6,
     "metadata": {},
     "output_type": "execute_result"
    }
   ],
   "execution_count": 6
  },
  {
   "metadata": {},
   "cell_type": "code",
   "outputs": [],
   "execution_count": null,
   "source": "",
   "id": "3615fba074e04e01"
  }
 ],
 "metadata": {
  "kernelspec": {
   "display_name": "Python 3",
   "language": "python",
   "name": "python3"
  },
  "language_info": {
   "codemirror_mode": {
    "name": "ipython",
    "version": 2
   },
   "file_extension": ".py",
   "mimetype": "text/x-python",
   "name": "python",
   "nbconvert_exporter": "python",
   "pygments_lexer": "ipython2",
   "version": "2.7.6"
  }
 },
 "nbformat": 4,
 "nbformat_minor": 5
}
