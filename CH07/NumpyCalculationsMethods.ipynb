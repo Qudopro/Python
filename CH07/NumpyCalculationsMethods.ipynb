{
 "cells": [
  {
   "cell_type": "code",
   "id": "initial_id",
   "metadata": {
    "collapsed": true,
    "ExecuteTime": {
     "end_time": "2025-10-15T03:05:33.197177Z",
     "start_time": "2025-10-15T03:05:33.175549Z"
    }
   },
   "source": "import numpy as np",
   "outputs": [],
   "execution_count": 1
  },
  {
   "metadata": {
    "ExecuteTime": {
     "end_time": "2025-10-15T03:06:11.819971Z",
     "start_time": "2025-10-15T03:06:11.817603Z"
    }
   },
   "cell_type": "code",
   "source": "grades = np.array([[87,96,70],[77,78,89]])",
   "id": "76556bf775caf1e4",
   "outputs": [],
   "execution_count": 2
  },
  {
   "metadata": {
    "ExecuteTime": {
     "end_time": "2025-10-15T03:06:17.764650Z",
     "start_time": "2025-10-15T03:06:17.760401Z"
    }
   },
   "cell_type": "code",
   "source": "grades.sum()",
   "id": "318d2cc9492d0c65",
   "outputs": [
    {
     "data": {
      "text/plain": [
       "np.int64(497)"
      ]
     },
     "execution_count": 3,
     "metadata": {},
     "output_type": "execute_result"
    }
   ],
   "execution_count": 3
  },
  {
   "metadata": {
    "ExecuteTime": {
     "end_time": "2025-10-15T03:06:22.494827Z",
     "start_time": "2025-10-15T03:06:22.492185Z"
    }
   },
   "cell_type": "code",
   "source": "grades.min()",
   "id": "b5cfe53d86be80a",
   "outputs": [
    {
     "data": {
      "text/plain": [
       "np.int64(70)"
      ]
     },
     "execution_count": 4,
     "metadata": {},
     "output_type": "execute_result"
    }
   ],
   "execution_count": 4
  },
  {
   "metadata": {
    "ExecuteTime": {
     "end_time": "2025-10-15T03:06:27.503266Z",
     "start_time": "2025-10-15T03:06:27.500603Z"
    }
   },
   "cell_type": "code",
   "source": "grades.max()",
   "id": "2797338a75222558",
   "outputs": [
    {
     "data": {
      "text/plain": [
       "np.int64(96)"
      ]
     },
     "execution_count": 5,
     "metadata": {},
     "output_type": "execute_result"
    }
   ],
   "execution_count": 5
  },
  {
   "metadata": {
    "ExecuteTime": {
     "end_time": "2025-10-15T03:06:32.706838Z",
     "start_time": "2025-10-15T03:06:32.703651Z"
    }
   },
   "cell_type": "code",
   "source": "grades.mean()",
   "id": "472389ac3e943794",
   "outputs": [
    {
     "data": {
      "text/plain": [
       "np.float64(82.83333333333333)"
      ]
     },
     "execution_count": 6,
     "metadata": {},
     "output_type": "execute_result"
    }
   ],
   "execution_count": 6
  },
  {
   "metadata": {
    "ExecuteTime": {
     "end_time": "2025-10-15T03:06:41.573421Z",
     "start_time": "2025-10-15T03:06:41.570384Z"
    }
   },
   "cell_type": "code",
   "source": "grades.std()",
   "id": "1fd6c94080bffca7",
   "outputs": [
    {
     "data": {
      "text/plain": [
       "np.float64(8.668269082630562)"
      ]
     },
     "execution_count": 7,
     "metadata": {},
     "output_type": "execute_result"
    }
   ],
   "execution_count": 7
  },
  {
   "metadata": {
    "ExecuteTime": {
     "end_time": "2025-10-15T03:06:45.818024Z",
     "start_time": "2025-10-15T03:06:45.815383Z"
    }
   },
   "cell_type": "code",
   "source": "grades.var()",
   "id": "776efcca79686fbd",
   "outputs": [
    {
     "data": {
      "text/plain": [
       "np.float64(75.13888888888889)"
      ]
     },
     "execution_count": 8,
     "metadata": {},
     "output_type": "execute_result"
    }
   ],
   "execution_count": 8
  },
  {
   "metadata": {
    "ExecuteTime": {
     "end_time": "2025-10-15T03:06:54.406180Z",
     "start_time": "2025-10-15T03:06:54.403578Z"
    }
   },
   "cell_type": "code",
   "source": "grades.mean(axis=0)",
   "id": "24df697bcbd31c83",
   "outputs": [
    {
     "data": {
      "text/plain": [
       "array([82. , 87. , 79.5])"
      ]
     },
     "execution_count": 9,
     "metadata": {},
     "output_type": "execute_result"
    }
   ],
   "execution_count": 9
  },
  {
   "metadata": {
    "ExecuteTime": {
     "end_time": "2025-10-15T03:07:00.014500Z",
     "start_time": "2025-10-15T03:07:00.012294Z"
    }
   },
   "cell_type": "code",
   "source": "grades.mean(axis=1)",
   "id": "4207328274120e7f",
   "outputs": [
    {
     "data": {
      "text/plain": [
       "array([84.33333333, 81.33333333])"
      ]
     },
     "execution_count": 10,
     "metadata": {},
     "output_type": "execute_result"
    }
   ],
   "execution_count": 10
  },
  {
   "metadata": {},
   "cell_type": "code",
   "outputs": [],
   "execution_count": null,
   "source": "",
   "id": "5dc125376e4ac941"
  }
 ],
 "metadata": {
  "kernelspec": {
   "display_name": "Python 3",
   "language": "python",
   "name": "python3"
  },
  "language_info": {
   "codemirror_mode": {
    "name": "ipython",
    "version": 2
   },
   "file_extension": ".py",
   "mimetype": "text/x-python",
   "name": "python",
   "nbconvert_exporter": "python",
   "pygments_lexer": "ipython2",
   "version": "2.7.6"
  }
 },
 "nbformat": 4,
 "nbformat_minor": 5
}
