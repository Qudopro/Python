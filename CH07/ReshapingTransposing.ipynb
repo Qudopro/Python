{
 "cells": [
  {
   "cell_type": "code",
   "id": "initial_id",
   "metadata": {
    "collapsed": true,
    "ExecuteTime": {
     "end_time": "2025-10-16T04:21:32.869388Z",
     "start_time": "2025-10-16T04:21:32.846720Z"
    }
   },
   "source": "import numpy as np",
   "outputs": [],
   "execution_count": 1
  },
  {
   "metadata": {
    "ExecuteTime": {
     "end_time": "2025-10-16T04:27:01.407512Z",
     "start_time": "2025-10-16T04:27:01.403839Z"
    }
   },
   "cell_type": "code",
   "source": [
    "grades = np.array([[87,98,56],[78,86,85]])\n",
    "grades"
   ],
   "id": "8a16ebf1dbac4b23",
   "outputs": [
    {
     "data": {
      "text/plain": [
       "array([[87, 98, 56],\n",
       "       [78, 86, 85]])"
      ]
     },
     "execution_count": 9,
     "metadata": {},
     "output_type": "execute_result"
    }
   ],
   "execution_count": 9
  },
  {
   "metadata": {
    "ExecuteTime": {
     "end_time": "2025-10-16T04:22:47.438289Z",
     "start_time": "2025-10-16T04:22:47.435646Z"
    }
   },
   "cell_type": "code",
   "source": "grades.reshape(1,6)",
   "id": "9200d6b3d1b8f631",
   "outputs": [
    {
     "data": {
      "text/plain": [
       "array([[87, 98, 56, 78, 86, 85]])"
      ]
     },
     "execution_count": 7,
     "metadata": {},
     "output_type": "execute_result"
    }
   ],
   "execution_count": 7
  },
  {
   "metadata": {
    "ExecuteTime": {
     "end_time": "2025-10-16T04:23:02.544241Z",
     "start_time": "2025-10-16T04:23:02.541291Z"
    }
   },
   "cell_type": "code",
   "source": [
    "grades.resize(1,6)\n",
    "grades"
   ],
   "id": "c1cd6d4f48eefb21",
   "outputs": [
    {
     "data": {
      "text/plain": [
       "array([[87, 98, 56, 78, 86, 85]])"
      ]
     },
     "execution_count": 8,
     "metadata": {},
     "output_type": "execute_result"
    }
   ],
   "execution_count": 8
  },
  {
   "metadata": {
    "ExecuteTime": {
     "end_time": "2025-10-16T04:27:08.693061Z",
     "start_time": "2025-10-16T04:27:08.691253Z"
    }
   },
   "cell_type": "code",
   "source": "flattened = grades.flatten()",
   "id": "c090067aebe60bb1",
   "outputs": [],
   "execution_count": 11
  },
  {
   "metadata": {
    "ExecuteTime": {
     "end_time": "2025-10-16T04:27:15.457768Z",
     "start_time": "2025-10-16T04:27:15.454466Z"
    }
   },
   "cell_type": "code",
   "source": "flattened",
   "id": "2d050adf9019c638",
   "outputs": [
    {
     "data": {
      "text/plain": [
       "array([87, 98, 56, 78, 86, 85])"
      ]
     },
     "execution_count": 12,
     "metadata": {},
     "output_type": "execute_result"
    }
   ],
   "execution_count": 12
  },
  {
   "metadata": {
    "ExecuteTime": {
     "end_time": "2025-10-16T04:29:32.792992Z",
     "start_time": "2025-10-16T04:29:32.790832Z"
    }
   },
   "cell_type": "code",
   "source": "raveled = grades.ravel()",
   "id": "36241a5a00c0154c",
   "outputs": [],
   "execution_count": 13
  },
  {
   "metadata": {
    "ExecuteTime": {
     "end_time": "2025-10-16T04:29:37.158590Z",
     "start_time": "2025-10-16T04:29:37.156162Z"
    }
   },
   "cell_type": "code",
   "source": "raveled",
   "id": "2bc9cdee14334711",
   "outputs": [
    {
     "data": {
      "text/plain": [
       "array([87, 98, 56, 78, 86, 85])"
      ]
     },
     "execution_count": 14,
     "metadata": {},
     "output_type": "execute_result"
    }
   ],
   "execution_count": 14
  },
  {
   "metadata": {
    "ExecuteTime": {
     "end_time": "2025-10-16T04:32:27.000616Z",
     "start_time": "2025-10-16T04:32:26.997890Z"
    }
   },
   "cell_type": "code",
   "source": "grades.T",
   "id": "bf82278e6b1b021d",
   "outputs": [
    {
     "data": {
      "text/plain": [
       "array([[87, 78],\n",
       "       [98, 86],\n",
       "       [56, 85]])"
      ]
     },
     "execution_count": 15,
     "metadata": {},
     "output_type": "execute_result"
    }
   ],
   "execution_count": 15
  },
  {
   "metadata": {
    "ExecuteTime": {
     "end_time": "2025-10-16T04:38:28.202104Z",
     "start_time": "2025-10-16T04:38:28.200175Z"
    }
   },
   "cell_type": "code",
   "source": "grades2 = np.array([[87,98,56],[78,86,85]])",
   "id": "b1b2e3fd6c146d6c",
   "outputs": [],
   "execution_count": 16
  },
  {
   "metadata": {
    "ExecuteTime": {
     "end_time": "2025-10-16T04:38:45.162812Z",
     "start_time": "2025-10-16T04:38:45.159828Z"
    }
   },
   "cell_type": "code",
   "source": "np.hstack((grades,grades2))",
   "id": "ca6bf49e99d5cbcf",
   "outputs": [
    {
     "data": {
      "text/plain": [
       "array([[87, 98, 56, 87, 98, 56],\n",
       "       [78, 86, 85, 78, 86, 85]])"
      ]
     },
     "execution_count": 17,
     "metadata": {},
     "output_type": "execute_result"
    }
   ],
   "execution_count": 17
  },
  {
   "metadata": {
    "ExecuteTime": {
     "end_time": "2025-10-16T04:42:53.131728Z",
     "start_time": "2025-10-16T04:42:53.128721Z"
    }
   },
   "cell_type": "code",
   "source": "np.vstack((grades,grades2))",
   "id": "ae61088b601ed356",
   "outputs": [
    {
     "data": {
      "text/plain": [
       "array([[87, 98, 56],\n",
       "       [78, 86, 85],\n",
       "       [87, 98, 56],\n",
       "       [78, 86, 85]])"
      ]
     },
     "execution_count": 18,
     "metadata": {},
     "output_type": "execute_result"
    }
   ],
   "execution_count": 18
  },
  {
   "metadata": {},
   "cell_type": "code",
   "outputs": [],
   "execution_count": null,
   "source": "",
   "id": "931974576a745183"
  }
 ],
 "metadata": {
  "kernelspec": {
   "display_name": "Python 3",
   "language": "python",
   "name": "python3"
  },
  "language_info": {
   "codemirror_mode": {
    "name": "ipython",
    "version": 2
   },
   "file_extension": ".py",
   "mimetype": "text/x-python",
   "name": "python",
   "nbconvert_exporter": "python",
   "pygments_lexer": "ipython2",
   "version": "2.7.6"
  }
 },
 "nbformat": 4,
 "nbformat_minor": 5
}
