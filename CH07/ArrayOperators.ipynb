{
 "cells": [
  {
   "cell_type": "code",
   "id": "initial_id",
   "metadata": {
    "collapsed": true,
    "ExecuteTime": {
     "end_time": "2025-10-15T02:20:52.882903Z",
     "start_time": "2025-10-15T02:20:52.780329Z"
    }
   },
   "source": "import numpy as np",
   "outputs": [],
   "execution_count": 1
  },
  {
   "metadata": {
    "ExecuteTime": {
     "end_time": "2025-10-15T02:38:07.137862Z",
     "start_time": "2025-10-15T02:38:07.135529Z"
    }
   },
   "cell_type": "code",
   "source": "numbers = np.arange(1,6)",
   "id": "9941980391251b16",
   "outputs": [],
   "execution_count": 7
  },
  {
   "metadata": {
    "ExecuteTime": {
     "end_time": "2025-10-15T02:21:16.150484Z",
     "start_time": "2025-10-15T02:21:16.146126Z"
    }
   },
   "cell_type": "code",
   "source": "numbers*2",
   "id": "c0249402d4aa4711",
   "outputs": [
    {
     "data": {
      "text/plain": [
       "array([ 2,  4,  6,  8, 10])"
      ]
     },
     "execution_count": 4,
     "metadata": {},
     "output_type": "execute_result"
    }
   ],
   "execution_count": 4
  },
  {
   "metadata": {
    "ExecuteTime": {
     "end_time": "2025-10-15T02:38:40.607102Z",
     "start_time": "2025-10-15T02:38:40.603932Z"
    }
   },
   "cell_type": "code",
   "source": "numbers",
   "id": "487d85da4e3c6ab1",
   "outputs": [
    {
     "data": {
      "text/plain": [
       "array([1, 2, 3, 4, 5])"
      ]
     },
     "execution_count": 9,
     "metadata": {},
     "output_type": "execute_result"
    }
   ],
   "execution_count": 9
  },
  {
   "metadata": {
    "ExecuteTime": {
     "end_time": "2025-10-15T02:38:51.213695Z",
     "start_time": "2025-10-15T02:38:51.211766Z"
    }
   },
   "cell_type": "code",
   "source": "numbers += 10",
   "id": "bccbed00ce0d2387",
   "outputs": [],
   "execution_count": 10
  },
  {
   "metadata": {
    "ExecuteTime": {
     "end_time": "2025-10-15T02:39:19.247273Z",
     "start_time": "2025-10-15T02:39:19.245274Z"
    }
   },
   "cell_type": "code",
   "source": "numbers2 = np.linspace(1.1,5.5,5)",
   "id": "12509b4f2bd7f291",
   "outputs": [],
   "execution_count": 11
  },
  {
   "metadata": {
    "ExecuteTime": {
     "end_time": "2025-10-15T02:39:26.697965Z",
     "start_time": "2025-10-15T02:39:26.695046Z"
    }
   },
   "cell_type": "code",
   "source": "numbers*numbers2",
   "id": "b01cafe7f1c8efcc",
   "outputs": [
    {
     "data": {
      "text/plain": [
       "array([12.1, 26.4, 42.9, 61.6, 82.5])"
      ]
     },
     "execution_count": 12,
     "metadata": {},
     "output_type": "execute_result"
    }
   ],
   "execution_count": 12
  },
  {
   "metadata": {
    "ExecuteTime": {
     "end_time": "2025-10-15T02:43:46.576643Z",
     "start_time": "2025-10-15T02:43:46.573941Z"
    }
   },
   "cell_type": "code",
   "source": "numbers <= 13",
   "id": "fbfb4fd10de73442",
   "outputs": [
    {
     "data": {
      "text/plain": [
       "array([ True,  True,  True, False, False])"
      ]
     },
     "execution_count": 13,
     "metadata": {},
     "output_type": "execute_result"
    }
   ],
   "execution_count": 13
  },
  {
   "metadata": {
    "ExecuteTime": {
     "end_time": "2025-10-15T02:43:57.468991Z",
     "start_time": "2025-10-15T02:43:57.466805Z"
    }
   },
   "cell_type": "code",
   "source": "numbers == numbers2",
   "id": "7a4e7146eb987860",
   "outputs": [
    {
     "data": {
      "text/plain": [
       "array([False, False, False, False, False])"
      ]
     },
     "execution_count": 14,
     "metadata": {},
     "output_type": "execute_result"
    }
   ],
   "execution_count": 14
  },
  {
   "metadata": {},
   "cell_type": "code",
   "outputs": [],
   "execution_count": null,
   "source": "",
   "id": "b564854ab5bd1537"
  }
 ],
 "metadata": {
  "kernelspec": {
   "display_name": "Python 3",
   "language": "python",
   "name": "python3"
  },
  "language_info": {
   "codemirror_mode": {
    "name": "ipython",
    "version": 2
   },
   "file_extension": ".py",
   "mimetype": "text/x-python",
   "name": "python",
   "nbconvert_exporter": "python",
   "pygments_lexer": "ipython2",
   "version": "2.7.6"
  }
 },
 "nbformat": 4,
 "nbformat_minor": 5
}
