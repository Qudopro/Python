{
 "cells": [
  {
   "cell_type": "code",
   "id": "initial_id",
   "metadata": {
    "collapsed": true,
    "ExecuteTime": {
     "end_time": "2025-10-14T05:44:18.675068Z",
     "start_time": "2025-10-14T05:44:18.673091Z"
    }
   },
   "source": "import random",
   "outputs": [],
   "execution_count": 1
  },
  {
   "metadata": {
    "ExecuteTime": {
     "end_time": "2025-10-14T05:50:53.695850Z",
     "start_time": "2025-10-14T05:50:46.522697Z"
    }
   },
   "cell_type": "code",
   "source": "%timeit rolls_list = [random.randrange(1,7) for i in range(0,6_000_000)]",
   "id": "326533afae05406d",
   "outputs": [
    {
     "name": "stdout",
     "output_type": "stream",
     "text": [
      "895 ms ± 11.3 ms per loop (mean ± std. dev. of 7 runs, 1 loop each)\n"
     ]
    }
   ],
   "execution_count": 3
  },
  {
   "metadata": {
    "ExecuteTime": {
     "end_time": "2025-10-14T05:51:14.192046Z",
     "start_time": "2025-10-14T05:51:14.164607Z"
    }
   },
   "cell_type": "code",
   "source": "import numpy as np",
   "id": "9212dcf9f83cceb5",
   "outputs": [],
   "execution_count": 4
  },
  {
   "metadata": {
    "ExecuteTime": {
     "end_time": "2025-10-14T05:51:43.766414Z",
     "start_time": "2025-10-14T05:51:41.597036Z"
    }
   },
   "cell_type": "code",
   "source": "%timeit rolls_array = np.random.randint(1,7,6_000_000)",
   "id": "5fe81b6496b2cfcd",
   "outputs": [
    {
     "name": "stdout",
     "output_type": "stream",
     "text": [
      "24.7 ms ± 301 μs per loop (mean ± std. dev. of 7 runs, 10 loops each)\n"
     ]
    }
   ],
   "execution_count": 5
  },
  {
   "metadata": {
    "ExecuteTime": {
     "end_time": "2025-10-14T05:56:24.047896Z",
     "start_time": "2025-10-14T05:56:23.884445Z"
    }
   },
   "cell_type": "code",
   "source": "%timeit -n3 -r2 rolls_array = np.random.randint(1,7,6_000_000)",
   "id": "f39e1a183720e31a",
   "outputs": [
    {
     "name": "stdout",
     "output_type": "stream",
     "text": [
      "26.8 ms ± 2.4 ms per loop (mean ± std. dev. of 2 runs, 3 loops each)\n"
     ]
    }
   ],
   "execution_count": 6
  },
  {
   "metadata": {},
   "cell_type": "code",
   "outputs": [],
   "execution_count": null,
   "source": "",
   "id": "ba7474d554efa69b"
  }
 ],
 "metadata": {
  "kernelspec": {
   "display_name": "Python 3",
   "language": "python",
   "name": "python3"
  },
  "language_info": {
   "codemirror_mode": {
    "name": "ipython",
    "version": 2
   },
   "file_extension": ".py",
   "mimetype": "text/x-python",
   "name": "python",
   "nbconvert_exporter": "python",
   "pygments_lexer": "ipython2",
   "version": "2.7.6"
  }
 },
 "nbformat": 4,
 "nbformat_minor": 5
}
