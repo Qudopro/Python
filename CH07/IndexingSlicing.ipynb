{
 "cells": [
  {
   "cell_type": "code",
   "id": "initial_id",
   "metadata": {
    "collapsed": true,
    "ExecuteTime": {
     "end_time": "2025-10-15T04:32:29.207195Z",
     "start_time": "2025-10-15T04:32:29.183815Z"
    }
   },
   "source": "import numpy as np",
   "outputs": [],
   "execution_count": 1
  },
  {
   "metadata": {
    "ExecuteTime": {
     "end_time": "2025-10-15T04:33:14.418404Z",
     "start_time": "2025-10-15T04:33:14.415586Z"
    }
   },
   "cell_type": "code",
   "source": "grades = np.array([[87,96,70],[100,87,90],[94,74,75],[100,81,82]])",
   "id": "338dc6d903f78a5a",
   "outputs": [],
   "execution_count": 2
  },
  {
   "metadata": {
    "ExecuteTime": {
     "end_time": "2025-10-15T04:33:18.576915Z",
     "start_time": "2025-10-15T04:33:18.572542Z"
    }
   },
   "cell_type": "code",
   "source": "grades[0,1]",
   "id": "7c3ca57697efa21",
   "outputs": [
    {
     "data": {
      "text/plain": [
       "np.int64(96)"
      ]
     },
     "execution_count": 3,
     "metadata": {},
     "output_type": "execute_result"
    }
   ],
   "execution_count": 3
  },
  {
   "metadata": {
    "ExecuteTime": {
     "end_time": "2025-10-15T04:35:16.759674Z",
     "start_time": "2025-10-15T04:35:16.756792Z"
    }
   },
   "cell_type": "code",
   "source": "grades[1]",
   "id": "2eabdfe47d99d39f",
   "outputs": [
    {
     "data": {
      "text/plain": [
       "array([100,  87,  90])"
      ]
     },
     "execution_count": 4,
     "metadata": {},
     "output_type": "execute_result"
    }
   ],
   "execution_count": 4
  },
  {
   "metadata": {
    "ExecuteTime": {
     "end_time": "2025-10-15T04:35:27.915077Z",
     "start_time": "2025-10-15T04:35:27.912487Z"
    }
   },
   "cell_type": "code",
   "source": "grades[0:2]",
   "id": "72829da94aac9b5a",
   "outputs": [
    {
     "data": {
      "text/plain": [
       "array([[ 87,  96,  70],\n",
       "       [100,  87,  90]])"
      ]
     },
     "execution_count": 5,
     "metadata": {},
     "output_type": "execute_result"
    }
   ],
   "execution_count": 5
  },
  {
   "metadata": {
    "ExecuteTime": {
     "end_time": "2025-10-15T04:35:37.625404Z",
     "start_time": "2025-10-15T04:35:37.622256Z"
    }
   },
   "cell_type": "code",
   "source": "grades[[1,3]]",
   "id": "ddd043004768bb55",
   "outputs": [
    {
     "data": {
      "text/plain": [
       "array([[100,  87,  90],\n",
       "       [100,  81,  82]])"
      ]
     },
     "execution_count": 6,
     "metadata": {},
     "output_type": "execute_result"
    }
   ],
   "execution_count": 6
  },
  {
   "metadata": {
    "ExecuteTime": {
     "end_time": "2025-10-15T04:40:08.981207Z",
     "start_time": "2025-10-15T04:40:08.978288Z"
    }
   },
   "cell_type": "code",
   "source": "grades[:,0]",
   "id": "c68473768e0cc565",
   "outputs": [
    {
     "data": {
      "text/plain": [
       "array([ 87, 100,  94, 100])"
      ]
     },
     "execution_count": 7,
     "metadata": {},
     "output_type": "execute_result"
    }
   ],
   "execution_count": 7
  },
  {
   "metadata": {
    "ExecuteTime": {
     "end_time": "2025-10-15T04:40:22.252842Z",
     "start_time": "2025-10-15T04:40:22.249820Z"
    }
   },
   "cell_type": "code",
   "source": "grades[:,1:3]",
   "id": "3fc25e561637f2d4",
   "outputs": [
    {
     "data": {
      "text/plain": [
       "array([[96, 70],\n",
       "       [87, 90],\n",
       "       [74, 75],\n",
       "       [81, 82]])"
      ]
     },
     "execution_count": 8,
     "metadata": {},
     "output_type": "execute_result"
    }
   ],
   "execution_count": 8
  },
  {
   "metadata": {
    "ExecuteTime": {
     "end_time": "2025-10-15T04:40:59.407677Z",
     "start_time": "2025-10-15T04:40:59.405065Z"
    }
   },
   "cell_type": "code",
   "source": "grades[:,[0,2]]",
   "id": "f451e5e4c35e2c34",
   "outputs": [
    {
     "data": {
      "text/plain": [
       "array([[ 87,  70],\n",
       "       [100,  90],\n",
       "       [ 94,  75],\n",
       "       [100,  82]])"
      ]
     },
     "execution_count": 9,
     "metadata": {},
     "output_type": "execute_result"
    }
   ],
   "execution_count": 9
  },
  {
   "metadata": {},
   "cell_type": "code",
   "outputs": [],
   "execution_count": null,
   "source": "",
   "id": "ad3a75bc7e92d25f"
  }
 ],
 "metadata": {
  "kernelspec": {
   "display_name": "Python 3",
   "language": "python",
   "name": "python3"
  },
  "language_info": {
   "codemirror_mode": {
    "name": "ipython",
    "version": 2
   },
   "file_extension": ".py",
   "mimetype": "text/x-python",
   "name": "python",
   "nbconvert_exporter": "python",
   "pygments_lexer": "ipython2",
   "version": "2.7.6"
  }
 },
 "nbformat": 4,
 "nbformat_minor": 5
}
