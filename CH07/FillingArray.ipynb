{
 "cells": [
  {
   "metadata": {
    "ExecuteTime": {
     "end_time": "2025-10-12T05:30:26.636871Z",
     "start_time": "2025-10-12T05:30:26.614224Z"
    }
   },
   "cell_type": "code",
   "source": "import numpy as np",
   "id": "2033a78add514a14",
   "outputs": [],
   "execution_count": 1
  },
  {
   "metadata": {
    "ExecuteTime": {
     "end_time": "2025-10-12T05:30:34.775149Z",
     "start_time": "2025-10-12T05:30:34.770564Z"
    }
   },
   "cell_type": "code",
   "source": "np.zeros(5)",
   "id": "589180ee0ce0ab88",
   "outputs": [
    {
     "data": {
      "text/plain": [
       "array([0., 0., 0., 0., 0.])"
      ]
     },
     "execution_count": 2,
     "metadata": {},
     "output_type": "execute_result"
    }
   ],
   "execution_count": 2
  },
  {
   "metadata": {
    "ExecuteTime": {
     "end_time": "2025-10-12T05:31:36.243286Z",
     "start_time": "2025-10-12T05:31:36.239527Z"
    }
   },
   "cell_type": "code",
   "source": "np.ones((2,4), dtype=int)",
   "id": "c8cac122d3782a8f",
   "outputs": [
    {
     "data": {
      "text/plain": [
       "array([[1, 1, 1, 1],\n",
       "       [1, 1, 1, 1]])"
      ]
     },
     "execution_count": 3,
     "metadata": {},
     "output_type": "execute_result"
    }
   ],
   "execution_count": 3
  },
  {
   "metadata": {
    "ExecuteTime": {
     "end_time": "2025-10-12T05:32:51.532659Z",
     "start_time": "2025-10-12T05:32:51.529103Z"
    }
   },
   "cell_type": "code",
   "source": "np.full((3,5), 13)",
   "id": "37e60acbb337461c",
   "outputs": [
    {
     "data": {
      "text/plain": [
       "array([[13, 13, 13, 13, 13],\n",
       "       [13, 13, 13, 13, 13],\n",
       "       [13, 13, 13, 13, 13]])"
      ]
     },
     "execution_count": 4,
     "metadata": {},
     "output_type": "execute_result"
    }
   ],
   "execution_count": 4
  },
  {
   "metadata": {},
   "cell_type": "code",
   "outputs": [],
   "execution_count": null,
   "source": "",
   "id": "c75d5adfa0840473"
  }
 ],
 "metadata": {
  "kernelspec": {
   "display_name": "Python 3",
   "language": "python",
   "name": "python3"
  },
  "language_info": {
   "codemirror_mode": {
    "name": "ipython",
    "version": 2
   },
   "file_extension": ".py",
   "mimetype": "text/x-python",
   "name": "python",
   "nbconvert_exporter": "python",
   "pygments_lexer": "ipython2",
   "version": "2.7.6"
  }
 },
 "nbformat": 4,
 "nbformat_minor": 5
}
