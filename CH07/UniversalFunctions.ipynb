{
 "cells": [
  {
   "cell_type": "code",
   "id": "initial_id",
   "metadata": {
    "collapsed": true,
    "ExecuteTime": {
     "end_time": "2025-10-15T04:12:40.420149Z",
     "start_time": "2025-10-15T04:12:40.396653Z"
    }
   },
   "source": "import numpy as np",
   "outputs": [],
   "execution_count": 1
  },
  {
   "metadata": {
    "ExecuteTime": {
     "end_time": "2025-10-15T04:13:12.834259Z",
     "start_time": "2025-10-15T04:13:12.829282Z"
    }
   },
   "cell_type": "code",
   "source": [
    "numbers = np.array([1,4,9,16,25,36])\n",
    "np.sqrt(numbers)"
   ],
   "id": "8048797d37169135",
   "outputs": [
    {
     "data": {
      "text/plain": [
       "array([1., 2., 3., 4., 5., 6.])"
      ]
     },
     "execution_count": 2,
     "metadata": {},
     "output_type": "execute_result"
    }
   ],
   "execution_count": 2
  },
  {
   "metadata": {
    "ExecuteTime": {
     "end_time": "2025-10-15T04:13:32.312827Z",
     "start_time": "2025-10-15T04:13:32.309814Z"
    }
   },
   "cell_type": "code",
   "source": [
    "numbers2 = np.arange(1,7)*10\n",
    "np.add(numbers,numbers2)"
   ],
   "id": "3a087cb2797c7cd3",
   "outputs": [
    {
     "data": {
      "text/plain": [
       "array([11, 24, 39, 56, 75, 96])"
      ]
     },
     "execution_count": 3,
     "metadata": {},
     "output_type": "execute_result"
    }
   ],
   "execution_count": 3
  },
  {
   "metadata": {
    "ExecuteTime": {
     "end_time": "2025-10-15T04:16:45.089924Z",
     "start_time": "2025-10-15T04:16:45.087124Z"
    }
   },
   "cell_type": "code",
   "source": "np.multiply(numbers2,5)",
   "id": "125fa5e9fc257d09",
   "outputs": [
    {
     "data": {
      "text/plain": [
       "array([ 50, 100, 150, 200, 250, 300])"
      ]
     },
     "execution_count": 4,
     "metadata": {},
     "output_type": "execute_result"
    }
   ],
   "execution_count": 4
  },
  {
   "metadata": {
    "ExecuteTime": {
     "end_time": "2025-10-15T04:17:00.455809Z",
     "start_time": "2025-10-15T04:17:00.453698Z"
    }
   },
   "cell_type": "code",
   "source": "numbers3 = numbers2.reshape(2,3)",
   "id": "708a4cb865075d3a",
   "outputs": [],
   "execution_count": 5
  },
  {
   "metadata": {
    "ExecuteTime": {
     "end_time": "2025-10-15T04:17:16.187250Z",
     "start_time": "2025-10-15T04:17:16.184988Z"
    }
   },
   "cell_type": "code",
   "source": "numbers4 = np.array([2,4,6])",
   "id": "52f9b0727fc0adf5",
   "outputs": [],
   "execution_count": 6
  },
  {
   "metadata": {
    "ExecuteTime": {
     "end_time": "2025-10-15T04:17:25.537197Z",
     "start_time": "2025-10-15T04:17:25.534057Z"
    }
   },
   "cell_type": "code",
   "source": "np.multiply(numbers3,numbers4)",
   "id": "edd050c404ab5934",
   "outputs": [
    {
     "data": {
      "text/plain": [
       "array([[ 20,  80, 180],\n",
       "       [ 80, 200, 360]])"
      ]
     },
     "execution_count": 7,
     "metadata": {},
     "output_type": "execute_result"
    }
   ],
   "execution_count": 7
  },
  {
   "metadata": {},
   "cell_type": "code",
   "outputs": [],
   "execution_count": null,
   "source": "",
   "id": "3d8f62a270f93cd3"
  }
 ],
 "metadata": {
  "kernelspec": {
   "display_name": "Python 3",
   "language": "python",
   "name": "python3"
  },
  "language_info": {
   "codemirror_mode": {
    "name": "ipython",
    "version": 2
   },
   "file_extension": ".py",
   "mimetype": "text/x-python",
   "name": "python",
   "nbconvert_exporter": "python",
   "pygments_lexer": "ipython2",
   "version": "2.7.6"
  }
 },
 "nbformat": 4,
 "nbformat_minor": 5
}
