{
 "cells": [
  {
   "cell_type": "code",
   "id": "initial_id",
   "metadata": {
    "collapsed": true,
    "ExecuteTime": {
     "end_time": "2025-10-16T03:36:25.082746Z",
     "start_time": "2025-10-16T03:36:24.975134Z"
    }
   },
   "source": "import numpy as np",
   "outputs": [],
   "execution_count": 1
  },
  {
   "metadata": {
    "ExecuteTime": {
     "end_time": "2025-10-16T03:36:43.726469Z",
     "start_time": "2025-10-16T03:36:43.723100Z"
    }
   },
   "cell_type": "code",
   "source": [
    "numbers = np.arange(1,6)\n",
    "numbers"
   ],
   "id": "e49d55865845d055",
   "outputs": [
    {
     "data": {
      "text/plain": [
       "array([1, 2, 3, 4, 5])"
      ]
     },
     "execution_count": 2,
     "metadata": {},
     "output_type": "execute_result"
    }
   ],
   "execution_count": 2
  },
  {
   "metadata": {
    "ExecuteTime": {
     "end_time": "2025-10-16T03:36:52.092219Z",
     "start_time": "2025-10-16T03:36:52.090088Z"
    }
   },
   "cell_type": "code",
   "source": [
    "numbers2 = numbers.copy()\n",
    "numbers2"
   ],
   "id": "5059a85c9b7a2ae2",
   "outputs": [
    {
     "data": {
      "text/plain": [
       "array([1, 2, 3, 4, 5])"
      ]
     },
     "execution_count": 3,
     "metadata": {},
     "output_type": "execute_result"
    }
   ],
   "execution_count": 3
  },
  {
   "metadata": {
    "ExecuteTime": {
     "end_time": "2025-10-16T03:37:05.031571Z",
     "start_time": "2025-10-16T03:37:05.029651Z"
    }
   },
   "cell_type": "code",
   "source": "numbers*=10",
   "id": "6fc85b05a8b169b9",
   "outputs": [],
   "execution_count": 4
  },
  {
   "metadata": {
    "ExecuteTime": {
     "end_time": "2025-10-16T03:37:11.881461Z",
     "start_time": "2025-10-16T03:37:11.879458Z"
    }
   },
   "cell_type": "code",
   "source": "numbers",
   "id": "1804dfbe48c15198",
   "outputs": [
    {
     "data": {
      "text/plain": [
       "array([10, 20, 30, 40, 50])"
      ]
     },
     "execution_count": 6,
     "metadata": {},
     "output_type": "execute_result"
    }
   ],
   "execution_count": 6
  },
  {
   "metadata": {
    "ExecuteTime": {
     "end_time": "2025-10-16T03:37:16.928397Z",
     "start_time": "2025-10-16T03:37:16.925766Z"
    }
   },
   "cell_type": "code",
   "source": "numbers2",
   "id": "c6f9fab6d7dff720",
   "outputs": [
    {
     "data": {
      "text/plain": [
       "array([1, 2, 3, 4, 5])"
      ]
     },
     "execution_count": 7,
     "metadata": {},
     "output_type": "execute_result"
    }
   ],
   "execution_count": 7
  },
  {
   "metadata": {},
   "cell_type": "code",
   "outputs": [],
   "execution_count": null,
   "source": "",
   "id": "fae6df2f9223502"
  }
 ],
 "metadata": {
  "kernelspec": {
   "display_name": "Python 3",
   "language": "python",
   "name": "python3"
  },
  "language_info": {
   "codemirror_mode": {
    "name": "ipython",
    "version": 2
   },
   "file_extension": ".py",
   "mimetype": "text/x-python",
   "name": "python",
   "nbconvert_exporter": "python",
   "pygments_lexer": "ipython2",
   "version": "2.7.6"
  }
 },
 "nbformat": 4,
 "nbformat_minor": 5
}
