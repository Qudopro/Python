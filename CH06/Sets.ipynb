{
 "cells": [
  {
   "cell_type": "code",
   "id": "initial_id",
   "metadata": {
    "collapsed": true,
    "ExecuteTime": {
     "end_time": "2025-10-01T04:42:27.145621Z",
     "start_time": "2025-10-01T04:42:27.143386Z"
    }
   },
   "source": [
    "colors = {'red', 'green', 'blue', 'yellow', 'red', 'magenta', 'cyan', 'white'}\n",
    "print(colors)"
   ],
   "outputs": [
    {
     "name": "stdout",
     "output_type": "stream",
     "text": [
      "{'blue', 'white', 'yellow', 'green', 'magenta', 'red', 'cyan'}\n"
     ]
    }
   ],
   "execution_count": 5
  },
  {
   "metadata": {
    "ExecuteTime": {
     "end_time": "2025-10-01T04:42:28.194625Z",
     "start_time": "2025-10-01T04:42:28.192510Z"
    }
   },
   "cell_type": "code",
   "source": "len(colors)",
   "id": "3a787c90cc561972",
   "outputs": [
    {
     "data": {
      "text/plain": [
       "7"
      ]
     },
     "execution_count": 6,
     "metadata": {},
     "output_type": "execute_result"
    }
   ],
   "execution_count": 6
  },
  {
   "metadata": {
    "ExecuteTime": {
     "end_time": "2025-10-01T04:42:29.358845Z",
     "start_time": "2025-10-01T04:42:29.356544Z"
    }
   },
   "cell_type": "code",
   "source": "'red' in colors",
   "id": "177147e300bf9af7",
   "outputs": [
    {
     "data": {
      "text/plain": [
       "True"
      ]
     },
     "execution_count": 7,
     "metadata": {},
     "output_type": "execute_result"
    }
   ],
   "execution_count": 7
  },
  {
   "metadata": {
    "ExecuteTime": {
     "end_time": "2025-10-01T04:42:30.691506Z",
     "start_time": "2025-10-01T04:42:30.689122Z"
    }
   },
   "cell_type": "code",
   "source": "'purple' not in colors",
   "id": "6ad0053791f005d",
   "outputs": [
    {
     "data": {
      "text/plain": [
       "True"
      ]
     },
     "execution_count": 8,
     "metadata": {},
     "output_type": "execute_result"
    }
   ],
   "execution_count": 8
  },
  {
   "metadata": {
    "ExecuteTime": {
     "end_time": "2025-10-01T04:42:32.884088Z",
     "start_time": "2025-10-01T04:42:32.881922Z"
    }
   },
   "cell_type": "code",
   "source": [
    "for color in colors:\n",
    "    print(color.upper(), end=' ')"
   ],
   "id": "6d8a7c81cc94f449",
   "outputs": [
    {
     "name": "stdout",
     "output_type": "stream",
     "text": [
      "BLUE WHITE YELLOW GREEN MAGENTA RED CYAN "
     ]
    }
   ],
   "execution_count": 9
  },
  {
   "metadata": {
    "ExecuteTime": {
     "end_time": "2025-10-01T04:42:37.894804Z",
     "start_time": "2025-10-01T04:42:37.891923Z"
    }
   },
   "cell_type": "code",
   "source": [
    "numbers = list(range(10))+list(range(5))\n",
    "print(numbers)"
   ],
   "id": "a2fab5d4aaf911fc",
   "outputs": [
    {
     "name": "stdout",
     "output_type": "stream",
     "text": [
      "[0, 1, 2, 3, 4, 5, 6, 7, 8, 9, 0, 1, 2, 3, 4]\n"
     ]
    }
   ],
   "execution_count": 10
  },
  {
   "metadata": {
    "ExecuteTime": {
     "end_time": "2025-10-01T04:42:38.844040Z",
     "start_time": "2025-10-01T04:42:38.841495Z"
    }
   },
   "cell_type": "code",
   "source": "set(numbers)",
   "id": "d0e52af536e10c60",
   "outputs": [
    {
     "data": {
      "text/plain": [
       "{0, 1, 2, 3, 4, 5, 6, 7, 8, 9}"
      ]
     },
     "execution_count": 11,
     "metadata": {},
     "output_type": "execute_result"
    }
   ],
   "execution_count": 11
  },
  {
   "metadata": {
    "ExecuteTime": {
     "end_time": "2025-10-01T04:42:39.695897Z",
     "start_time": "2025-10-01T04:42:39.693119Z"
    }
   },
   "cell_type": "code",
   "source": "set()",
   "id": "c7cbb6e736158e6",
   "outputs": [
    {
     "data": {
      "text/plain": [
       "set()"
      ]
     },
     "execution_count": 12,
     "metadata": {},
     "output_type": "execute_result"
    }
   ],
   "execution_count": 12
  },
  {
   "metadata": {
    "ExecuteTime": {
     "end_time": "2025-10-01T04:42:40.942493Z",
     "start_time": "2025-10-01T04:42:40.939875Z"
    }
   },
   "cell_type": "code",
   "source": "{1, 2, 3} == {1, 2, 3}",
   "id": "401c9cccafa30aef",
   "outputs": [
    {
     "data": {
      "text/plain": [
       "True"
      ]
     },
     "execution_count": 13,
     "metadata": {},
     "output_type": "execute_result"
    }
   ],
   "execution_count": 13
  },
  {
   "metadata": {
    "ExecuteTime": {
     "end_time": "2025-10-01T04:42:43.454035Z",
     "start_time": "2025-10-01T04:42:43.451394Z"
    }
   },
   "cell_type": "code",
   "source": "{1,3,5} < {7,3,5,1}",
   "id": "406d0fb1f67866a0",
   "outputs": [
    {
     "data": {
      "text/plain": [
       "True"
      ]
     },
     "execution_count": 14,
     "metadata": {},
     "output_type": "execute_result"
    }
   ],
   "execution_count": 14
  },
  {
   "metadata": {
    "ExecuteTime": {
     "end_time": "2025-10-01T04:42:44.775666Z",
     "start_time": "2025-10-01T04:42:44.772912Z"
    }
   },
   "cell_type": "code",
   "source": "{1,2,3} < {4,5,6,7}",
   "id": "5405a9bb366b577c",
   "outputs": [
    {
     "data": {
      "text/plain": [
       "False"
      ]
     },
     "execution_count": 15,
     "metadata": {},
     "output_type": "execute_result"
    }
   ],
   "execution_count": 15
  },
  {
   "metadata": {
    "ExecuteTime": {
     "end_time": "2025-10-01T04:42:45.900936Z",
     "start_time": "2025-10-01T04:42:45.898243Z"
    }
   },
   "cell_type": "code",
   "source": "{1,3} <= {3,5,1}",
   "id": "ea0d6d66a40d3439",
   "outputs": [
    {
     "data": {
      "text/plain": [
       "True"
      ]
     },
     "execution_count": 16,
     "metadata": {},
     "output_type": "execute_result"
    }
   ],
   "execution_count": 16
  },
  {
   "metadata": {
    "ExecuteTime": {
     "end_time": "2025-10-01T04:42:47.458375Z",
     "start_time": "2025-10-01T04:42:47.455693Z"
    }
   },
   "cell_type": "code",
   "source": "{1,3}.issubset({3,5,1})",
   "id": "de0cf7fb06a50309",
   "outputs": [
    {
     "data": {
      "text/plain": [
       "True"
      ]
     },
     "execution_count": 17,
     "metadata": {},
     "output_type": "execute_result"
    }
   ],
   "execution_count": 17
  },
  {
   "metadata": {
    "ExecuteTime": {
     "end_time": "2025-10-01T04:42:48.836913Z",
     "start_time": "2025-10-01T04:42:48.834086Z"
    }
   },
   "cell_type": "code",
   "source": "{1,3,5} > {3,5,1}",
   "id": "a7404d738747eafb",
   "outputs": [
    {
     "data": {
      "text/plain": [
       "False"
      ]
     },
     "execution_count": 18,
     "metadata": {},
     "output_type": "execute_result"
    }
   ],
   "execution_count": 18
  },
  {
   "metadata": {
    "ExecuteTime": {
     "end_time": "2025-10-01T04:42:50.098793Z",
     "start_time": "2025-10-01T04:42:50.095581Z"
    }
   },
   "cell_type": "code",
   "source": "{1,3,5} >= {3,1}",
   "id": "49ccd613b97afdb",
   "outputs": [
    {
     "data": {
      "text/plain": [
       "True"
      ]
     },
     "execution_count": 19,
     "metadata": {},
     "output_type": "execute_result"
    }
   ],
   "execution_count": 19
  },
  {
   "metadata": {
    "ExecuteTime": {
     "end_time": "2025-10-01T04:42:50.869793Z",
     "start_time": "2025-10-01T04:42:50.866872Z"
    }
   },
   "cell_type": "code",
   "source": "{1,3,5}.issuperset({3,5,1})",
   "id": "986c9441ee11e0d6",
   "outputs": [
    {
     "data": {
      "text/plain": [
       "True"
      ]
     },
     "execution_count": 20,
     "metadata": {},
     "output_type": "execute_result"
    }
   ],
   "execution_count": 20
  },
  {
   "metadata": {
    "ExecuteTime": {
     "end_time": "2025-10-01T04:42:53.841827Z",
     "start_time": "2025-10-01T04:42:53.838970Z"
    }
   },
   "cell_type": "code",
   "source": "{1,3}|{5,6,9}",
   "id": "8ccebb8b59e0eae0",
   "outputs": [
    {
     "data": {
      "text/plain": [
       "{1, 3, 5, 6, 9}"
      ]
     },
     "execution_count": 21,
     "metadata": {},
     "output_type": "execute_result"
    }
   ],
   "execution_count": 21
  },
  {
   "metadata": {
    "ExecuteTime": {
     "end_time": "2025-10-01T04:42:54.884079Z",
     "start_time": "2025-10-01T04:42:54.881295Z"
    }
   },
   "cell_type": "code",
   "source": "{1,3}.union({3,5,1})",
   "id": "4695469807f20006",
   "outputs": [
    {
     "data": {
      "text/plain": [
       "{1, 3, 5}"
      ]
     },
     "execution_count": 22,
     "metadata": {},
     "output_type": "execute_result"
    }
   ],
   "execution_count": 22
  },
  {
   "metadata": {
    "ExecuteTime": {
     "end_time": "2025-10-01T04:42:55.844467Z",
     "start_time": "2025-10-01T04:42:55.842009Z"
    }
   },
   "cell_type": "code",
   "source": "{1,3,5} & {6,3,0}",
   "id": "4dd03c9ce5a6dcf8",
   "outputs": [
    {
     "data": {
      "text/plain": [
       "{3}"
      ]
     },
     "execution_count": 23,
     "metadata": {},
     "output_type": "execute_result"
    }
   ],
   "execution_count": 23
  },
  {
   "metadata": {
    "ExecuteTime": {
     "end_time": "2025-10-01T04:42:57.094777Z",
     "start_time": "2025-10-01T04:42:57.092001Z"
    }
   },
   "cell_type": "code",
   "source": "{1,3,5}.intersection({3,5,1})",
   "id": "7627fd90d0b3ca2c",
   "outputs": [
    {
     "data": {
      "text/plain": [
       "{1, 3, 5}"
      ]
     },
     "execution_count": 24,
     "metadata": {},
     "output_type": "execute_result"
    }
   ],
   "execution_count": 24
  },
  {
   "metadata": {
    "ExecuteTime": {
     "end_time": "2025-10-01T04:42:58.232171Z",
     "start_time": "2025-10-01T04:42:58.229675Z"
    }
   },
   "cell_type": "code",
   "source": "{1,3,5} - {6,3,0}",
   "id": "d0b6f4c43222cfa9",
   "outputs": [
    {
     "data": {
      "text/plain": [
       "{1, 5}"
      ]
     },
     "execution_count": 25,
     "metadata": {},
     "output_type": "execute_result"
    }
   ],
   "execution_count": 25
  },
  {
   "metadata": {
    "ExecuteTime": {
     "end_time": "2025-10-01T04:43:00.924062Z",
     "start_time": "2025-10-01T04:43:00.921267Z"
    }
   },
   "cell_type": "code",
   "source": "{1,3,5,7}.difference({3,5,7})",
   "id": "26ebf590857ab78e",
   "outputs": [
    {
     "data": {
      "text/plain": [
       "{1}"
      ]
     },
     "execution_count": 26,
     "metadata": {},
     "output_type": "execute_result"
    }
   ],
   "execution_count": 26
  },
  {
   "metadata": {
    "ExecuteTime": {
     "end_time": "2025-10-01T04:43:01.875931Z",
     "start_time": "2025-10-01T04:43:01.873256Z"
    }
   },
   "cell_type": "code",
   "source": "{1,3,5} ^  {2,3,4}",
   "id": "b76d0ad81da95233",
   "outputs": [
    {
     "data": {
      "text/plain": [
       "{1, 2, 4, 5}"
      ]
     },
     "execution_count": 27,
     "metadata": {},
     "output_type": "execute_result"
    }
   ],
   "execution_count": 27
  },
  {
   "metadata": {
    "ExecuteTime": {
     "end_time": "2025-10-01T04:43:02.920501Z",
     "start_time": "2025-10-01T04:43:02.917601Z"
    }
   },
   "cell_type": "code",
   "source": "{1,3,5,7}.symmetric_difference({3,5,7})",
   "id": "68be34ce5d8de05b",
   "outputs": [
    {
     "data": {
      "text/plain": [
       "{1}"
      ]
     },
     "execution_count": 28,
     "metadata": {},
     "output_type": "execute_result"
    }
   ],
   "execution_count": 28
  },
  {
   "metadata": {
    "ExecuteTime": {
     "end_time": "2025-10-01T04:43:05.778617Z",
     "start_time": "2025-10-01T04:43:05.775849Z"
    }
   },
   "cell_type": "code",
   "source": "{1,3,5}.isdisjoint({3,5,7})",
   "id": "76acac0bad3efb39",
   "outputs": [
    {
     "data": {
      "text/plain": [
       "False"
      ]
     },
     "execution_count": 29,
     "metadata": {},
     "output_type": "execute_result"
    }
   ],
   "execution_count": 29
  },
  {
   "metadata": {
    "ExecuteTime": {
     "end_time": "2025-10-01T04:43:06.848107Z",
     "start_time": "2025-10-01T04:43:06.846268Z"
    }
   },
   "cell_type": "code",
   "source": [
    "numbers = {1,3,5}\n",
    "numbers |= {3,5,7}\n",
    "print(numbers)"
   ],
   "id": "bff374aded3deff0",
   "outputs": [
    {
     "name": "stdout",
     "output_type": "stream",
     "text": [
      "{1, 3, 5, 7}\n"
     ]
    }
   ],
   "execution_count": 30
  },
  {
   "metadata": {
    "ExecuteTime": {
     "end_time": "2025-10-01T04:43:09.962673Z",
     "start_time": "2025-10-01T04:43:09.960458Z"
    }
   },
   "cell_type": "code",
   "source": [
    "numbers.update(range(10))\n",
    "print(numbers)"
   ],
   "id": "1e7a88e952819b62",
   "outputs": [
    {
     "name": "stdout",
     "output_type": "stream",
     "text": [
      "{0, 1, 2, 3, 4, 5, 6, 7, 8, 9}\n"
     ]
    }
   ],
   "execution_count": 31
  },
  {
   "metadata": {
    "ExecuteTime": {
     "end_time": "2025-10-01T04:43:12.560671Z",
     "start_time": "2025-10-01T04:43:12.558599Z"
    }
   },
   "cell_type": "code",
   "source": "numbers.add(20)",
   "id": "e27fc1166dfccab",
   "outputs": [],
   "execution_count": 32
  },
  {
   "metadata": {
    "ExecuteTime": {
     "end_time": "2025-10-01T04:48:54.388209Z",
     "start_time": "2025-10-01T04:48:54.385762Z"
    }
   },
   "cell_type": "code",
   "source": "numbers",
   "id": "1a216070b45872ce",
   "outputs": [
    {
     "data": {
      "text/plain": [
       "set()"
      ]
     },
     "execution_count": 39,
     "metadata": {},
     "output_type": "execute_result"
    }
   ],
   "execution_count": 39
  },
  {
   "metadata": {
    "ExecuteTime": {
     "end_time": "2025-10-01T04:44:42.628465Z",
     "start_time": "2025-10-01T04:44:42.626468Z"
    }
   },
   "cell_type": "code",
   "source": "numbers.remove(20)",
   "id": "4ab15862b0f14733",
   "outputs": [],
   "execution_count": 34
  },
  {
   "metadata": {
    "ExecuteTime": {
     "end_time": "2025-10-01T04:47:17.035049Z",
     "start_time": "2025-10-01T04:47:17.032639Z"
    }
   },
   "cell_type": "code",
   "source": "numbers.pop()",
   "id": "d5cb03189e2fead0",
   "outputs": [
    {
     "data": {
      "text/plain": [
       "0"
      ]
     },
     "execution_count": 36,
     "metadata": {},
     "output_type": "execute_result"
    }
   ],
   "execution_count": 36
  },
  {
   "metadata": {
    "ExecuteTime": {
     "end_time": "2025-10-01T04:48:50.973005Z",
     "start_time": "2025-10-01T04:48:50.970953Z"
    }
   },
   "cell_type": "code",
   "source": "numbers.clear()",
   "id": "f188cc18e24b02a0",
   "outputs": [],
   "execution_count": 38
  },
  {
   "metadata": {
    "ExecuteTime": {
     "end_time": "2025-10-01T04:50:58.337916Z",
     "start_time": "2025-10-01T04:50:58.335683Z"
    }
   },
   "cell_type": "code",
   "source": [
    "numbers = [1,2,2,3,4,5,6,6,7,8,9,10,10]\n",
    "even = {item for item in numbers if item % 2 == 0}"
   ],
   "id": "fab1689b87c1d321",
   "outputs": [],
   "execution_count": 41
  },
  {
   "metadata": {
    "ExecuteTime": {
     "end_time": "2025-10-01T04:51:03.970725Z",
     "start_time": "2025-10-01T04:51:03.968504Z"
    }
   },
   "cell_type": "code",
   "source": "print(even)",
   "id": "40a26e921f2d14da",
   "outputs": [
    {
     "name": "stdout",
     "output_type": "stream",
     "text": [
      "{2, 4, 6, 8, 10}\n"
     ]
    }
   ],
   "execution_count": 42
  },
  {
   "metadata": {},
   "cell_type": "code",
   "outputs": [],
   "execution_count": null,
   "source": "",
   "id": "f4b00662b2b364d0"
  }
 ],
 "metadata": {
  "kernelspec": {
   "display_name": "Python 3",
   "language": "python",
   "name": "python3"
  },
  "language_info": {
   "codemirror_mode": {
    "name": "ipython",
    "version": 2
   },
   "file_extension": ".py",
   "mimetype": "text/x-python",
   "name": "python",
   "nbconvert_exporter": "python",
   "pygments_lexer": "ipython2",
   "version": "2.7.6"
  }
 },
 "nbformat": 4,
 "nbformat_minor": 5
}
