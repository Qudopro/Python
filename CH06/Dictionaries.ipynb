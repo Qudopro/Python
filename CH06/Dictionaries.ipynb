{
 "cells": [
  {
   "cell_type": "code",
   "id": "initial_id",
   "metadata": {
    "collapsed": true,
    "ExecuteTime": {
     "end_time": "2025-09-30T04:29:49.660368Z",
     "start_time": "2025-09-30T04:29:49.657970Z"
    }
   },
   "source": [
    "country_codes = {'Finland':'fi', 'South Africa':'za', 'Nepal':'np'}\n",
    "print(country_codes)"
   ],
   "outputs": [
    {
     "name": "stdout",
     "output_type": "stream",
     "text": [
      "{'Finland': 'fi', 'South Africa': 'za', 'Nepal': 'np'}\n"
     ]
    }
   ],
   "execution_count": 1
  },
  {
   "metadata": {
    "ExecuteTime": {
     "end_time": "2025-09-30T04:33:55.079232Z",
     "start_time": "2025-09-30T04:33:55.075339Z"
    }
   },
   "cell_type": "code",
   "source": "len(country_codes)",
   "id": "c40cd3b1cc661767",
   "outputs": [
    {
     "data": {
      "text/plain": [
       "3"
      ]
     },
     "execution_count": 2,
     "metadata": {},
     "output_type": "execute_result"
    }
   ],
   "execution_count": 2
  },
  {
   "metadata": {
    "ExecuteTime": {
     "end_time": "2025-09-30T04:37:01.279626Z",
     "start_time": "2025-09-30T04:37:01.277311Z"
    }
   },
   "cell_type": "code",
   "source": [
    "if country_codes:\n",
    "    print('country_codes is not empty')\n",
    "else:\n",
    "    print('country_codes is empty')"
   ],
   "id": "f0018a08fb160e95",
   "outputs": [
    {
     "name": "stdout",
     "output_type": "stream",
     "text": [
      "country_codes is empty\n"
     ]
    }
   ],
   "execution_count": 5
  },
  {
   "metadata": {
    "ExecuteTime": {
     "end_time": "2025-09-30T04:36:59.843965Z",
     "start_time": "2025-09-30T04:36:59.841982Z"
    }
   },
   "cell_type": "code",
   "source": "country_codes.clear()",
   "id": "6d67fcb28769473f",
   "outputs": [],
   "execution_count": 4
  },
  {
   "metadata": {
    "ExecuteTime": {
     "end_time": "2025-09-30T16:14:21.567457Z",
     "start_time": "2025-09-30T16:14:21.565329Z"
    }
   },
   "cell_type": "code",
   "source": [
    "days_per_month = {'January': 31, 'February': 28, 'March': 30, 'April': 31}\n",
    "print(days_per_month)"
   ],
   "id": "e80697bfa880f150",
   "outputs": [
    {
     "name": "stdout",
     "output_type": "stream",
     "text": [
      "{'January': 31, 'February': 28, 'March': 30, 'April': 31}\n"
     ]
    }
   ],
   "execution_count": 13
  },
  {
   "metadata": {
    "ExecuteTime": {
     "end_time": "2025-09-30T04:41:36.214752Z",
     "start_time": "2025-09-30T04:41:36.212607Z"
    }
   },
   "cell_type": "code",
   "source": [
    "for month, days in days_per_month.items():\n",
    "    print(f'{month} has {days} days')"
   ],
   "id": "6549536794383523",
   "outputs": [
    {
     "name": "stdout",
     "output_type": "stream",
     "text": [
      "January has 31 days\n",
      "February has 28 days\n",
      "March has 30 days\n",
      "April has 31 days\n"
     ]
    }
   ],
   "execution_count": 7
  },
  {
   "metadata": {
    "ExecuteTime": {
     "end_time": "2025-09-30T16:01:24.560032Z",
     "start_time": "2025-09-30T16:01:24.557658Z"
    }
   },
   "cell_type": "code",
   "source": "roman_numerals = {'I':1, 'II':2, 'III':3, 'IV':4, 'V':5, 'VI':6, 'VII':7, 'VIII':8, 'IV':9, 'X':100}",
   "id": "95dd22faae3f3c2b",
   "outputs": [],
   "execution_count": 2
  },
  {
   "metadata": {
    "ExecuteTime": {
     "end_time": "2025-09-30T16:01:26.784199Z",
     "start_time": "2025-09-30T16:01:26.780101Z"
    }
   },
   "cell_type": "code",
   "source": "roman_numerals['X']",
   "id": "83cfdee3b42ed50b",
   "outputs": [
    {
     "data": {
      "text/plain": [
       "100"
      ]
     },
     "execution_count": 3,
     "metadata": {},
     "output_type": "execute_result"
    }
   ],
   "execution_count": 3
  },
  {
   "metadata": {
    "ExecuteTime": {
     "end_time": "2025-09-30T16:01:28.302816Z",
     "start_time": "2025-09-30T16:01:28.300836Z"
    }
   },
   "cell_type": "code",
   "source": "roman_numerals['X'] = 10",
   "id": "20a39e7517b9243b",
   "outputs": [],
   "execution_count": 4
  },
  {
   "metadata": {
    "ExecuteTime": {
     "end_time": "2025-09-30T04:54:41.359848Z",
     "start_time": "2025-09-30T04:54:41.357724Z"
    }
   },
   "cell_type": "code",
   "source": "print(roman_numerals)",
   "id": "9f1193f14f211cf3",
   "outputs": [
    {
     "name": "stdout",
     "output_type": "stream",
     "text": [
      "{'I': 1, 'II': 2, 'III': 3, 'IV': 9, 'V': 5, 'VI': 6, 'VII': 7, 'VIII': 8, 'X': 10}\n"
     ]
    }
   ],
   "execution_count": 11
  },
  {
   "metadata": {
    "ExecuteTime": {
     "end_time": "2025-09-30T16:01:31.565299Z",
     "start_time": "2025-09-30T16:01:31.562859Z"
    }
   },
   "cell_type": "code",
   "source": [
    "roman_numerals['L'] = 50\n",
    "print(roman_numerals)"
   ],
   "id": "8d77da216c581e3b",
   "outputs": [
    {
     "name": "stdout",
     "output_type": "stream",
     "text": [
      "{'I': 1, 'II': 2, 'III': 3, 'IV': 9, 'V': 5, 'VI': 6, 'VII': 7, 'VIII': 8, 'X': 10, 'L': 50}\n"
     ]
    }
   ],
   "execution_count": 5
  },
  {
   "metadata": {
    "ExecuteTime": {
     "end_time": "2025-09-30T16:02:54.132937Z",
     "start_time": "2025-09-30T16:02:54.131038Z"
    }
   },
   "cell_type": "code",
   "source": "del roman_numerals['L']",
   "id": "b20a8d45232f838",
   "outputs": [],
   "execution_count": 6
  },
  {
   "metadata": {
    "ExecuteTime": {
     "end_time": "2025-09-30T16:04:27.020691Z",
     "start_time": "2025-09-30T16:04:27.018010Z"
    }
   },
   "cell_type": "code",
   "source": "roman_numerals.pop('X')",
   "id": "224774f8c06e8a06",
   "outputs": [
    {
     "data": {
      "text/plain": [
       "10"
      ]
     },
     "execution_count": 7,
     "metadata": {},
     "output_type": "execute_result"
    }
   ],
   "execution_count": 7
  },
  {
   "metadata": {
    "ExecuteTime": {
     "end_time": "2025-09-30T16:08:56.503680Z",
     "start_time": "2025-09-30T16:08:56.500860Z"
    }
   },
   "cell_type": "code",
   "source": "roman_numerals.get('III')",
   "id": "adbc252aeab68378",
   "outputs": [
    {
     "data": {
      "text/plain": [
       "3"
      ]
     },
     "execution_count": 8,
     "metadata": {},
     "output_type": "execute_result"
    }
   ],
   "execution_count": 8
  },
  {
   "metadata": {
    "ExecuteTime": {
     "end_time": "2025-09-30T16:09:15.599967Z",
     "start_time": "2025-09-30T16:09:15.597490Z"
    }
   },
   "cell_type": "code",
   "source": "roman_numerals.get('L', 'L not found in dictionary')",
   "id": "2ff8630381aa95c3",
   "outputs": [
    {
     "data": {
      "text/plain": [
       "'L not found in dictionary'"
      ]
     },
     "execution_count": 9,
     "metadata": {},
     "output_type": "execute_result"
    }
   ],
   "execution_count": 9
  },
  {
   "metadata": {
    "ExecuteTime": {
     "end_time": "2025-09-30T16:10:51.939278Z",
     "start_time": "2025-09-30T16:10:51.936571Z"
    }
   },
   "cell_type": "code",
   "source": "'III' in roman_numerals",
   "id": "863b4247b703a001",
   "outputs": [
    {
     "data": {
      "text/plain": [
       "True"
      ]
     },
     "execution_count": 10,
     "metadata": {},
     "output_type": "execute_result"
    }
   ],
   "execution_count": 10
  },
  {
   "metadata": {
    "ExecuteTime": {
     "end_time": "2025-09-30T16:10:59.451480Z",
     "start_time": "2025-09-30T16:10:59.448955Z"
    }
   },
   "cell_type": "code",
   "source": "'L' not in roman_numerals",
   "id": "36d6a48aecc42c27",
   "outputs": [
    {
     "data": {
      "text/plain": [
       "True"
      ]
     },
     "execution_count": 11,
     "metadata": {},
     "output_type": "execute_result"
    }
   ],
   "execution_count": 11
  },
  {
   "metadata": {
    "ExecuteTime": {
     "end_time": "2025-09-30T16:14:24.731371Z",
     "start_time": "2025-09-30T16:14:24.728912Z"
    }
   },
   "cell_type": "code",
   "source": [
    "for month in days_per_month.keys():\n",
    "    print(month, end=' ')"
   ],
   "id": "a81ee40672ae860f",
   "outputs": [
    {
     "name": "stdout",
     "output_type": "stream",
     "text": [
      "January February March April "
     ]
    }
   ],
   "execution_count": 14
  },
  {
   "metadata": {
    "ExecuteTime": {
     "end_time": "2025-09-30T16:14:34.553494Z",
     "start_time": "2025-09-30T16:14:34.551136Z"
    }
   },
   "cell_type": "code",
   "source": [
    "for days in days_per_month.values():\n",
    "    print(days, end=' ')"
   ],
   "id": "78a848bf19608291",
   "outputs": [
    {
     "name": "stdout",
     "output_type": "stream",
     "text": [
      "31 28 30 31 "
     ]
    }
   ],
   "execution_count": 15
  },
  {
   "metadata": {
    "ExecuteTime": {
     "end_time": "2025-09-30T17:31:58.667917Z",
     "start_time": "2025-09-30T17:31:58.665973Z"
    }
   },
   "cell_type": "code",
   "source": [
    "months_view = days_per_month.keys()\n",
    "\n",
    "for month in months_view:\n",
    "    print(month, end=' ')"
   ],
   "id": "6a0305c4ae1fbf2c",
   "outputs": [
    {
     "name": "stdout",
     "output_type": "stream",
     "text": [
      "January February March April "
     ]
    }
   ],
   "execution_count": 17
  },
  {
   "metadata": {
    "ExecuteTime": {
     "end_time": "2025-09-30T17:40:20.242522Z",
     "start_time": "2025-09-30T17:40:20.239916Z"
    }
   },
   "cell_type": "code",
   "source": "list(days_per_month.values())",
   "id": "346dcc0d422af57d",
   "outputs": [
    {
     "data": {
      "text/plain": [
       "[31, 28, 30, 31]"
      ]
     },
     "execution_count": 18,
     "metadata": {},
     "output_type": "execute_result"
    }
   ],
   "execution_count": 18
  },
  {
   "metadata": {
    "ExecuteTime": {
     "end_time": "2025-09-30T17:40:36.815878Z",
     "start_time": "2025-09-30T17:40:36.812931Z"
    }
   },
   "cell_type": "code",
   "source": "list(days_per_month.keys())",
   "id": "e43a58c86de197d5",
   "outputs": [
    {
     "data": {
      "text/plain": [
       "['January', 'February', 'March', 'April']"
      ]
     },
     "execution_count": 19,
     "metadata": {},
     "output_type": "execute_result"
    }
   ],
   "execution_count": 19
  },
  {
   "metadata": {},
   "cell_type": "code",
   "outputs": [],
   "execution_count": null,
   "source": "",
   "id": "81fdd477f22a9c87"
  },
  {
   "metadata": {
    "ExecuteTime": {
     "end_time": "2025-09-30T17:41:01.184650Z",
     "start_time": "2025-09-30T17:41:01.181500Z"
    }
   },
   "cell_type": "code",
   "source": "list(days_per_month.items())",
   "id": "ce12f99f8679cff3",
   "outputs": [
    {
     "data": {
      "text/plain": [
       "[('January', 31), ('February', 28), ('March', 30), ('April', 31)]"
      ]
     },
     "execution_count": 21,
     "metadata": {},
     "output_type": "execute_result"
    }
   ],
   "execution_count": 21
  },
  {
   "metadata": {
    "ExecuteTime": {
     "end_time": "2025-09-30T17:44:16.903075Z",
     "start_time": "2025-09-30T17:44:16.901326Z"
    }
   },
   "cell_type": "code",
   "source": [
    "for month_name in sorted(days_per_month.keys()):\n",
    "    print(month_name, end=' ')"
   ],
   "id": "94c1856403c467b2",
   "outputs": [
    {
     "name": "stdout",
     "output_type": "stream",
     "text": [
      "April February January March "
     ]
    }
   ],
   "execution_count": 22
  },
  {
   "metadata": {
    "ExecuteTime": {
     "end_time": "2025-09-30T17:57:45.876860Z",
     "start_time": "2025-09-30T17:57:45.874807Z"
    }
   },
   "cell_type": "code",
   "source": "country_capitals1 = {'Belgium': 'Brussels', 'Haiti': 'Port-au-Prince'}",
   "id": "ab1bd44baab73a7d",
   "outputs": [],
   "execution_count": 23
  },
  {
   "metadata": {
    "ExecuteTime": {
     "end_time": "2025-09-30T17:58:19.872235Z",
     "start_time": "2025-09-30T17:58:19.870192Z"
    }
   },
   "cell_type": "code",
   "source": "country_capitals2 = {'Nepal': 'Kathmandu', 'Uruguay': 'Montevideo'}",
   "id": "e99f2e331951800a",
   "outputs": [],
   "execution_count": 24
  },
  {
   "metadata": {
    "ExecuteTime": {
     "end_time": "2025-09-30T17:58:30.797515Z",
     "start_time": "2025-09-30T17:58:30.794877Z"
    }
   },
   "cell_type": "code",
   "source": "country_capitals1 != country_capitals2",
   "id": "f0e5cfd9f72d0dac",
   "outputs": [
    {
     "data": {
      "text/plain": [
       "True"
      ]
     },
     "execution_count": 25,
     "metadata": {},
     "output_type": "execute_result"
    }
   ],
   "execution_count": 25
  },
  {
   "metadata": {
    "ExecuteTime": {
     "end_time": "2025-09-30T20:44:50.915720Z",
     "start_time": "2025-09-30T20:44:50.913566Z"
    }
   },
   "cell_type": "code",
   "source": [
    "from collections import Counter\n",
    "text = ('this is sample text with several words'\n",
    "        ' this is more sample text with some different words')"
   ],
   "id": "8302ee2e0c34c408",
   "outputs": [],
   "execution_count": 26
  },
  {
   "metadata": {
    "ExecuteTime": {
     "end_time": "2025-09-30T20:45:52.985282Z",
     "start_time": "2025-09-30T20:45:52.983416Z"
    }
   },
   "cell_type": "code",
   "source": "counter =Counter(text.split())",
   "id": "38c867d42c8824d7",
   "outputs": [],
   "execution_count": 27
  },
  {
   "metadata": {
    "ExecuteTime": {
     "end_time": "2025-09-30T20:46:59.961123Z",
     "start_time": "2025-09-30T20:46:59.958591Z"
    }
   },
   "cell_type": "code",
   "source": [
    "for word, count in sorted(counter.items()):\n",
    "    print(f'{word:<12}: {count}')"
   ],
   "id": "2293adc35060652a",
   "outputs": [
    {
     "name": "stdout",
     "output_type": "stream",
     "text": [
      "different   : 1\n",
      "is          : 2\n",
      "more        : 1\n",
      "sample      : 2\n",
      "several     : 1\n",
      "some        : 1\n",
      "text        : 2\n",
      "this        : 2\n",
      "with        : 2\n",
      "words       : 2\n"
     ]
    }
   ],
   "execution_count": 28
  },
  {
   "metadata": {
    "ExecuteTime": {
     "end_time": "2025-09-30T22:56:58.930982Z",
     "start_time": "2025-09-30T22:56:58.929036Z"
    }
   },
   "cell_type": "code",
   "source": "country_codes2 ={}",
   "id": "6fcd9e2bf5ede314",
   "outputs": [],
   "execution_count": 29
  },
  {
   "metadata": {
    "ExecuteTime": {
     "end_time": "2025-09-30T22:57:33.517293Z",
     "start_time": "2025-09-30T22:57:33.515288Z"
    }
   },
   "cell_type": "code",
   "source": "country_codes2.update({'South Africa': 'za'})",
   "id": "a517262524cd0ca9",
   "outputs": [],
   "execution_count": 31
  },
  {
   "metadata": {
    "ExecuteTime": {
     "end_time": "2025-09-30T22:57:51.787756Z",
     "start_time": "2025-09-30T22:57:51.785792Z"
    }
   },
   "cell_type": "code",
   "source": "country_codes2.update(Australia='au')",
   "id": "bfe1af0e0019809d",
   "outputs": [],
   "execution_count": 32
  },
  {
   "metadata": {
    "ExecuteTime": {
     "end_time": "2025-09-30T22:57:56.915184Z",
     "start_time": "2025-09-30T22:57:56.913106Z"
    }
   },
   "cell_type": "code",
   "source": "print(country_codes2)",
   "id": "c6c63db224934363",
   "outputs": [
    {
     "name": "stdout",
     "output_type": "stream",
     "text": [
      "{'South Africa': 'za', 'Australia': 'au'}\n"
     ]
    }
   ],
   "execution_count": 33
  },
  {
   "metadata": {
    "ExecuteTime": {
     "end_time": "2025-09-30T23:11:37.518978Z",
     "start_time": "2025-09-30T23:11:37.516525Z"
    }
   },
   "cell_type": "code",
   "source": [
    "months = {'January': 1, 'February': 2, 'March': 3, 'April': 4}\n",
    "print(months)"
   ],
   "id": "d5be4a75ed064dec",
   "outputs": [
    {
     "name": "stdout",
     "output_type": "stream",
     "text": [
      "{'January': 1, 'February': 2, 'March': 3, 'April': 4}\n"
     ]
    }
   ],
   "execution_count": 34
  },
  {
   "metadata": {
    "ExecuteTime": {
     "end_time": "2025-09-30T23:11:59.898562Z",
     "start_time": "2025-09-30T23:11:59.896266Z"
    }
   },
   "cell_type": "code",
   "source": [
    "months2 = {number: name for name, number in months.items()}\n",
    "print(months2)"
   ],
   "id": "1562cd54f60845ba",
   "outputs": [
    {
     "name": "stdout",
     "output_type": "stream",
     "text": [
      "{1: 'January', 2: 'February', 3: 'March', 4: 'April'}\n"
     ]
    }
   ],
   "execution_count": 35
  }
 ],
 "metadata": {
  "kernelspec": {
   "display_name": "Python 3",
   "language": "python",
   "name": "python3"
  },
  "language_info": {
   "codemirror_mode": {
    "name": "ipython",
    "version": 2
   },
   "file_extension": ".py",
   "mimetype": "text/x-python",
   "name": "python",
   "nbconvert_exporter": "python",
   "pygments_lexer": "ipython2",
   "version": "2.7.6"
  }
 },
 "nbformat": 4,
 "nbformat_minor": 5
}
