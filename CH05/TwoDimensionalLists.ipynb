{
 "cells": [
  {
   "cell_type": "code",
   "id": "initial_id",
   "metadata": {
    "collapsed": true,
    "ExecuteTime": {
     "end_time": "2025-09-28T23:54:02.177961Z",
     "start_time": "2025-09-28T23:54:02.174928Z"
    }
   },
   "source": "a = [[77,68,86,73], [97,86,89,81],[70,90,86,81]]",
   "outputs": [],
   "execution_count": 2
  },
  {
   "metadata": {
    "ExecuteTime": {
     "end_time": "2025-09-28T23:54:32.820435Z",
     "start_time": "2025-09-28T23:54:32.817111Z"
    }
   },
   "cell_type": "code",
   "source": [
    "for row in a:\n",
    "    for col in row:\n",
    "        print(col, end=' ')\n",
    "    print()"
   ],
   "id": "2e676158b53fcdca",
   "outputs": [
    {
     "name": "stdout",
     "output_type": "stream",
     "text": [
      "77 68 86 73 \n",
      "97 86 89 81 \n",
      "70 90 86 81 \n"
     ]
    }
   ],
   "execution_count": 3
  }
 ],
 "metadata": {
  "kernelspec": {
   "display_name": "Python 3",
   "language": "python",
   "name": "python3"
  },
  "language_info": {
   "codemirror_mode": {
    "name": "ipython",
    "version": 2
   },
   "file_extension": ".py",
   "mimetype": "text/x-python",
   "name": "python",
   "nbconvert_exporter": "python",
   "pygments_lexer": "ipython2",
   "version": "2.7.6"
  }
 },
 "nbformat": 4,
 "nbformat_minor": 5
}
