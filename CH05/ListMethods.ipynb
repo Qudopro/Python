{
 "cells": [
  {
   "cell_type": "code",
   "id": "initial_id",
   "metadata": {
    "collapsed": true,
    "ExecuteTime": {
     "end_time": "2025-09-28T20:32:46.315855Z",
     "start_time": "2025-09-28T20:32:46.313885Z"
    }
   },
   "source": [
    "from idlelib.colorizer import color_config\n",
    "\n",
    "colors = ['red', 'green', 'blue', 'yellow', 'magenta', 'cyan']"
   ],
   "outputs": [],
   "execution_count": 10
  },
  {
   "metadata": {
    "ExecuteTime": {
     "end_time": "2025-09-28T20:32:47.747611Z",
     "start_time": "2025-09-28T20:32:47.744434Z"
    }
   },
   "cell_type": "code",
   "source": [
    "colors.insert(0, 'black')\n",
    "colors"
   ],
   "id": "f79fa432aabb80ad",
   "outputs": [
    {
     "data": {
      "text/plain": [
       "['black', 'red', 'green', 'blue', 'yellow', 'magenta', 'cyan']"
      ]
     },
     "execution_count": 11,
     "metadata": {},
     "output_type": "execute_result"
    }
   ],
   "execution_count": 11
  },
  {
   "metadata": {
    "ExecuteTime": {
     "end_time": "2025-09-28T20:30:38.033801Z",
     "start_time": "2025-09-28T20:30:38.030841Z"
    }
   },
   "cell_type": "code",
   "source": [
    "colors.append('white')\n",
    "colors"
   ],
   "id": "f7be5b95513cad3e",
   "outputs": [
    {
     "data": {
      "text/plain": [
       "['black', 'red', 'green', 'blue', 'yellow', 'magenta', 'cyan', 'white']"
      ]
     },
     "execution_count": 3,
     "metadata": {},
     "output_type": "execute_result"
    }
   ],
   "execution_count": 3
  },
  {
   "metadata": {
    "ExecuteTime": {
     "end_time": "2025-09-28T20:30:40.175841Z",
     "start_time": "2025-09-28T20:30:40.173209Z"
    }
   },
   "cell_type": "code",
   "source": [
    "colors.extend(['indigo', 'violet'])\n",
    "colors"
   ],
   "id": "1e82268013645908",
   "outputs": [
    {
     "data": {
      "text/plain": [
       "['black',\n",
       " 'red',\n",
       " 'green',\n",
       " 'blue',\n",
       " 'yellow',\n",
       " 'magenta',\n",
       " 'cyan',\n",
       " 'white',\n",
       " 'indigo',\n",
       " 'violet']"
      ]
     },
     "execution_count": 4,
     "metadata": {},
     "output_type": "execute_result"
    }
   ],
   "execution_count": 4
  },
  {
   "metadata": {
    "ExecuteTime": {
     "end_time": "2025-06-02T03:53:00.178826Z",
     "start_time": "2025-06-02T03:53:00.176447Z"
    }
   },
   "cell_type": "code",
   "source": "sample_list = []",
   "id": "f7a5242abc94e97f",
   "outputs": [],
   "execution_count": 8
  },
  {
   "metadata": {
    "ExecuteTime": {
     "end_time": "2025-06-02T03:53:06.164976Z",
     "start_time": "2025-06-02T03:53:06.162687Z"
    }
   },
   "cell_type": "code",
   "source": [
    "s = 'abc'\n",
    "sample_list.extend(s)"
   ],
   "id": "86b254900fffe6b3",
   "outputs": [],
   "execution_count": 9
  },
  {
   "metadata": {
    "ExecuteTime": {
     "end_time": "2025-06-02T03:53:14.461420Z",
     "start_time": "2025-06-02T03:53:14.459236Z"
    }
   },
   "cell_type": "code",
   "source": [
    "t = (1,2,3)\n",
    "sample_list.extend(t)"
   ],
   "id": "e911f0088dfae2bc",
   "outputs": [],
   "execution_count": 10
  },
  {
   "metadata": {
    "ExecuteTime": {
     "end_time": "2025-06-02T03:53:18.613898Z",
     "start_time": "2025-06-02T03:53:18.611147Z"
    }
   },
   "cell_type": "code",
   "source": "sample_list",
   "id": "a04c15b2b1a05ed2",
   "outputs": [
    {
     "data": {
      "text/plain": [
       "['a', 'b', 'c', 1, 2, 3]"
      ]
     },
     "execution_count": 11,
     "metadata": {},
     "output_type": "execute_result"
    }
   ],
   "execution_count": 11
  },
  {
   "metadata": {
    "ExecuteTime": {
     "end_time": "2025-06-02T03:54:04.489002Z",
     "start_time": "2025-06-02T03:54:04.486149Z"
    }
   },
   "cell_type": "code",
   "source": [
    "sample_list.extend((4,5,6))\n",
    "sample_list"
   ],
   "id": "c12ba2812be404e4",
   "outputs": [
    {
     "data": {
      "text/plain": [
       "['a', 'b', 'c', 1, 2, 3, 4, 5, 6]"
      ]
     },
     "execution_count": 12,
     "metadata": {},
     "output_type": "execute_result"
    }
   ],
   "execution_count": 12
  },
  {
   "metadata": {
    "ExecuteTime": {
     "end_time": "2025-09-28T20:30:48.198565Z",
     "start_time": "2025-09-28T20:30:48.195572Z"
    }
   },
   "cell_type": "code",
   "source": [
    "colors.remove('white')\n",
    "colors"
   ],
   "id": "e13a8be2e94ea75",
   "outputs": [
    {
     "data": {
      "text/plain": [
       "['black',\n",
       " 'red',\n",
       " 'green',\n",
       " 'blue',\n",
       " 'yellow',\n",
       " 'magenta',\n",
       " 'cyan',\n",
       " 'indigo',\n",
       " 'violet']"
      ]
     },
     "execution_count": 5,
     "metadata": {},
     "output_type": "execute_result"
    }
   ],
   "execution_count": 5
  },
  {
   "metadata": {
    "ExecuteTime": {
     "end_time": "2025-09-28T20:32:31.063994Z",
     "start_time": "2025-09-28T20:32:31.061534Z"
    }
   },
   "cell_type": "code",
   "source": [
    "colors_temporary = colors\n",
    "colors_temporary.clear()\n",
    "colors_temporary"
   ],
   "id": "f37bd69c5bb88410",
   "outputs": [
    {
     "data": {
      "text/plain": [
       "[]"
      ]
     },
     "execution_count": 6,
     "metadata": {},
     "output_type": "execute_result"
    }
   ],
   "execution_count": 6
  },
  {
   "metadata": {
    "ExecuteTime": {
     "end_time": "2025-09-28T20:32:51.240206Z",
     "start_time": "2025-09-28T20:32:51.237662Z"
    }
   },
   "cell_type": "code",
   "source": [
    "for color in colors:\n",
    "    print(f'{color} appears {colors.count(color)} times')\n"
   ],
   "id": "211ff7a019ad07e0",
   "outputs": [
    {
     "name": "stdout",
     "output_type": "stream",
     "text": [
      "black appears 1 times\n",
      "red appears 1 times\n",
      "green appears 1 times\n",
      "blue appears 1 times\n",
      "yellow appears 1 times\n",
      "magenta appears 1 times\n",
      "cyan appears 1 times\n"
     ]
    }
   ],
   "execution_count": 12
  },
  {
   "metadata": {
    "ExecuteTime": {
     "end_time": "2025-09-28T20:49:42.525607Z",
     "start_time": "2025-09-28T20:49:42.522229Z"
    }
   },
   "cell_type": "code",
   "source": [
    "colors.reverse()\n",
    "colors"
   ],
   "id": "81a4517dae7224ef",
   "outputs": [
    {
     "data": {
      "text/plain": [
       "['cyan', 'magenta', 'yellow', 'blue', 'green', 'red', 'black']"
      ]
     },
     "execution_count": 13,
     "metadata": {},
     "output_type": "execute_result"
    }
   ],
   "execution_count": 13
  },
  {
   "metadata": {
    "ExecuteTime": {
     "end_time": "2025-09-28T20:50:50.731753Z",
     "start_time": "2025-09-28T20:50:50.729571Z"
    }
   },
   "cell_type": "code",
   "source": [
    "colors_temporary = colors.copy()\n",
    "colors_temporary"
   ],
   "id": "dcbe565e5eb577a9",
   "outputs": [
    {
     "data": {
      "text/plain": [
       "['cyan', 'magenta', 'yellow', 'blue', 'green', 'red', 'black']"
      ]
     },
     "execution_count": 14,
     "metadata": {},
     "output_type": "execute_result"
    }
   ],
   "execution_count": 14
  },
  {
   "metadata": {},
   "cell_type": "code",
   "outputs": [],
   "execution_count": null,
   "source": "",
   "id": "7fd7037cc642d885"
  }
 ],
 "metadata": {
  "kernelspec": {
   "display_name": "Python 3",
   "language": "python",
   "name": "python3"
  },
  "language_info": {
   "codemirror_mode": {
    "name": "ipython",
    "version": 2
   },
   "file_extension": ".py",
   "mimetype": "text/x-python",
   "name": "python",
   "nbconvert_exporter": "python",
   "pygments_lexer": "ipython2",
   "version": "2.7.6"
  }
 },
 "nbformat": 4,
 "nbformat_minor": 5
}
