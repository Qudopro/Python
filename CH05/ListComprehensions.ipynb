{
 "cells": [
  {
   "cell_type": "code",
   "id": "initial_id",
   "metadata": {
    "collapsed": true,
    "ExecuteTime": {
     "end_time": "2025-09-28T21:10:48.895847Z",
     "start_time": "2025-09-28T21:10:48.891024Z"
    }
   },
   "source": [
    "list1  = []\n",
    "for item in range(1,6):\n",
    "    list1.append(item)\n",
    "\n",
    "list1"
   ],
   "outputs": [
    {
     "data": {
      "text/plain": [
       "[1, 2, 3, 4, 5]"
      ]
     },
     "execution_count": 2,
     "metadata": {},
     "output_type": "execute_result"
    }
   ],
   "execution_count": 2
  },
  {
   "metadata": {
    "ExecuteTime": {
     "end_time": "2025-09-28T21:11:45.882353Z",
     "start_time": "2025-09-28T21:11:45.879238Z"
    }
   },
   "cell_type": "code",
   "source": [
    "list2 = [item for item in range(1,6)]\n",
    "list2"
   ],
   "id": "ef324e07b21f4692",
   "outputs": [
    {
     "data": {
      "text/plain": [
       "[1, 2, 3, 4, 5]"
      ]
     },
     "execution_count": 4,
     "metadata": {},
     "output_type": "execute_result"
    }
   ],
   "execution_count": 4
  },
  {
   "metadata": {
    "ExecuteTime": {
     "end_time": "2025-09-28T21:17:14.857646Z",
     "start_time": "2025-09-28T21:17:14.854774Z"
    }
   },
   "cell_type": "code",
   "source": [
    "list3 = [item**3 for item in range(1,6)]\n",
    "list3"
   ],
   "id": "d9ac7d1d8712eaa8",
   "outputs": [
    {
     "data": {
      "text/plain": [
       "[1, 8, 27, 64, 125]"
      ]
     },
     "execution_count": 5,
     "metadata": {},
     "output_type": "execute_result"
    }
   ],
   "execution_count": 5
  },
  {
   "metadata": {
    "ExecuteTime": {
     "end_time": "2025-09-28T21:19:50.576191Z",
     "start_time": "2025-09-28T21:19:50.572397Z"
    }
   },
   "cell_type": "code",
   "source": [
    "list4 = [item for item in range(1,11) if item % 2 == 0]\n",
    "list4"
   ],
   "id": "351654a21ec2b0b5",
   "outputs": [
    {
     "data": {
      "text/plain": [
       "[2, 4, 6, 8, 10]"
      ]
     },
     "execution_count": 7,
     "metadata": {},
     "output_type": "execute_result"
    }
   ],
   "execution_count": 7
  },
  {
   "metadata": {
    "ExecuteTime": {
     "end_time": "2025-09-28T21:22:12.406974Z",
     "start_time": "2025-09-28T21:22:12.403448Z"
    }
   },
   "cell_type": "code",
   "source": [
    "colors = ['red', 'green', 'blue', 'yellow', 'magenta', 'cyan']\n",
    "colors2 = [item.upper() for item in colors]\n",
    "colors2"
   ],
   "id": "f480fcfdf8e55097",
   "outputs": [
    {
     "data": {
      "text/plain": [
       "['RED', 'GREEN', 'BLUE', 'YELLOW', 'MAGENTA', 'CYAN']"
      ]
     },
     "execution_count": 9,
     "metadata": {},
     "output_type": "execute_result"
    }
   ],
   "execution_count": 9
  }
 ],
 "metadata": {
  "kernelspec": {
   "display_name": "Python 3",
   "language": "python",
   "name": "python3"
  },
  "language_info": {
   "codemirror_mode": {
    "name": "ipython",
    "version": 2
   },
   "file_extension": ".py",
   "mimetype": "text/x-python",
   "name": "python",
   "nbconvert_exporter": "python",
   "pygments_lexer": "ipython2",
   "version": "2.7.6"
  }
 },
 "nbformat": 4,
 "nbformat_minor": 5
}
