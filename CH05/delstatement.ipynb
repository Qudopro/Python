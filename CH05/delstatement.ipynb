{
 "cells": [
  {
   "cell_type": "code",
   "id": "initial_id",
   "metadata": {
    "collapsed": true,
    "ExecuteTime": {
     "end_time": "2025-09-26T02:32:02.370109Z",
     "start_time": "2025-09-26T02:32:02.367018Z"
    }
   },
   "source": [
    "numbers = list(range(0,10))\n",
    "numbers"
   ],
   "outputs": [
    {
     "data": {
      "text/plain": [
       "[0, 1, 2, 3, 4, 5, 6, 7, 8, 9]"
      ]
     },
     "execution_count": 1,
     "metadata": {},
     "output_type": "execute_result"
    }
   ],
   "execution_count": 1
  },
  {
   "metadata": {
    "ExecuteTime": {
     "end_time": "2025-09-26T02:32:03.600932Z",
     "start_time": "2025-09-26T02:32:03.598338Z"
    }
   },
   "cell_type": "code",
   "source": [
    "del numbers[-1]\n",
    "numbers"
   ],
   "id": "5a4773fa3b439acf",
   "outputs": [
    {
     "data": {
      "text/plain": [
       "[0, 1, 2, 3, 4, 5, 6, 7, 8]"
      ]
     },
     "execution_count": 2,
     "metadata": {},
     "output_type": "execute_result"
    }
   ],
   "execution_count": 2
  },
  {
   "metadata": {
    "ExecuteTime": {
     "end_time": "2025-09-26T02:32:36.905271Z",
     "start_time": "2025-09-26T02:32:36.902385Z"
    }
   },
   "cell_type": "code",
   "source": [
    "del numbers[0:2]\n",
    "numbers"
   ],
   "id": "e177a794e092d00e",
   "outputs": [
    {
     "data": {
      "text/plain": [
       "[2, 3, 4, 5, 6, 7, 8]"
      ]
     },
     "execution_count": 3,
     "metadata": {},
     "output_type": "execute_result"
    }
   ],
   "execution_count": 3
  },
  {
   "metadata": {
    "ExecuteTime": {
     "end_time": "2025-09-26T02:33:35.596706Z",
     "start_time": "2025-09-26T02:33:35.593665Z"
    }
   },
   "cell_type": "code",
   "source": [
    "del numbers[::2]\n",
    "numbers"
   ],
   "id": "f5a60bc02bc9516b",
   "outputs": [
    {
     "data": {
      "text/plain": [
       "[3, 5, 7]"
      ]
     },
     "execution_count": 4,
     "metadata": {},
     "output_type": "execute_result"
    }
   ],
   "execution_count": 4
  },
  {
   "metadata": {
    "ExecuteTime": {
     "end_time": "2025-09-26T02:34:45.404454Z",
     "start_time": "2025-09-26T02:34:45.401939Z"
    }
   },
   "cell_type": "code",
   "source": [
    "del numbers[:]\n",
    "numbers"
   ],
   "id": "1d495d8f6ea0be92",
   "outputs": [
    {
     "data": {
      "text/plain": [
       "[]"
      ]
     },
     "execution_count": 5,
     "metadata": {},
     "output_type": "execute_result"
    }
   ],
   "execution_count": 5
  },
  {
   "metadata": {
    "ExecuteTime": {
     "end_time": "2025-09-26T02:34:46.790662Z",
     "start_time": "2025-09-26T02:34:46.787966Z"
    }
   },
   "cell_type": "code",
   "source": "del numbers",
   "id": "1521a972175160d5",
   "outputs": [],
   "execution_count": 6
  },
  {
   "metadata": {},
   "cell_type": "code",
   "outputs": [],
   "execution_count": null,
   "source": "",
   "id": "a89046727c3f3617"
  }
 ],
 "metadata": {
  "kernelspec": {
   "display_name": "Python 3",
   "language": "python",
   "name": "python3"
  },
  "language_info": {
   "codemirror_mode": {
    "name": "ipython",
    "version": 2
   },
   "file_extension": ".py",
   "mimetype": "text/x-python",
   "name": "python",
   "nbconvert_exporter": "python",
   "pygments_lexer": "ipython2",
   "version": "2.7.6"
  }
 },
 "nbformat": 4,
 "nbformat_minor": 5
}
