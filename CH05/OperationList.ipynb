{
 "cells": [
  {
   "cell_type": "code",
   "id": "initial_id",
   "metadata": {
    "collapsed": true,
    "ExecuteTime": {
     "end_time": "2025-09-24T04:01:40.954510Z",
     "start_time": "2025-09-24T04:01:40.952392Z"
    }
   },
   "source": "c = [-45,6,0,72,1543]",
   "outputs": [],
   "execution_count": 1
  },
  {
   "metadata": {
    "ExecuteTime": {
     "end_time": "2025-09-24T04:01:41.343749Z",
     "start_time": "2025-09-24T04:01:41.340802Z"
    }
   },
   "cell_type": "code",
   "source": "c",
   "id": "bc56fdfa0b739679",
   "outputs": [
    {
     "data": {
      "text/plain": [
       "[-45, 6, 0, 72, 1543]"
      ]
     },
     "execution_count": 2,
     "metadata": {},
     "output_type": "execute_result"
    }
   ],
   "execution_count": 2
  },
  {
   "metadata": {
    "ExecuteTime": {
     "end_time": "2025-09-24T04:01:43.004472Z",
     "start_time": "2025-09-24T04:01:43.002091Z"
    }
   },
   "cell_type": "code",
   "source": "c = [\"Diego\", \"Cabrera\", 22, 4949]",
   "id": "87609c902b0bea03",
   "outputs": [],
   "execution_count": 3
  },
  {
   "metadata": {
    "ExecuteTime": {
     "end_time": "2025-09-24T04:01:45.693487Z",
     "start_time": "2025-09-24T04:01:45.690842Z"
    }
   },
   "cell_type": "code",
   "source": "c",
   "id": "a182acebd1b18f7b",
   "outputs": [
    {
     "data": {
      "text/plain": [
       "['Diego', 'Cabrera', 22, 4949]"
      ]
     },
     "execution_count": 4,
     "metadata": {},
     "output_type": "execute_result"
    }
   ],
   "execution_count": 4
  },
  {
   "metadata": {
    "ExecuteTime": {
     "end_time": "2025-09-24T04:01:47.126332Z",
     "start_time": "2025-09-24T04:01:47.123481Z"
    }
   },
   "cell_type": "code",
   "source": "c[0]",
   "id": "85310ac58ce7a90",
   "outputs": [
    {
     "data": {
      "text/plain": [
       "'Diego'"
      ]
     },
     "execution_count": 5,
     "metadata": {},
     "output_type": "execute_result"
    }
   ],
   "execution_count": 5
  },
  {
   "metadata": {
    "ExecuteTime": {
     "end_time": "2025-05-26T05:05:50.486891Z",
     "start_time": "2025-05-26T05:05:50.484198Z"
    }
   },
   "cell_type": "code",
   "source": "len(c)",
   "id": "f6ec32a6c722dbf",
   "outputs": [
    {
     "data": {
      "text/plain": [
       "4"
      ]
     },
     "execution_count": 6,
     "metadata": {},
     "output_type": "execute_result"
    }
   ],
   "execution_count": 6
  },
  {
   "metadata": {
    "ExecuteTime": {
     "end_time": "2025-09-24T04:04:04.382631Z",
     "start_time": "2025-09-24T04:04:04.379817Z"
    }
   },
   "cell_type": "code",
   "source": "c[-1]",
   "id": "82e1313f3b4af75c",
   "outputs": [
    {
     "data": {
      "text/plain": [
       "4949"
      ]
     },
     "execution_count": 6,
     "metadata": {},
     "output_type": "execute_result"
    }
   ],
   "execution_count": 6
  },
  {
   "metadata": {
    "ExecuteTime": {
     "end_time": "2025-09-24T04:05:25.139690Z",
     "start_time": "2025-09-24T04:05:25.137426Z"
    }
   },
   "cell_type": "code",
   "source": [
    "a = 2\n",
    "b = 1\n",
    "c[a+b]"
   ],
   "id": "7024ce18f22bb862",
   "outputs": [
    {
     "data": {
      "text/plain": [
       "4949"
      ]
     },
     "execution_count": 7,
     "metadata": {},
     "output_type": "execute_result"
    }
   ],
   "execution_count": 7
  },
  {
   "metadata": {
    "ExecuteTime": {
     "end_time": "2025-05-26T05:07:44.334058Z",
     "start_time": "2025-05-26T05:07:44.331993Z"
    }
   },
   "cell_type": "code",
   "source": "c[2] =21",
   "id": "c0cb8ea1af2eae42",
   "outputs": [],
   "execution_count": 11
  },
  {
   "metadata": {
    "ExecuteTime": {
     "end_time": "2025-05-26T05:07:47.393573Z",
     "start_time": "2025-05-26T05:07:47.390688Z"
    }
   },
   "cell_type": "code",
   "source": "c",
   "id": "eba8f22fa81fbb9b",
   "outputs": [
    {
     "data": {
      "text/plain": [
       "['Diego', 'Cabrera', 21, 4949]"
      ]
     },
     "execution_count": 12,
     "metadata": {},
     "output_type": "execute_result"
    }
   ],
   "execution_count": 12
  },
  {
   "metadata": {
    "ExecuteTime": {
     "end_time": "2025-05-26T05:08:28.170167Z",
     "start_time": "2025-05-26T05:08:28.167507Z"
    }
   },
   "cell_type": "code",
   "source": [
    "s = \"hello\"\n",
    "s[0]"
   ],
   "id": "d436a7fc14b225ab",
   "outputs": [
    {
     "data": {
      "text/plain": [
       "'h'"
      ]
     },
     "execution_count": 13,
     "metadata": {},
     "output_type": "execute_result"
    }
   ],
   "execution_count": 13
  },
  {
   "metadata": {
    "ExecuteTime": {
     "end_time": "2025-05-26T05:08:40.298393Z",
     "start_time": "2025-05-26T05:08:40.284001Z"
    }
   },
   "cell_type": "code",
   "source": "s[0] = \"i\"",
   "id": "f5b8e6ad05c89163",
   "outputs": [
    {
     "ename": "TypeError",
     "evalue": "'str' object does not support item assignment",
     "output_type": "error",
     "traceback": [
      "\u001B[31m---------------------------------------------------------------------------\u001B[39m",
      "\u001B[31mTypeError\u001B[39m                                 Traceback (most recent call last)",
      "\u001B[36mCell\u001B[39m\u001B[36m \u001B[39m\u001B[32mIn[15]\u001B[39m\u001B[32m, line 1\u001B[39m\n\u001B[32m----> \u001B[39m\u001B[32m1\u001B[39m \u001B[43ms\u001B[49m\u001B[43m[\u001B[49m\u001B[32;43m0\u001B[39;49m\u001B[43m]\u001B[49m = \u001B[33m\"\u001B[39m\u001B[33mi\u001B[39m\u001B[33m\"\u001B[39m\n",
      "\u001B[31mTypeError\u001B[39m: 'str' object does not support item assignment"
     ]
    }
   ],
   "execution_count": 15
  },
  {
   "metadata": {
    "ExecuteTime": {
     "end_time": "2025-05-26T05:09:48.022854Z",
     "start_time": "2025-05-26T05:09:48.010852Z"
    }
   },
   "cell_type": "code",
   "source": "c[100]",
   "id": "e8d6cd3ea20c744c",
   "outputs": [
    {
     "ename": "IndexError",
     "evalue": "list index out of range",
     "output_type": "error",
     "traceback": [
      "\u001B[31m---------------------------------------------------------------------------\u001B[39m",
      "\u001B[31mIndexError\u001B[39m                                Traceback (most recent call last)",
      "\u001B[36mCell\u001B[39m\u001B[36m \u001B[39m\u001B[32mIn[16]\u001B[39m\u001B[32m, line 1\u001B[39m\n\u001B[32m----> \u001B[39m\u001B[32m1\u001B[39m \u001B[43mc\u001B[49m\u001B[43m[\u001B[49m\u001B[32;43m100\u001B[39;49m\u001B[43m]\u001B[49m\n",
      "\u001B[31mIndexError\u001B[39m: list index out of range"
     ]
    }
   ],
   "execution_count": 16
  },
  {
   "metadata": {
    "ExecuteTime": {
     "end_time": "2025-05-26T05:10:17.193478Z",
     "start_time": "2025-05-26T05:10:17.190799Z"
    }
   },
   "cell_type": "code",
   "source": [
    "sum = c[2] + c[3]\n",
    "sum"
   ],
   "id": "ca0abb0bfab6cdbd",
   "outputs": [
    {
     "data": {
      "text/plain": [
       "4970"
      ]
     },
     "execution_count": 17,
     "metadata": {},
     "output_type": "execute_result"
    }
   ],
   "execution_count": 17
  },
  {
   "metadata": {
    "ExecuteTime": {
     "end_time": "2025-05-26T05:11:44.439552Z",
     "start_time": "2025-05-26T05:11:44.436521Z"
    }
   },
   "cell_type": "code",
   "source": [
    "a_list = []\n",
    "for number in range(1,6):\n",
    "    a_list += [number]\n",
    "\n",
    "a_list"
   ],
   "id": "2f5854a8608c6611",
   "outputs": [
    {
     "data": {
      "text/plain": [
       "[1, 2, 3, 4, 5]"
      ]
     },
     "execution_count": 20,
     "metadata": {},
     "output_type": "execute_result"
    }
   ],
   "execution_count": 20
  },
  {
   "metadata": {
    "ExecuteTime": {
     "end_time": "2025-05-26T05:12:38.620744Z",
     "start_time": "2025-05-26T05:12:38.615916Z"
    }
   },
   "cell_type": "code",
   "source": [
    "letters = []\n",
    "letters += \"Python\"\n",
    "letters"
   ],
   "id": "817ad77d89fd768e",
   "outputs": [
    {
     "data": {
      "text/plain": [
       "['P', 'y', 't', 'h', 'o', 'n']"
      ]
     },
     "execution_count": 21,
     "metadata": {},
     "output_type": "execute_result"
    }
   ],
   "execution_count": 21
  },
  {
   "metadata": {
    "ExecuteTime": {
     "end_time": "2025-05-26T05:14:02.328523Z",
     "start_time": "2025-05-26T05:14:02.325956Z"
    }
   },
   "cell_type": "code",
   "source": [
    "list1 = [10,20,30]\n",
    "list2 = [40,50, 60]\n",
    "concatenated_list = list1 + list2\n",
    "concatenated_list"
   ],
   "id": "f263b7ab6085e9e2",
   "outputs": [
    {
     "data": {
      "text/plain": [
       "[10, 20, 30, 40, 50, 60]"
      ]
     },
     "execution_count": 24,
     "metadata": {},
     "output_type": "execute_result"
    }
   ],
   "execution_count": 24
  },
  {
   "metadata": {
    "ExecuteTime": {
     "end_time": "2025-05-26T05:15:28.944940Z",
     "start_time": "2025-05-26T05:15:28.942350Z"
    }
   },
   "cell_type": "code",
   "source": [
    "for i in range(len(concatenated_list)):\n",
    "    print(f'{i}: {concatenated_list[i]}')"
   ],
   "id": "1fb5ffc412190656",
   "outputs": [
    {
     "name": "stdout",
     "output_type": "stream",
     "text": [
      "0: 10\n",
      "1: 20\n",
      "2: 30\n",
      "3: 40\n",
      "4: 50\n",
      "5: 60\n"
     ]
    }
   ],
   "execution_count": 27
  },
  {
   "metadata": {
    "ExecuteTime": {
     "end_time": "2025-09-24T04:39:13.198233Z",
     "start_time": "2025-09-24T04:39:13.196371Z"
    }
   },
   "cell_type": "code",
   "source": [
    "a = [1,2,3,4,5]\n",
    "b = [1,2,3,4,5]\n",
    "c = [1,2,3,4,5,6]"
   ],
   "id": "8a73dcd6659f5839",
   "outputs": [],
   "execution_count": 8
  },
  {
   "metadata": {
    "ExecuteTime": {
     "end_time": "2025-09-24T04:39:14.515977Z",
     "start_time": "2025-09-24T04:39:14.513341Z"
    }
   },
   "cell_type": "code",
   "source": "a == b",
   "id": "383049fb1fa5f621",
   "outputs": [
    {
     "data": {
      "text/plain": [
       "True"
      ]
     },
     "execution_count": 9,
     "metadata": {},
     "output_type": "execute_result"
    }
   ],
   "execution_count": 9
  },
  {
   "metadata": {
    "ExecuteTime": {
     "end_time": "2025-09-24T04:39:16.541721Z",
     "start_time": "2025-09-24T04:39:16.539588Z"
    }
   },
   "cell_type": "code",
   "source": "a == c",
   "id": "e8f2ad0cf8f1c7ca",
   "outputs": [
    {
     "data": {
      "text/plain": [
       "False"
      ]
     },
     "execution_count": 10,
     "metadata": {},
     "output_type": "execute_result"
    }
   ],
   "execution_count": 10
  },
  {
   "metadata": {
    "ExecuteTime": {
     "end_time": "2025-05-26T05:17:07.683070Z",
     "start_time": "2025-05-26T05:17:07.680261Z"
    }
   },
   "cell_type": "code",
   "source": "a < c #True: a has fewer elements than c",
   "id": "6d0040d3436133df",
   "outputs": [
    {
     "data": {
      "text/plain": [
       "True"
      ]
     },
     "execution_count": 31,
     "metadata": {},
     "output_type": "execute_result"
    }
   ],
   "execution_count": 31
  },
  {
   "metadata": {},
   "cell_type": "code",
   "outputs": [],
   "execution_count": null,
   "source": "",
   "id": "95045824769f381a"
  }
 ],
 "metadata": {
  "kernelspec": {
   "display_name": "Python 3",
   "language": "python",
   "name": "python3"
  },
  "language_info": {
   "codemirror_mode": {
    "name": "ipython",
    "version": 2
   },
   "file_extension": ".py",
   "mimetype": "text/x-python",
   "name": "python",
   "nbconvert_exporter": "python",
   "pygments_lexer": "ipython2",
   "version": "2.7.6"
  }
 },
 "nbformat": 4,
 "nbformat_minor": 5
}
