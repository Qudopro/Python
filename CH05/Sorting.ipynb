{
 "cells": [
  {
   "cell_type": "code",
   "id": "initial_id",
   "metadata": {
    "collapsed": true,
    "ExecuteTime": {
     "end_time": "2025-09-26T02:57:33.299889Z",
     "start_time": "2025-09-26T02:57:33.297076Z"
    }
   },
   "source": [
    "numbers = [10, 3, 29, 19, 84, 2, 1, 5]\n",
    "numbers.sort()\n",
    "print(numbers)"
   ],
   "outputs": [
    {
     "name": "stdout",
     "output_type": "stream",
     "text": [
      "[1, 2, 3, 5, 10, 19, 29, 84]\n"
     ]
    }
   ],
   "execution_count": 2
  },
  {
   "metadata": {
    "ExecuteTime": {
     "end_time": "2025-09-26T02:57:34.866843Z",
     "start_time": "2025-09-26T02:57:34.864220Z"
    }
   },
   "cell_type": "code",
   "source": [
    "numbers.sort(reverse=True)\n",
    "print(numbers)"
   ],
   "id": "e7dc73a16317a7df",
   "outputs": [
    {
     "name": "stdout",
     "output_type": "stream",
     "text": [
      "[84, 29, 19, 10, 5, 3, 2, 1]\n"
     ]
    }
   ],
   "execution_count": 3
  },
  {
   "metadata": {
    "ExecuteTime": {
     "end_time": "2025-09-26T03:02:52.117502Z",
     "start_time": "2025-09-26T03:02:52.114671Z"
    }
   },
   "cell_type": "code",
   "source": [
    "ascending_numbers = sorted(numbers)\n",
    "print(ascending_numbers)"
   ],
   "id": "a8eb7b96929e00fe",
   "outputs": [
    {
     "name": "stdout",
     "output_type": "stream",
     "text": [
      "[1, 2, 3, 5, 10, 19, 29, 84]\n"
     ]
    }
   ],
   "execution_count": 5
  },
  {
   "metadata": {
    "ExecuteTime": {
     "end_time": "2025-09-26T03:02:55.796769Z",
     "start_time": "2025-09-26T03:02:55.792071Z"
    }
   },
   "cell_type": "code",
   "source": "numbers",
   "id": "15c5217e911ed70a",
   "outputs": [
    {
     "data": {
      "text/plain": [
       "[84, 29, 19, 10, 5, 3, 2, 1]"
      ]
     },
     "execution_count": 6,
     "metadata": {},
     "output_type": "execute_result"
    }
   ],
   "execution_count": 6
  },
  {
   "metadata": {
    "ExecuteTime": {
     "end_time": "2025-09-26T03:03:33.758562Z",
     "start_time": "2025-09-26T03:03:33.756176Z"
    }
   },
   "cell_type": "code",
   "source": [
    "letters = 'fauidhfias'\n",
    "ascending_letters = sorted(letters)\n",
    "print(ascending_letters)"
   ],
   "id": "48ef4d6ffa5d43c0",
   "outputs": [
    {
     "name": "stdout",
     "output_type": "stream",
     "text": [
      "['a', 'a', 'd', 'f', 'f', 'h', 'i', 'i', 's', 'u']\n"
     ]
    }
   ],
   "execution_count": 7
  },
  {
   "metadata": {
    "ExecuteTime": {
     "end_time": "2025-09-26T03:04:38.083224Z",
     "start_time": "2025-09-26T03:04:38.080773Z"
    }
   },
   "cell_type": "code",
   "source": [
    "colors = ('red', 'green', 'blue', 'yellow')\n",
    "ascending_colors = sorted(colors)\n",
    "print(ascending_colors)"
   ],
   "id": "20ed5a44cf73e1b8",
   "outputs": [
    {
     "name": "stdout",
     "output_type": "stream",
     "text": [
      "['blue', 'green', 'red', 'yellow']\n"
     ]
    }
   ],
   "execution_count": 8
  },
  {
   "metadata": {
    "ExecuteTime": {
     "end_time": "2025-09-26T03:05:34.842886Z",
     "start_time": "2025-09-26T03:05:34.840396Z"
    }
   },
   "cell_type": "code",
   "source": [
    "descending_numbers = sorted(numbers, reverse=True)\n",
    "print(descending_numbers)"
   ],
   "id": "a4a366f13b0803ce",
   "outputs": [
    {
     "name": "stdout",
     "output_type": "stream",
     "text": [
      "[84, 29, 19, 10, 5, 3, 2, 1]\n"
     ]
    }
   ],
   "execution_count": 9
  },
  {
   "metadata": {},
   "cell_type": "code",
   "outputs": [],
   "execution_count": null,
   "source": "",
   "id": "9eb0119477ffd725"
  }
 ],
 "metadata": {
  "kernelspec": {
   "display_name": "Python 3",
   "language": "python",
   "name": "python3"
  },
  "language_info": {
   "codemirror_mode": {
    "name": "ipython",
    "version": 2
   },
   "file_extension": ".py",
   "mimetype": "text/x-python",
   "name": "python",
   "nbconvert_exporter": "python",
   "pygments_lexer": "ipython2",
   "version": "2.7.6"
  }
 },
 "nbformat": 4,
 "nbformat_minor": 5
}
