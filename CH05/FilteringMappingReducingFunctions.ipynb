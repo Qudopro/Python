{
 "cells": [
  {
   "metadata": {},
   "cell_type": "markdown",
   "source": "",
   "id": "90b92f3a7ef27596"
  },
  {
   "metadata": {
    "ExecuteTime": {
     "end_time": "2025-09-28T22:07:12.398909Z",
     "start_time": "2025-09-28T22:07:12.396580Z"
    }
   },
   "cell_type": "code",
   "source": "numbers = [1, 2, 3, 4, 5, 6, 7, 8, 9, 10]",
   "id": "906e601d45c859e6",
   "outputs": [],
   "execution_count": 2
  },
  {
   "metadata": {
    "ExecuteTime": {
     "end_time": "2025-09-28T22:07:28.553082Z",
     "start_time": "2025-09-28T22:07:28.549821Z"
    }
   },
   "cell_type": "code",
   "source": [
    "def is_odd(number):\n",
    "    return number % 2 != 0"
   ],
   "id": "38f239eb83022b1",
   "outputs": [],
   "execution_count": 3
  },
  {
   "metadata": {
    "ExecuteTime": {
     "end_time": "2025-09-28T22:07:36.786907Z",
     "start_time": "2025-09-28T22:07:36.781766Z"
    }
   },
   "cell_type": "code",
   "source": "list(filter(is_odd, numbers))",
   "id": "e5515aea0e7a14f4",
   "outputs": [
    {
     "data": {
      "text/plain": [
       "[1, 3, 5, 7, 9]"
      ]
     },
     "execution_count": 4,
     "metadata": {},
     "output_type": "execute_result"
    }
   ],
   "execution_count": 4
  },
  {
   "metadata": {
    "ExecuteTime": {
     "end_time": "2025-09-28T22:13:05.227887Z",
     "start_time": "2025-09-28T22:13:05.224549Z"
    }
   },
   "cell_type": "code",
   "source": "[item for item in numbers if is_odd(item)]",
   "id": "7e34913e9e007ef7",
   "outputs": [
    {
     "data": {
      "text/plain": [
       "[1, 3, 5, 7, 9]"
      ]
     },
     "execution_count": 5,
     "metadata": {},
     "output_type": "execute_result"
    }
   ],
   "execution_count": 5
  },
  {
   "metadata": {
    "ExecuteTime": {
     "end_time": "2025-09-28T22:17:01.225437Z",
     "start_time": "2025-09-28T22:17:01.222070Z"
    }
   },
   "cell_type": "code",
   "source": "list(filter(lambda x: x%2 != 0, numbers))",
   "id": "48da605e4fe7e51a",
   "outputs": [
    {
     "data": {
      "text/plain": [
       "[1, 3, 5, 7, 9]"
      ]
     },
     "execution_count": 6,
     "metadata": {},
     "output_type": "execute_result"
    }
   ],
   "execution_count": 6
  },
  {
   "metadata": {
    "ExecuteTime": {
     "end_time": "2025-09-28T22:51:27.130180Z",
     "start_time": "2025-09-28T22:51:27.126879Z"
    }
   },
   "cell_type": "code",
   "source": "list(map(lambda x: x**2, numbers))",
   "id": "459d4644aee168a5",
   "outputs": [
    {
     "data": {
      "text/plain": [
       "[1, 4, 9, 16, 25, 36, 49, 64, 81, 100]"
      ]
     },
     "execution_count": 7,
     "metadata": {},
     "output_type": "execute_result"
    }
   ],
   "execution_count": 7
  },
  {
   "metadata": {
    "ExecuteTime": {
     "end_time": "2025-09-28T23:07:02.519983Z",
     "start_time": "2025-09-28T23:07:02.515877Z"
    }
   },
   "cell_type": "code",
   "source": [
    "colors = ['red', 'green', 'blue', 'yellow', 'magenta', 'cyan']\n",
    "min(colors, key=lambda s: s.lower())"
   ],
   "id": "ebf75089aebc647a",
   "outputs": [
    {
     "data": {
      "text/plain": [
       "'blue'"
      ]
     },
     "execution_count": 8,
     "metadata": {},
     "output_type": "execute_result"
    }
   ],
   "execution_count": 8
  },
  {
   "metadata": {
    "ExecuteTime": {
     "end_time": "2025-09-28T23:10:48.641828Z",
     "start_time": "2025-09-28T23:10:48.638287Z"
    }
   },
   "cell_type": "code",
   "source": [
    "numbers = [1, 2, 3, 4, 5, 6, 7, 8, 9, 10]\n",
    "reversed_numbers = [item**2 for item in reversed(numbers)]\n",
    "reversed_numbers"
   ],
   "id": "6f034c2f61f336c4",
   "outputs": [
    {
     "data": {
      "text/plain": [
       "[100, 81, 64, 49, 36, 25, 16, 9, 4, 1]"
      ]
     },
     "execution_count": 9,
     "metadata": {},
     "output_type": "execute_result"
    }
   ],
   "execution_count": 9
  },
  {
   "metadata": {
    "ExecuteTime": {
     "end_time": "2025-09-28T23:16:57.457289Z",
     "start_time": "2025-09-28T23:16:57.454971Z"
    }
   },
   "cell_type": "code",
   "source": [
    "names = ['Bob', 'Sue', 'Amanda']\n",
    "grade_point_average = [3.5,4.0, 5.6]\n",
    "\n",
    "for name, gpa in zip(names, grade_point_average):\n",
    "    print(f'Name: {name}, GPA: {gpa}')"
   ],
   "id": "7f55e9f9fe4a22b3",
   "outputs": [
    {
     "name": "stdout",
     "output_type": "stream",
     "text": [
      "Name: Bob, GPA: 3.5\n",
      "Name: Sue, GPA: 4.0\n",
      "Name: Amanda, GPA: 5.6\n"
     ]
    }
   ],
   "execution_count": 10
  }
 ],
 "metadata": {
  "kernelspec": {
   "display_name": "Python 3",
   "language": "python",
   "name": "python3"
  },
  "language_info": {
   "codemirror_mode": {
    "name": "ipython",
    "version": 2
   },
   "file_extension": ".py",
   "mimetype": "text/x-python",
   "name": "python",
   "nbconvert_exporter": "python",
   "pygments_lexer": "ipython2",
   "version": "2.7.6"
  }
 },
 "nbformat": 4,
 "nbformat_minor": 5
}
