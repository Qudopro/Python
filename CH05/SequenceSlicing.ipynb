{
 "cells": [
  {
   "cell_type": "code",
   "id": "initial_id",
   "metadata": {
    "collapsed": true,
    "ExecuteTime": {
     "end_time": "2025-09-26T01:04:23.849811Z",
     "start_time": "2025-09-26T01:04:23.846439Z"
    }
   },
   "source": [
    "numbers = [1, 2, 3, 4, 5, 6, 7, 8, 9, 10]\n",
    "numbers[2:6]                #6 exclusivo"
   ],
   "outputs": [
    {
     "data": {
      "text/plain": [
       "[3, 4, 5, 6]"
      ]
     },
     "execution_count": 1,
     "metadata": {},
     "output_type": "execute_result"
    }
   ],
   "execution_count": 1
  },
  {
   "metadata": {
    "ExecuteTime": {
     "end_time": "2025-09-26T01:04:25.646036Z",
     "start_time": "2025-09-26T01:04:25.643107Z"
    }
   },
   "cell_type": "code",
   "source": "numbers[:6]",
   "id": "1082da2d057ae3d0",
   "outputs": [
    {
     "data": {
      "text/plain": [
       "[1, 2, 3, 4, 5, 6]"
      ]
     },
     "execution_count": 2,
     "metadata": {},
     "output_type": "execute_result"
    }
   ],
   "execution_count": 2
  },
  {
   "metadata": {
    "ExecuteTime": {
     "end_time": "2025-09-26T01:04:29.251498Z",
     "start_time": "2025-09-26T01:04:29.248670Z"
    }
   },
   "cell_type": "code",
   "source": "numbers[:]",
   "id": "ac5f7279550a72fc",
   "outputs": [
    {
     "data": {
      "text/plain": [
       "[1, 2, 3, 4, 5, 6, 7, 8, 9, 10]"
      ]
     },
     "execution_count": 3,
     "metadata": {},
     "output_type": "execute_result"
    }
   ],
   "execution_count": 3
  },
  {
   "metadata": {
    "ExecuteTime": {
     "end_time": "2025-09-26T01:04:30.990074Z",
     "start_time": "2025-09-26T01:04:30.987146Z"
    }
   },
   "cell_type": "code",
   "source": "numbers[6:]",
   "id": "39b3d5f76a79ae14",
   "outputs": [
    {
     "data": {
      "text/plain": [
       "[7, 8, 9, 10]"
      ]
     },
     "execution_count": 4,
     "metadata": {},
     "output_type": "execute_result"
    }
   ],
   "execution_count": 4
  },
  {
   "metadata": {
    "ExecuteTime": {
     "end_time": "2025-09-26T01:04:33.023832Z",
     "start_time": "2025-09-26T01:04:33.020822Z"
    }
   },
   "cell_type": "code",
   "source": "numbers[::2]",
   "id": "554c1f1f6796f568",
   "outputs": [
    {
     "data": {
      "text/plain": [
       "[1, 3, 5, 7, 9]"
      ]
     },
     "execution_count": 5,
     "metadata": {},
     "output_type": "execute_result"
    }
   ],
   "execution_count": 5
  },
  {
   "metadata": {
    "ExecuteTime": {
     "end_time": "2025-09-26T01:04:34.695926Z",
     "start_time": "2025-09-26T01:04:34.692720Z"
    }
   },
   "cell_type": "code",
   "source": "numbers[::-2]",
   "id": "fd7871485d77f0bd",
   "outputs": [
    {
     "data": {
      "text/plain": [
       "[10, 8, 6, 4, 2]"
      ]
     },
     "execution_count": 6,
     "metadata": {},
     "output_type": "execute_result"
    }
   ],
   "execution_count": 6
  },
  {
   "metadata": {
    "ExecuteTime": {
     "end_time": "2025-09-26T01:04:37.439736Z",
     "start_time": "2025-09-26T01:04:37.437727Z"
    }
   },
   "cell_type": "code",
   "source": "numbers[0:3] = ['two', 'three','five']",
   "id": "1b7d1d32394adc16",
   "outputs": [],
   "execution_count": 7
  },
  {
   "metadata": {
    "ExecuteTime": {
     "end_time": "2025-09-26T01:04:38.814044Z",
     "start_time": "2025-09-26T01:04:38.810448Z"
    }
   },
   "cell_type": "code",
   "source": "numbers",
   "id": "acdd8e93885174b9",
   "outputs": [
    {
     "data": {
      "text/plain": [
       "['two', 'three', 'five', 4, 5, 6, 7, 8, 9, 10]"
      ]
     },
     "execution_count": 8,
     "metadata": {},
     "output_type": "execute_result"
    }
   ],
   "execution_count": 8
  },
  {
   "metadata": {
    "ExecuteTime": {
     "end_time": "2025-09-26T01:12:37.654935Z",
     "start_time": "2025-09-26T01:12:37.652722Z"
    }
   },
   "cell_type": "code",
   "source": "numbers[0:3] = []",
   "id": "5408d5dfc0c03e6",
   "outputs": [],
   "execution_count": 9
  },
  {
   "metadata": {
    "ExecuteTime": {
     "end_time": "2025-09-26T01:12:39.586496Z",
     "start_time": "2025-09-26T01:12:39.583553Z"
    }
   },
   "cell_type": "code",
   "source": "numbers",
   "id": "a52db13d03f7fb17",
   "outputs": [
    {
     "data": {
      "text/plain": [
       "[4, 5, 6, 7, 8, 9, 10]"
      ]
     },
     "execution_count": 10,
     "metadata": {},
     "output_type": "execute_result"
    }
   ],
   "execution_count": 10
  },
  {
   "metadata": {
    "ExecuteTime": {
     "end_time": "2025-09-26T01:12:41.684022Z",
     "start_time": "2025-09-26T01:12:41.681967Z"
    }
   },
   "cell_type": "code",
   "source": [
    "numbers2 = numbers\n",
    "numbers[::2] = [100,100,100,100]"
   ],
   "id": "342426190551e374",
   "outputs": [],
   "execution_count": 11
  },
  {
   "metadata": {
    "ExecuteTime": {
     "end_time": "2025-09-26T01:12:45.044442Z",
     "start_time": "2025-09-26T01:12:45.041901Z"
    }
   },
   "cell_type": "code",
   "source": "numbers",
   "id": "130f98a781f510e4",
   "outputs": [
    {
     "data": {
      "text/plain": [
       "[100, 5, 100, 7, 100, 9, 100]"
      ]
     },
     "execution_count": 12,
     "metadata": {},
     "output_type": "execute_result"
    }
   ],
   "execution_count": 12
  },
  {
   "metadata": {
    "ExecuteTime": {
     "end_time": "2025-09-26T01:12:51.585709Z",
     "start_time": "2025-09-26T01:12:51.583535Z"
    }
   },
   "cell_type": "code",
   "source": "id(numbers)",
   "id": "2ec1e9edddd0ecc2",
   "outputs": [
    {
     "data": {
      "text/plain": [
       "4455798528"
      ]
     },
     "execution_count": 13,
     "metadata": {},
     "output_type": "execute_result"
    }
   ],
   "execution_count": 13
  },
  {
   "metadata": {
    "ExecuteTime": {
     "end_time": "2025-09-26T01:12:53.321128Z",
     "start_time": "2025-09-26T01:12:53.319101Z"
    }
   },
   "cell_type": "code",
   "source": "numbers[:] =[]",
   "id": "d5874f6a3d92ca5e",
   "outputs": [],
   "execution_count": 14
  },
  {
   "metadata": {
    "ExecuteTime": {
     "end_time": "2025-09-26T01:12:54.880790Z",
     "start_time": "2025-09-26T01:12:54.877970Z"
    }
   },
   "cell_type": "code",
   "source": "numbers",
   "id": "a00b6190883dc7ed",
   "outputs": [
    {
     "data": {
      "text/plain": [
       "[]"
      ]
     },
     "execution_count": 15,
     "metadata": {},
     "output_type": "execute_result"
    }
   ],
   "execution_count": 15
  },
  {
   "metadata": {
    "ExecuteTime": {
     "end_time": "2025-09-26T01:12:56.364288Z",
     "start_time": "2025-09-26T01:12:56.361353Z"
    }
   },
   "cell_type": "code",
   "source": "id(numbers)",
   "id": "8d18577fa0e06530",
   "outputs": [
    {
     "data": {
      "text/plain": [
       "4455798528"
      ]
     },
     "execution_count": 16,
     "metadata": {},
     "output_type": "execute_result"
    }
   ],
   "execution_count": 16
  },
  {
   "metadata": {},
   "cell_type": "code",
   "outputs": [],
   "execution_count": null,
   "source": "",
   "id": "d5f403a23480852e"
  }
 ],
 "metadata": {
  "kernelspec": {
   "display_name": "Python 3",
   "language": "python",
   "name": "python3"
  },
  "language_info": {
   "codemirror_mode": {
    "name": "ipython",
    "version": 2
   },
   "file_extension": ".py",
   "mimetype": "text/x-python",
   "name": "python",
   "nbconvert_exporter": "python",
   "pygments_lexer": "ipython2",
   "version": "2.7.6"
  }
 },
 "nbformat": 4,
 "nbformat_minor": 5
}
