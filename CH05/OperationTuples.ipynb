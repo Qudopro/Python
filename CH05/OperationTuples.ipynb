{
 "cells": [
  {
   "cell_type": "code",
   "id": "initial_id",
   "metadata": {
    "collapsed": true,
    "ExecuteTime": {
     "end_time": "2025-09-24T04:51:41.551668Z",
     "start_time": "2025-09-24T04:51:41.549752Z"
    }
   },
   "source": "student_tuple = ()",
   "outputs": [],
   "execution_count": 1
  },
  {
   "metadata": {
    "ExecuteTime": {
     "end_time": "2025-09-24T04:51:42.596943Z",
     "start_time": "2025-09-24T04:51:42.592640Z"
    }
   },
   "cell_type": "code",
   "source": "student_tuple",
   "id": "487ef43c310a827",
   "outputs": [
    {
     "data": {
      "text/plain": [
       "()"
      ]
     },
     "execution_count": 2,
     "metadata": {},
     "output_type": "execute_result"
    }
   ],
   "execution_count": 2
  },
  {
   "metadata": {
    "ExecuteTime": {
     "end_time": "2025-09-24T04:51:43.866291Z",
     "start_time": "2025-09-24T04:51:43.863806Z"
    }
   },
   "cell_type": "code",
   "source": "len(student_tuple)",
   "id": "73362a55dfd8aa69",
   "outputs": [
    {
     "data": {
      "text/plain": [
       "0"
      ]
     },
     "execution_count": 3,
     "metadata": {},
     "output_type": "execute_result"
    }
   ],
   "execution_count": 3
  },
  {
   "metadata": {
    "ExecuteTime": {
     "end_time": "2025-09-24T04:51:46.587183Z",
     "start_time": "2025-09-24T04:51:46.584769Z"
    }
   },
   "cell_type": "code",
   "source": "student_tuple = 'John', 'Green', 2.2",
   "id": "daee730d3329ed93",
   "outputs": [],
   "execution_count": 4
  },
  {
   "metadata": {
    "ExecuteTime": {
     "end_time": "2025-09-24T04:52:18.511528Z",
     "start_time": "2025-09-24T04:52:18.508979Z"
    }
   },
   "cell_type": "code",
   "source": "student_tuple",
   "id": "d3e9b50b90ad1bce",
   "outputs": [
    {
     "data": {
      "text/plain": [
       "('John', 'Green', 2.2)"
      ]
     },
     "execution_count": 6,
     "metadata": {},
     "output_type": "execute_result"
    }
   ],
   "execution_count": 6
  },
  {
   "metadata": {
    "ExecuteTime": {
     "end_time": "2025-06-02T01:20:28.497234Z",
     "start_time": "2025-06-02T01:20:28.494800Z"
    }
   },
   "cell_type": "code",
   "source": "len(student_tuple)",
   "id": "808d239f5adb4369",
   "outputs": [
    {
     "data": {
      "text/plain": [
       "3"
      ]
     },
     "execution_count": 6,
     "metadata": {},
     "output_type": "execute_result"
    }
   ],
   "execution_count": 6
  },
  {
   "metadata": {
    "ExecuteTime": {
     "end_time": "2025-06-02T01:20:57.380350Z",
     "start_time": "2025-06-02T01:20:57.377887Z"
    }
   },
   "cell_type": "code",
   "source": "another_student_tuple = ('John', 'Green', 2.2)",
   "id": "6634d0434bb49a46",
   "outputs": [],
   "execution_count": 7
  },
  {
   "metadata": {
    "ExecuteTime": {
     "end_time": "2025-06-02T01:21:02.275965Z",
     "start_time": "2025-06-02T01:21:02.274003Z"
    }
   },
   "cell_type": "code",
   "source": "another_student_tuple",
   "id": "37574ece359fd2ad",
   "outputs": [
    {
     "data": {
      "text/plain": [
       "('John', 'Green', 2.2)"
      ]
     },
     "execution_count": 8,
     "metadata": {},
     "output_type": "execute_result"
    }
   ],
   "execution_count": 8
  },
  {
   "metadata": {
    "ExecuteTime": {
     "end_time": "2025-09-24T04:54:23.686794Z",
     "start_time": "2025-09-24T04:54:23.685007Z"
    }
   },
   "cell_type": "code",
   "source": "a_singleton_student_tuple = ('John',)",
   "id": "84bec7316a209bb3",
   "outputs": [],
   "execution_count": 7
  },
  {
   "metadata": {
    "ExecuteTime": {
     "end_time": "2025-09-24T04:54:24.895659Z",
     "start_time": "2025-09-24T04:54:24.892887Z"
    }
   },
   "cell_type": "code",
   "source": "a_singleton_student_tuple",
   "id": "1b0e41beb6d8f2e8",
   "outputs": [
    {
     "data": {
      "text/plain": [
       "('John',)"
      ]
     },
     "execution_count": 8,
     "metadata": {},
     "output_type": "execute_result"
    }
   ],
   "execution_count": 8
  },
  {
   "metadata": {
    "ExecuteTime": {
     "end_time": "2025-09-24T04:56:39.481173Z",
     "start_time": "2025-09-24T04:56:39.478185Z"
    }
   },
   "cell_type": "code",
   "source": [
    "time_tuple = (9,16,1) #Hora, Minuto, Segundo\n",
    "time_tuple"
   ],
   "id": "be0d6c6d8ad471f0",
   "outputs": [
    {
     "data": {
      "text/plain": [
       "(9, 16, 1)"
      ]
     },
     "execution_count": 9,
     "metadata": {},
     "output_type": "execute_result"
    }
   ],
   "execution_count": 9
  },
  {
   "metadata": {
    "ExecuteTime": {
     "end_time": "2025-09-24T04:57:17.045918Z",
     "start_time": "2025-09-24T04:57:17.043342Z"
    }
   },
   "cell_type": "code",
   "source": "time_tuple[0] *3600 + time_tuple[1] *60 + time_tuple[2]  #Cuanto tiempo ha pasado desde la media noche",
   "id": "d50d2c3bbde6b991",
   "outputs": [
    {
     "data": {
      "text/plain": [
       "33361"
      ]
     },
     "execution_count": 10,
     "metadata": {},
     "output_type": "execute_result"
    }
   ],
   "execution_count": 10
  },
  {
   "metadata": {
    "ExecuteTime": {
     "end_time": "2025-09-25T23:46:52.976462Z",
     "start_time": "2025-09-25T23:46:52.974629Z"
    }
   },
   "cell_type": "code",
   "source": [
    "tuple1 = (10, 20, 30)\n",
    "tuple2 = tuple1"
   ],
   "id": "aa5ff90c079819eb",
   "outputs": [],
   "execution_count": 1
  },
  {
   "metadata": {
    "ExecuteTime": {
     "end_time": "2025-09-25T23:46:53.969778Z",
     "start_time": "2025-09-25T23:46:53.966894Z"
    }
   },
   "cell_type": "code",
   "source": [
    "tuple1 += (40, 50)\n",
    "tuple1"
   ],
   "id": "438d70f2ce517439",
   "outputs": [
    {
     "data": {
      "text/plain": [
       "(10, 20, 30, 40, 50)"
      ]
     },
     "execution_count": 2,
     "metadata": {},
     "output_type": "execute_result"
    }
   ],
   "execution_count": 2
  },
  {
   "metadata": {
    "ExecuteTime": {
     "end_time": "2025-09-25T23:46:56.325387Z",
     "start_time": "2025-09-25T23:46:56.323242Z"
    }
   },
   "cell_type": "code",
   "source": "tuple2",
   "id": "4e1b905598678578",
   "outputs": [
    {
     "data": {
      "text/plain": [
       "(10, 20, 30)"
      ]
     },
     "execution_count": 3,
     "metadata": {},
     "output_type": "execute_result"
    }
   ],
   "execution_count": 3
  },
  {
   "metadata": {
    "ExecuteTime": {
     "end_time": "2025-09-25T23:51:13.972633Z",
     "start_time": "2025-09-25T23:51:13.969964Z"
    }
   },
   "cell_type": "code",
   "source": [
    "numbers = [1,2,3,4,5]\n",
    "numbers += (6,7)\n",
    "numbers"
   ],
   "id": "443f9ddfb6d1cb8b",
   "outputs": [
    {
     "data": {
      "text/plain": [
       "[1, 2, 3, 4, 5, 6, 7]"
      ]
     },
     "execution_count": 4,
     "metadata": {},
     "output_type": "execute_result"
    }
   ],
   "execution_count": 4
  },
  {
   "metadata": {
    "ExecuteTime": {
     "end_time": "2025-09-25T23:51:19.128457Z",
     "start_time": "2025-09-25T23:51:19.125967Z"
    }
   },
   "cell_type": "code",
   "source": "student_tuple = ('Amanda', 'Blue', [98,75,97])",
   "id": "cb27274d44b6ba03",
   "outputs": [],
   "execution_count": 5
  },
  {
   "metadata": {
    "ExecuteTime": {
     "end_time": "2025-09-25T23:51:20.705717Z",
     "start_time": "2025-09-25T23:51:20.703341Z"
    }
   },
   "cell_type": "code",
   "source": "student_tuple[2][1] = 85",
   "id": "8627c2aa557c785d",
   "outputs": [],
   "execution_count": 6
  },
  {
   "metadata": {
    "ExecuteTime": {
     "end_time": "2025-09-25T23:51:26.074865Z",
     "start_time": "2025-09-25T23:51:26.072304Z"
    }
   },
   "cell_type": "code",
   "source": "student_tuple",
   "id": "1bfa3d4573aa207c",
   "outputs": [
    {
     "data": {
      "text/plain": [
       "('Amanda', 'Blue', [98, 85, 97])"
      ]
     },
     "execution_count": 7,
     "metadata": {},
     "output_type": "execute_result"
    }
   ],
   "execution_count": 7
  }
 ],
 "metadata": {
  "kernelspec": {
   "display_name": "Python 3",
   "language": "python",
   "name": "python3"
  },
  "language_info": {
   "codemirror_mode": {
    "name": "ipython",
    "version": 2
   },
   "file_extension": ".py",
   "mimetype": "text/x-python",
   "name": "python",
   "nbconvert_exporter": "python",
   "pygments_lexer": "ipython2",
   "version": "2.7.6"
  }
 },
 "nbformat": 4,
 "nbformat_minor": 5
}
