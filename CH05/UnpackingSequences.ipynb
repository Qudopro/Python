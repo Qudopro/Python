{
 "cells": [
  {
   "cell_type": "code",
   "id": "initial_id",
   "metadata": {
    "collapsed": true,
    "ExecuteTime": {
     "end_time": "2025-09-25T23:54:28.332770Z",
     "start_time": "2025-09-25T23:54:28.330728Z"
    }
   },
   "source": "student_tuple = ('Amanda', [98,85,76])",
   "outputs": [],
   "execution_count": 1
  },
  {
   "metadata": {
    "ExecuteTime": {
     "end_time": "2025-09-25T23:54:29.491196Z",
     "start_time": "2025-09-25T23:54:29.489144Z"
    }
   },
   "cell_type": "code",
   "source": "first_name, grades = student_tuple",
   "id": "5dc47bef8a1063e9",
   "outputs": [],
   "execution_count": 2
  },
  {
   "metadata": {
    "ExecuteTime": {
     "end_time": "2025-09-25T23:54:30.587746Z",
     "start_time": "2025-09-25T23:54:30.583659Z"
    }
   },
   "cell_type": "code",
   "source": "first_name",
   "id": "2b7ad8dc2dc6dbd9",
   "outputs": [
    {
     "data": {
      "text/plain": [
       "'Amanda'"
      ]
     },
     "execution_count": 3,
     "metadata": {},
     "output_type": "execute_result"
    }
   ],
   "execution_count": 3
  },
  {
   "metadata": {
    "ExecuteTime": {
     "end_time": "2025-09-25T23:54:31.818146Z",
     "start_time": "2025-09-25T23:54:31.815785Z"
    }
   },
   "cell_type": "code",
   "source": "grades",
   "id": "2068b3dde5ab0256",
   "outputs": [
    {
     "data": {
      "text/plain": [
       "[98, 85, 76]"
      ]
     },
     "execution_count": 4,
     "metadata": {},
     "output_type": "execute_result"
    }
   ],
   "execution_count": 4
  },
  {
   "metadata": {
    "ExecuteTime": {
     "end_time": "2025-09-25T23:55:07.939653Z",
     "start_time": "2025-09-25T23:55:07.937283Z"
    }
   },
   "cell_type": "code",
   "source": "first, second = 'Hi'",
   "id": "b2cd0ba9007af5a4",
   "outputs": [],
   "execution_count": 5
  },
  {
   "metadata": {
    "ExecuteTime": {
     "end_time": "2025-09-25T23:55:09.610660Z",
     "start_time": "2025-09-25T23:55:09.608357Z"
    }
   },
   "cell_type": "code",
   "source": "print(f'{first}    {second}')",
   "id": "e7ce41ace7fecea0",
   "outputs": [
    {
     "name": "stdout",
     "output_type": "stream",
     "text": [
      "H    i\n"
     ]
    }
   ],
   "execution_count": 6
  },
  {
   "metadata": {
    "ExecuteTime": {
     "end_time": "2025-09-25T23:55:37.598019Z",
     "start_time": "2025-09-25T23:55:37.595558Z"
    }
   },
   "cell_type": "code",
   "source": [
    "number1, number2, number3 = [1,2,3]\n",
    "print(f'{number1} {number2} {number3}')"
   ],
   "id": "63b181b01f5dfb5f",
   "outputs": [
    {
     "name": "stdout",
     "output_type": "stream",
     "text": [
      "1 2 3\n"
     ]
    }
   ],
   "execution_count": 7
  },
  {
   "metadata": {
    "ExecuteTime": {
     "end_time": "2025-09-25T23:57:49.980363Z",
     "start_time": "2025-09-25T23:57:49.977844Z"
    }
   },
   "cell_type": "code",
   "source": [
    "number4, number5, number6 = range(10,40,10)\n",
    "print(f'{number4} {number5} {number6}')"
   ],
   "id": "9d0e3fcd7c1d613c",
   "outputs": [
    {
     "name": "stdout",
     "output_type": "stream",
     "text": [
      "10 20 30\n"
     ]
    }
   ],
   "execution_count": 8
  },
  {
   "metadata": {
    "ExecuteTime": {
     "end_time": "2025-09-26T00:11:54.389821Z",
     "start_time": "2025-09-26T00:11:54.387659Z"
    }
   },
   "cell_type": "code",
   "source": [
    "x = 99\n",
    "y = 50\n",
    "print(f'{x} {y}')\n",
    "x, y = (y,x)\n",
    "print(f'{x} {y}')"
   ],
   "id": "a7cd35206de8a6af",
   "outputs": [
    {
     "name": "stdout",
     "output_type": "stream",
     "text": [
      "99 50\n",
      "50 99\n"
     ]
    }
   ],
   "execution_count": 9
  },
  {
   "metadata": {
    "ExecuteTime": {
     "end_time": "2025-09-26T00:19:25.713028Z",
     "start_time": "2025-09-26T00:19:25.710145Z"
    }
   },
   "cell_type": "code",
   "source": [
    "colors = ['red', 'blue', 'green', 'yellow', 'pink']\n",
    "list(enumerate(colors))"
   ],
   "id": "808a89e04df7e94d",
   "outputs": [
    {
     "data": {
      "text/plain": [
       "[(0, 'red'), (1, 'blue'), (2, 'green'), (3, 'yellow'), (4, 'pink')]"
      ]
     },
     "execution_count": 10,
     "metadata": {},
     "output_type": "execute_result"
    }
   ],
   "execution_count": 10
  },
  {
   "metadata": {
    "ExecuteTime": {
     "end_time": "2025-09-26T00:19:27.319727Z",
     "start_time": "2025-09-26T00:19:27.316939Z"
    }
   },
   "cell_type": "code",
   "source": "tuple(enumerate(colors))",
   "id": "301564cab50c56c2",
   "outputs": [
    {
     "data": {
      "text/plain": [
       "((0, 'red'), (1, 'blue'), (2, 'green'), (3, 'yellow'), (4, 'pink'))"
      ]
     },
     "execution_count": 11,
     "metadata": {},
     "output_type": "execute_result"
    }
   ],
   "execution_count": 11
  },
  {
   "metadata": {
    "ExecuteTime": {
     "end_time": "2025-09-26T00:19:28.539847Z",
     "start_time": "2025-09-26T00:19:28.537523Z"
    }
   },
   "cell_type": "code",
   "source": [
    "for index, value in enumerate(colors):\n",
    "    print(f'{index}: {value}')"
   ],
   "id": "cc1035a2b7dad147",
   "outputs": [
    {
     "name": "stdout",
     "output_type": "stream",
     "text": [
      "0: red\n",
      "1: blue\n",
      "2: green\n",
      "3: yellow\n",
      "4: pink\n"
     ]
    }
   ],
   "execution_count": 12
  },
  {
   "metadata": {},
   "cell_type": "code",
   "outputs": [],
   "execution_count": null,
   "source": "",
   "id": "2e2dceff63126982"
  }
 ],
 "metadata": {
  "kernelspec": {
   "display_name": "Python 3",
   "language": "python",
   "name": "python3"
  },
  "language_info": {
   "codemirror_mode": {
    "name": "ipython",
    "version": 2
   },
   "file_extension": ".py",
   "mimetype": "text/x-python",
   "name": "python",
   "nbconvert_exporter": "python",
   "pygments_lexer": "ipython2",
   "version": "2.7.6"
  }
 },
 "nbformat": 4,
 "nbformat_minor": 5
}
