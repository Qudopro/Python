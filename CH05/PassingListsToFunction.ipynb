{
 "cells": [
  {
   "cell_type": "code",
   "id": "initial_id",
   "metadata": {
    "collapsed": true,
    "ExecuteTime": {
     "end_time": "2025-09-26T02:49:29.135360Z",
     "start_time": "2025-09-26T02:49:29.132722Z"
    }
   },
   "source": [
    "def modify_elements(items):\n",
    "    \"\"\"Multiplies all element values in items by 2\"\"\"\n",
    "    for item in range(len(items)):\n",
    "        items[item] *= 2\n",
    "\n",
    "numbers = [10,3,7,1,9]\n",
    "modify_elements(numbers)\n",
    "print(numbers)"
   ],
   "outputs": [
    {
     "name": "stdout",
     "output_type": "stream",
     "text": [
      "[20, 6, 14, 2, 18]\n"
     ]
    }
   ],
   "execution_count": 1
  },
  {
   "metadata": {
    "ExecuteTime": {
     "end_time": "2025-06-02T02:54:16.074989Z",
     "start_time": "2025-06-02T02:54:16.001165Z"
    }
   },
   "cell_type": "code",
   "source": [
    "numbers_tuple = (10, 20, 30)\n",
    "modify_elements(numbers_tuple)\n",
    "print(numbers_tuple)"
   ],
   "id": "905107e5a7e909a1",
   "outputs": [
    {
     "ename": "TypeError",
     "evalue": "'tuple' object does not support item assignment",
     "output_type": "error",
     "traceback": [
      "\u001B[31m---------------------------------------------------------------------------\u001B[39m",
      "\u001B[31mTypeError\u001B[39m                                 Traceback (most recent call last)",
      "\u001B[36mCell\u001B[39m\u001B[36m \u001B[39m\u001B[32mIn[2]\u001B[39m\u001B[32m, line 2\u001B[39m\n\u001B[32m      1\u001B[39m numbers_tuple = (\u001B[32m10\u001B[39m, \u001B[32m20\u001B[39m, \u001B[32m30\u001B[39m)\n\u001B[32m----> \u001B[39m\u001B[32m2\u001B[39m \u001B[43mmodify_elements\u001B[49m\u001B[43m(\u001B[49m\u001B[43mnumbers_tuple\u001B[49m\u001B[43m)\u001B[49m\n\u001B[32m      3\u001B[39m \u001B[38;5;28mprint\u001B[39m(numbers_tuple)\n",
      "\u001B[36mCell\u001B[39m\u001B[36m \u001B[39m\u001B[32mIn[1]\u001B[39m\u001B[32m, line 4\u001B[39m, in \u001B[36mmodify_elements\u001B[39m\u001B[34m(items)\u001B[39m\n\u001B[32m      2\u001B[39m \u001B[38;5;250m\u001B[39m\u001B[33;03m\"\"\"Multiplies all element values in items by 2\"\"\"\u001B[39;00m\n\u001B[32m      3\u001B[39m \u001B[38;5;28;01mfor\u001B[39;00m item \u001B[38;5;129;01min\u001B[39;00m \u001B[38;5;28mrange\u001B[39m(\u001B[38;5;28mlen\u001B[39m(items)):\n\u001B[32m----> \u001B[39m\u001B[32m4\u001B[39m     \u001B[43mitems\u001B[49m\u001B[43m[\u001B[49m\u001B[43mitem\u001B[49m\u001B[43m]\u001B[49m *= \u001B[32m2\u001B[39m\n",
      "\u001B[31mTypeError\u001B[39m: 'tuple' object does not support item assignment"
     ]
    }
   ],
   "execution_count": 2
  },
  {
   "metadata": {},
   "cell_type": "code",
   "outputs": [],
   "execution_count": null,
   "source": "",
   "id": "130c1b5a3024d6b4"
  }
 ],
 "metadata": {
  "kernelspec": {
   "display_name": "Python 3",
   "language": "python",
   "name": "python3"
  },
  "language_info": {
   "codemirror_mode": {
    "name": "ipython",
    "version": 2
   },
   "file_extension": ".py",
   "mimetype": "text/x-python",
   "name": "python",
   "nbconvert_exporter": "python",
   "pygments_lexer": "ipython2",
   "version": "2.7.6"
  }
 },
 "nbformat": 4,
 "nbformat_minor": 5
}
