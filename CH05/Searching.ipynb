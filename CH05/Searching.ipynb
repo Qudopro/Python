{
 "cells": [
  {
   "metadata": {
    "ExecuteTime": {
     "end_time": "2025-09-26T05:25:46.246990Z",
     "start_time": "2025-09-26T05:25:46.244169Z"
    }
   },
   "cell_type": "code",
   "source": [
    "numbers = [1, 2, 3, 4, 5, 6, 7, 8, 9, 10]\n",
    "numbers.index(6)"
   ],
   "id": "bd84196e8ea69782",
   "outputs": [
    {
     "data": {
      "text/plain": [
       "5"
      ]
     },
     "execution_count": 1,
     "metadata": {},
     "output_type": "execute_result"
    }
   ],
   "execution_count": 1
  },
  {
   "metadata": {
    "ExecuteTime": {
     "end_time": "2025-09-26T05:31:17.706118Z",
     "start_time": "2025-09-26T05:31:17.704006Z"
    }
   },
   "cell_type": "code",
   "source": [
    "numbers *= 2\n",
    "print(numbers)"
   ],
   "id": "9b699998bfc28da5",
   "outputs": [
    {
     "name": "stdout",
     "output_type": "stream",
     "text": [
      "[1, 2, 3, 4, 5, 6, 7, 8, 9, 10, 1, 2, 3, 4, 5, 6, 7, 8, 9, 10]\n"
     ]
    }
   ],
   "execution_count": 2
  },
  {
   "metadata": {
    "ExecuteTime": {
     "end_time": "2025-09-26T05:31:19.753650Z",
     "start_time": "2025-09-26T05:31:19.750916Z"
    }
   },
   "cell_type": "code",
   "source": "numbers.index(5,7)",
   "id": "e98f286316b23b4c",
   "outputs": [
    {
     "data": {
      "text/plain": [
       "14"
      ]
     },
     "execution_count": 3,
     "metadata": {},
     "output_type": "execute_result"
    }
   ],
   "execution_count": 3
  },
  {
   "metadata": {
    "ExecuteTime": {
     "end_time": "2025-09-26T05:34:16.160443Z",
     "start_time": "2025-09-26T05:34:16.157533Z"
    }
   },
   "cell_type": "code",
   "source": "numbers.index(5, 7, len(numbers))",
   "id": "1b8347f4f0af4d88",
   "outputs": [
    {
     "data": {
      "text/plain": [
       "14"
      ]
     },
     "execution_count": 4,
     "metadata": {},
     "output_type": "execute_result"
    }
   ],
   "execution_count": 4
  },
  {
   "metadata": {
    "ExecuteTime": {
     "end_time": "2025-09-26T05:34:17.506363Z",
     "start_time": "2025-09-26T05:34:17.503674Z"
    }
   },
   "cell_type": "code",
   "source": "1000 in numbers",
   "id": "2cb87d395aa45fc6",
   "outputs": [
    {
     "data": {
      "text/plain": [
       "False"
      ]
     },
     "execution_count": 5,
     "metadata": {},
     "output_type": "execute_result"
    }
   ],
   "execution_count": 5
  },
  {
   "metadata": {
    "ExecuteTime": {
     "end_time": "2025-09-26T05:34:29.520342Z",
     "start_time": "2025-09-26T05:34:29.517738Z"
    }
   },
   "cell_type": "code",
   "source": "5 in numbers",
   "id": "24ab4e4d927e02c8",
   "outputs": [
    {
     "data": {
      "text/plain": [
       "True"
      ]
     },
     "execution_count": 8,
     "metadata": {},
     "output_type": "execute_result"
    }
   ],
   "execution_count": 8
  },
  {
   "metadata": {
    "ExecuteTime": {
     "end_time": "2025-09-26T05:35:06.307082Z",
     "start_time": "2025-09-26T05:35:06.304232Z"
    }
   },
   "cell_type": "code",
   "source": "1000 not in numbers",
   "id": "21b00db5a95a435c",
   "outputs": [
    {
     "data": {
      "text/plain": [
       "True"
      ]
     },
     "execution_count": 9,
     "metadata": {},
     "output_type": "execute_result"
    }
   ],
   "execution_count": 9
  },
  {
   "metadata": {
    "ExecuteTime": {
     "end_time": "2025-09-26T05:35:08.832487Z",
     "start_time": "2025-09-26T05:35:08.830022Z"
    }
   },
   "cell_type": "code",
   "source": "5 not in numbers",
   "id": "1ea94c6a6d2bf70a",
   "outputs": [
    {
     "data": {
      "text/plain": [
       "False"
      ]
     },
     "execution_count": 10,
     "metadata": {},
     "output_type": "execute_result"
    }
   ],
   "execution_count": 10
  },
  {
   "metadata": {
    "ExecuteTime": {
     "end_time": "2025-09-26T05:37:53.792807Z",
     "start_time": "2025-09-26T05:37:53.790330Z"
    }
   },
   "cell_type": "code",
   "source": [
    "key = 1000\n",
    "if key in numbers:\n",
    "    print(f'found {key} at index {numbers.index(key)}')\n",
    "else:\n",
    "    print(f'{key} not found')"
   ],
   "id": "b0e4a98c284b3e96",
   "outputs": [
    {
     "name": "stdout",
     "output_type": "stream",
     "text": [
      "1000 not found\n"
     ]
    }
   ],
   "execution_count": 12
  },
  {
   "metadata": {},
   "cell_type": "code",
   "outputs": [],
   "execution_count": null,
   "source": "",
   "id": "540b0b25d922944e"
  }
 ],
 "metadata": {
  "kernelspec": {
   "display_name": "Python 3",
   "language": "python",
   "name": "python3"
  },
  "language_info": {
   "codemirror_mode": {
    "name": "ipython",
    "version": 2
   },
   "file_extension": ".py",
   "mimetype": "text/x-python",
   "name": "python",
   "nbconvert_exporter": "python",
   "pygments_lexer": "ipython2",
   "version": "2.7.6"
  }
 },
 "nbformat": 4,
 "nbformat_minor": 5
}
